{
 "cells": [
  {
   "cell_type": "code",
   "execution_count": 1,
   "metadata": {},
   "outputs": [],
   "source": [
    "import pandas as pd\n",
    "import math\n",
    "import random\n",
    "import numpy as np\n",
    "import sklearn\n",
    "import scipy \n",
    "import matplotlib.pyplot as plt \n",
    "import statsmodels.api as sm\n",
    "from sklearn.linear_model import LogisticRegression\n",
    "from sklearn.tree import DecisionTreeClassifier\n",
    "from sklearn.naive_bayes import GaussianNB \n",
    "from sklearn.preprocessing import OneHotEncoder \n",
    " "
   ]
  },
  {
   "cell_type": "code",
   "execution_count": 2,
   "metadata": {},
   "outputs": [],
   "source": [
    "def fillNAN_orig(df): \n",
    "    df.loc[df['flag_fthb']=='9','flag_fthb']='X'\n",
    "    df.loc[df['cnt_borr']==99,'cnt_borr']='X'\n",
    "    df.loc[df['cnt_units']==99,'cnt_units']='X'\n",
    "    df.loc[df['fico']==9999, 'fico']='X'\n",
    "    df.loc[df['cltv']==999, 'cltv']='X'\n",
    "    df.loc[df['dti']==999, 'dti']='X'\n",
    "    df.loc[df['mi_pct']==999,'mi_pct']='X'\n",
    "    df.loc[df['occpy_sts']==9,'occpy_sts']='X'\n",
    "    df.loc[df['channel'] ==9, 'channel']='X'\n",
    "    df['ppmt_pnlty'] = df['ppmt_pnlty'].fillna('X')\n",
    "    df.loc[df['prop_type'] ==99,  'prop_type']='X'\n",
    "    df.loc[df['loan_purpose'] ==9, 'loan_purpose']='X' \n",
    "    return df"
   ]
  },
  {
   "cell_type": "code",
   "execution_count": 3,
   "metadata": {},
   "outputs": [],
   "source": [
    "def prepare_data_for_model(df):\n",
    "    dummies1 = pd.get_dummies(df['flag_fthb']).rename(columns=lambda x: 'flag_fthb' + str(x))\n",
    "    train_df = pd.concat([df, dummies1], axis=1)\n",
    "    \n",
    "    dummies2 = pd.get_dummies(df['occpy_sts']).rename(columns=lambda x: 'occpy_sts' + str(x)) \n",
    "    train_df = pd.concat([train_df, dummies2], axis=1)\n",
    "    \n",
    "    dummies3 = pd.get_dummies(df['channel']).rename(columns=lambda x: 'channel' + str(x)) \n",
    "    train_df = pd.concat([train_df, dummies3], axis=1)\n",
    "    \n",
    "    dummies4 = pd.get_dummies(df['ppmt_pnlty']).rename(columns=lambda x: 'ppmt_pnlty' + str(x)) \n",
    "    train_df = pd.concat([train_df, dummies4], axis=1)\n",
    "    \n",
    "    dummies5 = pd.get_dummies(df['prop_type']).rename(columns=lambda x: 'prop_type' + str(x)) \n",
    "    train_df = pd.concat([train_df, dummies5], axis=1)\n",
    "    \n",
    "    dummies6 = pd.get_dummies(df['loan_purpose']).rename(columns=lambda x: 'loan_purpose' + str(x)) \n",
    "    train_df = pd.concat([train_df, dummies6], axis=1)\n",
    "\n",
    "    dummies7 = pd.get_dummies(df['fico_range']).rename(columns=lambda x: 'fico' + str(x)) \n",
    "    train_df = pd.concat([train_df, dummies7], axis=1)\n",
    "\n",
    "    dummies8 = pd.get_dummies(df['cltv_range']).rename(columns=lambda x: 'cltv' + str(x)) \n",
    "    train_df = pd.concat([train_df, dummies8], axis=1)\n",
    "    \n",
    "    dummies9 = pd.get_dummies(df['mi_type']).rename(columns=lambda x: 'mi_pct' + str(x)) \n",
    "    train_df = pd.concat([train_df, dummies9], axis=1)\n",
    "\n",
    "    dummies10 = pd.get_dummies(df['cnt_units']).rename(columns=lambda x: 'cnt_units' + str(x)) \n",
    "    train_df = pd.concat([train_df, dummies10], axis=1)    \n",
    "\n",
    "    dummies11 = pd.get_dummies(df['int_rt_range']).rename(columns=lambda x: 'int_rt' + str(x)) \n",
    "    train_df = pd.concat([train_df, dummies11], axis=1)   \n",
    "\n",
    "    dummies12 = pd.get_dummies(df['upb_range']).rename(columns=lambda x: 'orig_upb' + str(x)) \n",
    "    train_df = pd.concat([train_df, dummies12], axis=1)  \n",
    "    \n",
    "    dummies13 = pd.get_dummies(df['cnt_borr']).rename(columns=lambda x: 'cnt_borr' + str(x)) \n",
    "    train_df = pd.concat([train_df, dummies13], axis=1)\n",
    "    \n",
    "    dummies14 = pd.get_dummies(df['dti_range']).rename(columns=lambda x: 'dti' + str(x)) \n",
    "    train_df = pd.concat([train_df, dummies14], axis=1)   \n",
    "\n",
    "    dummies15 = pd.get_dummies(df['term_type']).rename(columns=lambda x: 'loan_term' + str(x)) \n",
    "    train_df = pd.concat([train_df, dummies15], axis=1)\n",
    "    return train_df"
   ]
  },
  {
   "cell_type": "code",
   "execution_count": 4,
   "metadata": {},
   "outputs": [
    {
     "data": {
      "text/plain": [
       "<AxesSubplot:>"
      ]
     },
     "execution_count": 4,
     "metadata": {},
     "output_type": "execute_result"
    },
    {
     "data": {
      "image/png": "[encoded data removed]",
      "text/plain": [
       "<Figure size 432x288 with 2 Axes>"
      ]
     },
     "metadata": {
      "needs_background": "light"
     },
     "output_type": "display_data"
    }
   ],
   "source": [
    "sample_df= pd.read_csv('D:\\Franddie Mea\\d90_perfor - Copy.csv', sep=\",\") \n",
    "sample_df2= sample_df\n",
    "\n",
    "import seaborn as sns\n",
    "import matplotlib.pyplot as plt  \n",
    "\n",
    "sns.heatmap(sample_df[['fico', 'mi_pct', 'cnt_units', 'cltv', 'dti', 'orig_upb', 'int_rt','orig_loan_term', 'cnt_borr']].corr())\n"
   ]
  },
  {
   "cell_type": "code",
   "execution_count": 5,
   "metadata": {},
   "outputs": [
    {
     "data": {
      "text/plain": [
       "Index(['fico', 'flag_fthb', 'mi_pct', 'cnt_units', 'occpy_sts', 'cltv', 'dti',\n",
       "       'orig_upb', 'int_rt', 'channel', 'ppmt_pnlty', 'prop_type',\n",
       "       'loan_purpose', 'orig_loan_term', 'cnt_borr', 'ever_d90'],\n",
       "      dtype='object')"
      ]
     },
     "execution_count": 5,
     "metadata": {},
     "output_type": "execute_result"
    }
   ],
   "source": [
    "sample_df= fillNAN_orig(sample_df)\n",
    "sample_df= sample_df[['fico','flag_fthb', \"mi_pct\",'cnt_units', 'occpy_sts', 'cltv', 'dti', 'orig_upb',  'int_rt',\n",
    "                 'channel', 'ppmt_pnlty', 'prop_type', 'loan_purpose', 'orig_loan_term', 'cnt_borr', 'ever_d90']]\n",
    "sample_df.columns"
   ]
  },
  {
   "cell_type": "code",
   "execution_count": 6,
   "metadata": {
    "scrolled": true
   },
   "outputs": [
    {
     "data": {
      "text/plain": [
       "fico              0\n",
       "flag_fthb         0\n",
       "mi_pct            0\n",
       "cnt_units         0\n",
       "occpy_sts         0\n",
       "cltv              0\n",
       "dti               0\n",
       "orig_upb          0\n",
       "int_rt            0\n",
       "channel           0\n",
       "ppmt_pnlty        0\n",
       "prop_type         0\n",
       "loan_purpose      0\n",
       "orig_loan_term    0\n",
       "cnt_borr          0\n",
       "ever_d90          0\n",
       "dtype: int64"
      ]
     },
     "execution_count": 6,
     "metadata": {},
     "output_type": "execute_result"
    }
   ],
   "source": [
    "sample_df.isnull().sum()"
   ]
  },
  {
   "cell_type": "code",
   "execution_count": 7,
   "metadata": {
    "scrolled": true
   },
   "outputs": [
    {
     "name": "stdout",
     "output_type": "stream",
     "text": [
      "786    377\n",
      "790    374\n",
      "791    373\n",
      "784    373\n",
      "773    363\n",
      "      ... \n",
      "536      1\n",
      "535      1\n",
      "533      1\n",
      "527      1\n",
      "850      1\n",
      "Name: fico, Length: 331, dtype: int64\n",
      "N    39341\n",
      "X     6066\n",
      "Y     4097\n",
      "Name: flag_fthb, dtype: int64\n",
      "0     42669\n",
      "25     2657\n",
      "30     1769\n",
      "12     1149\n",
      "35      614\n",
      "17      293\n",
      "6       154\n",
      "X        43\n",
      "27       29\n",
      "32       26\n",
      "18       18\n",
      "16       17\n",
      "14       17\n",
      "22       16\n",
      "40        8\n",
      "20        8\n",
      "37        5\n",
      "13        4\n",
      "9         4\n",
      "26        1\n",
      "19        1\n",
      "33        1\n",
      "8         1\n",
      "Name: mi_pct, dtype: int64\n",
      "1    48492\n",
      "2      799\n",
      "3      114\n",
      "4       99\n",
      "Name: cnt_units, dtype: int64\n",
      "P    45473\n",
      "S     2368\n",
      "I     1663\n",
      "Name: occpy_sts, dtype: int64\n",
      "80     10036\n",
      "95      3384\n",
      "90      3248\n",
      "70      1622\n",
      "75      1259\n",
      "       ...  \n",
      "106        1\n",
      "107        1\n",
      "110        1\n",
      "113        1\n",
      "118        1\n",
      "Name: cltv, Length: 112, dtype: int64\n",
      "X     1590\n",
      "35    1538\n",
      "33    1501\n",
      "38    1482\n",
      "34    1471\n",
      "      ... \n",
      "5       61\n",
      "4       37\n",
      "3       27\n",
      "2       11\n",
      "1       10\n",
      "Name: dti, Length: 66, dtype: int64\n",
      "360000    934\n",
      "100000    870\n",
      "200000    778\n",
      "150000    706\n",
      "120000    537\n",
      "         ... \n",
      "610000      1\n",
      "421000      1\n",
      "438000      1\n",
      "455000      1\n",
      "507000      1\n",
      "Name: orig_upb, Length: 463, dtype: int64\n",
      "5.875    9104\n",
      "5.750    6922\n",
      "5.625    5182\n",
      "5.500    5020\n",
      "6.000    4795\n",
      "         ... \n",
      "8.375       1\n",
      "5.670       1\n",
      "5.939       1\n",
      "6.185       1\n",
      "6.805       1\n",
      "Name: int_rt, Length: 156, dtype: int64\n",
      "T    27052\n",
      "R    22452\n",
      "Name: channel, dtype: int64\n",
      "N    49462\n",
      "X       34\n",
      "Y        8\n",
      "Name: ppmt_pnlty, dtype: int64\n",
      "SF    39250\n",
      "PU     6094\n",
      "CO     3324\n",
      "MH      677\n",
      "CP      159\n",
      "Name: prop_type, dtype: int64\n",
      "P    19169\n",
      "C    18616\n",
      "N    11719\n",
      "Name: loan_purpose, dtype: int64\n",
      "360    38241\n",
      "180     7360\n",
      "240     2613\n",
      "120      644\n",
      "300      380\n",
      "       ...  \n",
      "344        1\n",
      "296        1\n",
      "264        1\n",
      "179        1\n",
      "236        1\n",
      "Name: orig_loan_term, Length: 90, dtype: int64\n",
      "2    28723\n",
      "1    20761\n",
      "X       20\n",
      "Name: cnt_borr, dtype: int64\n",
      "0    48786\n",
      "1      718\n",
      "Name: ever_d90, dtype: int64\n"
     ]
    }
   ],
   "source": [
    "for i in sample_df.columns.tolist():\n",
    "    print(sample_df[i].value_counts())"
   ]
  },
  {
   "cell_type": "code",
   "execution_count": 8,
   "metadata": {
    "scrolled": true
   },
   "outputs": [
    {
     "name": "stderr",
     "output_type": "stream",
     "text": [
      "<ipython-input-8-8d5dd0f32352>:1: SettingWithCopyWarning: \n",
      "A value is trying to be set on a copy of a slice from a DataFrame.\n",
      "Try using .loc[row_indexer,col_indexer] = value instead\n",
      "\n",
      "See the caveats in the documentation: https://pandas.pydata.org/pandas-docs/stable/user_guide/indexing.html#returning-a-view-versus-a-copy\n",
      "  sample_df['int_rt_range']='null'\n",
      "D:\\Program Files (x86)\\Anaconda\\lib\\site-packages\\pandas\\core\\indexing.py:1765: SettingWithCopyWarning: \n",
      "A value is trying to be set on a copy of a slice from a DataFrame.\n",
      "Try using .loc[row_indexer,col_indexer] = value instead\n",
      "\n",
      "See the caveats in the documentation: https://pandas.pydata.org/pandas-docs/stable/user_guide/indexing.html#returning-a-view-versus-a-copy\n",
      "  isetter(loc, value)\n"
     ]
    }
   ],
   "source": [
    "sample_df['int_rt_range']='null'\n",
    "\n",
    "for i in range(len(sample_df['int_rt'])): \n",
    "    if  sample_df.loc[i, 'int_rt'] >4.249  and sample_df.loc[i, 'int_rt']<=  5.5:\n",
    "        sample_df.loc[i,  'int_rt_range'] ='(4.249, 5.5]'     \n",
    "    elif  sample_df.loc[i, 'int_rt'] >5.5 and sample_df.loc[i, 'int_rt'] <=5.75:\n",
    "        sample_df.loc[i,  'int_rt_range'] = '(5.5, 5.75]'    \n",
    "    elif sample_df.loc[i, 'int_rt'] >5.75 and sample_df.loc[i, 'int_rt']<=6.0:\n",
    "        sample_df.loc[i,  'int_rt_range'] = '(5.75, 6.0]'\n",
    "    elif sample_df.loc[i, 'int_rt'] >6.0 and sample_df.loc[i, 'int_rt']<=6.495:\n",
    "        sample_df.loc[i,  'int_rt_range'] = '(6.0, 6.495]'\n",
    "    elif sample_df.loc[i, 'int_rt'] >6.495 and sample_df.loc[i, 'int_rt']<= 8.375:\n",
    "        sample_df.loc[i,  'int_rt_range'] = '(6.495, 8.375]'"
   ]
  },
  {
   "cell_type": "code",
   "execution_count": 9,
   "metadata": {},
   "outputs": [
    {
     "name": "stdout",
     "output_type": "stream",
     "text": [
      "int_rt_range\n",
      "(4.249, 5.5]      0.006869\n",
      "(5.5, 5.75]       0.011513\n",
      "(5.75, 6.0]       0.015580\n",
      "(6.0, 6.495]      0.023216\n",
      "(6.495, 8.375]    0.033204\n",
      "Name: ever_d90, dtype: float64\n",
      "(5.75, 6.0]       14121\n",
      "(4.249, 5.5]      12811\n",
      "(5.5, 5.75]       12160\n",
      "(6.0, 6.495]       7581\n",
      "(6.495, 8.375]     2831\n",
      "Name: int_rt_range, dtype: int64\n"
     ]
    }
   ],
   "source": [
    "print(sample_df.groupby(sample_df['int_rt_range'])['ever_d90'].mean())\n",
    "print(sample_df['int_rt_range'].value_counts())"
   ]
  },
  {
   "cell_type": "code",
   "execution_count": 10,
   "metadata": {},
   "outputs": [
    {
     "name": "stderr",
     "output_type": "stream",
     "text": [
      "<ipython-input-10-9b1378c48653>:1: SettingWithCopyWarning: \n",
      "A value is trying to be set on a copy of a slice from a DataFrame.\n",
      "Try using .loc[row_indexer,col_indexer] = value instead\n",
      "\n",
      "See the caveats in the documentation: https://pandas.pydata.org/pandas-docs/stable/user_guide/indexing.html#returning-a-view-versus-a-copy\n",
      "  sample_df['dti_range']='X'\n"
     ]
    }
   ],
   "source": [
    "sample_df['dti_range']='X' \n",
    "\n",
    "for i in range(len(sample_df['dti'])): \n",
    "    if sample_df.loc[i, 'dti']=='X':\n",
    "        sample_df.loc[i,  'dti_range'] = 'X'\n",
    "    elif  sample_df.loc[i, 'dti'] >0.999  and sample_df.loc[i, 'dti']<=  10.0:\n",
    "        sample_df.loc[i,  'dti_range'] ='(0.999, 10.0]'     \n",
    "    elif  sample_df.loc[i, 'dti'] >10.0 and sample_df.loc[i, 'dti'] <=25:\n",
    "        sample_df.loc[i,  'dti_range'] = '(10.0, 25.0]'  \n",
    "    elif  sample_df.loc[i, 'dti'] >25.0 and sample_df.loc[i, 'dti'] <=25:\n",
    "        sample_df.loc[i,  'dti_range'] = '(10.0, 25.0]'          \n",
    "    elif sample_df.loc[i, 'dti'] >25 and sample_df.loc[i, 'dti']<=35.0:\n",
    "        sample_df.loc[i,  'dti_range'] = '(25.0, 35.0]'\n",
    "    elif sample_df.loc[i, 'dti'] >35.0 and sample_df.loc[i, 'dti']<=44:\n",
    "        sample_df.loc[i,  'dti_range'] = '(35.0, 44.0]'\n",
    "    elif sample_df.loc[i, 'dti'] >44 and sample_df.loc[i, 'dti']<= 60:\n",
    "        sample_df.loc[i,  'dti_range'] = '(44.0, 60.0]' \n",
    "    elif sample_df.loc[i, 'dti'] >60 and sample_df.loc[i, 'dti']<= 65.0:\n",
    "        sample_df.loc[i,  'dti_range'] = '(60.0, 65.0]' \n",
    "         "
   ]
  },
  {
   "cell_type": "code",
   "execution_count": 11,
   "metadata": {},
   "outputs": [
    {
     "name": "stdout",
     "output_type": "stream",
     "text": [
      "dti_range\n",
      "(0.999, 10.0]    0.006889\n",
      "(10.0, 25.0]     0.008613\n",
      "(25.0, 35.0]     0.012636\n",
      "(35.0, 44.0]     0.016953\n",
      "(44.0, 60.0]     0.019166\n",
      "(60.0, 65.0]     0.017801\n",
      "X                0.018868\n",
      "Name: ever_d90, dtype: float64\n",
      "(25.0, 35.0]     13454\n",
      "(35.0, 44.0]     12446\n",
      "(44.0, 60.0]     10435\n",
      "(10.0, 25.0]      9753\n",
      "X                 1590\n",
      "(60.0, 65.0]       955\n",
      "(0.999, 10.0]      871\n",
      "Name: dti_range, dtype: int64\n"
     ]
    }
   ],
   "source": [
    "print(sample_df.groupby(sample_df['dti_range'])['ever_d90'].mean())\n",
    "print(sample_df['dti_range'].value_counts())"
   ]
  },
  {
   "cell_type": "code",
   "execution_count": 12,
   "metadata": {},
   "outputs": [
    {
     "name": "stderr",
     "output_type": "stream",
     "text": [
      "<ipython-input-12-8826a0793f8a>:1: SettingWithCopyWarning: \n",
      "A value is trying to be set on a copy of a slice from a DataFrame.\n",
      "Try using .loc[row_indexer,col_indexer] = value instead\n",
      "\n",
      "See the caveats in the documentation: https://pandas.pydata.org/pandas-docs/stable/user_guide/indexing.html#returning-a-view-versus-a-copy\n",
      "  sample_df['mi_type']='X'\n",
      "D:\\Program Files (x86)\\Anaconda\\lib\\site-packages\\pandas\\core\\indexing.py:1745: SettingWithCopyWarning: \n",
      "A value is trying to be set on a copy of a slice from a DataFrame.\n",
      "Try using .loc[row_indexer,col_indexer] = value instead\n",
      "\n",
      "See the caveats in the documentation: https://pandas.pydata.org/pandas-docs/stable/user_guide/indexing.html#returning-a-view-versus-a-copy\n",
      "  isetter(ilocs[0], value)\n"
     ]
    }
   ],
   "source": [
    "sample_df['mi_type']='X' \n",
    "sample_df.loc[sample_df['mi_pct']!='X', 'mi_type']= ['With_MI' if x>0 else 'Without_MI' for x in sample_df.loc[sample_df['mi_pct']!='X','mi_pct']]"
   ]
  },
  {
   "cell_type": "code",
   "execution_count": 13,
   "metadata": {},
   "outputs": [
    {
     "name": "stdout",
     "output_type": "stream",
     "text": [
      "mi_type\n",
      "With_MI       0.033863\n",
      "Without_MI    0.011413\n",
      "X             0.023256\n",
      "Name: ever_d90, dtype: float64\n",
      "Without_MI    42669\n",
      "With_MI        6792\n",
      "X                43\n",
      "Name: mi_type, dtype: int64\n"
     ]
    }
   ],
   "source": [
    "print(sample_df.groupby(sample_df['mi_type'])['ever_d90'].mean())\n",
    "print(sample_df['mi_type'].value_counts())"
   ]
  },
  {
   "cell_type": "code",
   "execution_count": 14,
   "metadata": {},
   "outputs": [
    {
     "name": "stderr",
     "output_type": "stream",
     "text": [
      "<ipython-input-14-90eb17458113>:1: SettingWithCopyWarning: \n",
      "A value is trying to be set on a copy of a slice from a DataFrame.\n",
      "Try using .loc[row_indexer,col_indexer] = value instead\n",
      "\n",
      "See the caveats in the documentation: https://pandas.pydata.org/pandas-docs/stable/user_guide/indexing.html#returning-a-view-versus-a-copy\n",
      "  sample_df['upb_range']='X'\n"
     ]
    }
   ],
   "source": [
    "sample_df['upb_range']='X' \n",
    "\n",
    "for i in range(len(sample_df[\"orig_upb\"])): \n",
    "    if sample_df.loc[i, \"orig_upb\"]=='X':\n",
    "        sample_df.loc[i,  'upb_range'] = 'X'\n",
    "    elif  sample_df.loc[i, \"orig_upb\"] >9999.999  and sample_df.loc[i, \"orig_upb\"]<=  20000.0:\n",
    "        sample_df.loc[i,  'upb_range'] ='(9999.999, 20000.0]'     \n",
    "    elif  sample_df.loc[i, \"orig_upb\"] >20000.0 and sample_df.loc[i, \"orig_upb\"] <=120000.0:\n",
    "        sample_df.loc[i,  'upb_range'] = '(20000.0, 120000.0]'  \n",
    "    elif  sample_df.loc[i, \"orig_upb\"] >120000.0 and sample_df.loc[i, \"orig_upb\"] <=200000.0:\n",
    "        sample_df.loc[i,  'upb_range'] = '(120000.0, 200000.0]'          \n",
    "    elif sample_df.loc[i, \"orig_upb\"] >200000.0 and sample_df.loc[i, \"orig_upb\"]<=330000.0:\n",
    "        sample_df.loc[i,  'upb_range'] = '(200000.0, 330000.0]'\n",
    "    elif sample_df.loc[i, \"orig_upb\"] >330000.0 and sample_df.loc[i, \"orig_upb\"]<=420000.0:\n",
    "        sample_df.loc[i,  'upb_range'] = '(330000.0, 420000.0]'\n",
    "    elif sample_df.loc[i, \"orig_upb\"] >420000.0 and sample_df.loc[i, \"orig_upb\"]<= 692000.0:\n",
    "        sample_df.loc[i,  'upb_range'] = '(420000.0, 692000.0]'  "
   ]
  },
  {
   "cell_type": "code",
   "execution_count": 15,
   "metadata": {},
   "outputs": [
    {
     "name": "stdout",
     "output_type": "stream",
     "text": [
      "upb_range\n",
      "(120000.0, 200000.0]    0.014070\n",
      "(20000.0, 120000.0]     0.017059\n",
      "(200000.0, 330000.0]    0.012535\n",
      "(330000.0, 420000.0]    0.010895\n",
      "(420000.0, 692000.0]    0.011111\n",
      "(9999.999, 20000.0]     0.022222\n",
      "Name: ever_d90, dtype: float64\n",
      "(120000.0, 200000.0]    17200\n",
      "(20000.0, 120000.0]     16707\n",
      "(200000.0, 330000.0]    12525\n",
      "(330000.0, 420000.0]     2937\n",
      "(420000.0, 692000.0]       90\n",
      "(9999.999, 20000.0]        45\n",
      "Name: upb_range, dtype: int64\n"
     ]
    }
   ],
   "source": [
    "print(sample_df.groupby(sample_df['upb_range'])['ever_d90'].mean())\n",
    "print(sample_df['upb_range'].value_counts())"
   ]
  },
  {
   "cell_type": "code",
   "execution_count": 16,
   "metadata": {},
   "outputs": [
    {
     "name": "stderr",
     "output_type": "stream",
     "text": [
      "<ipython-input-16-e19bcfb509e3>:1: SettingWithCopyWarning: \n",
      "A value is trying to be set on a copy of a slice from a DataFrame.\n",
      "Try using .loc[row_indexer,col_indexer] = value instead\n",
      "\n",
      "See the caveats in the documentation: https://pandas.pydata.org/pandas-docs/stable/user_guide/indexing.html#returning-a-view-versus-a-copy\n",
      "  sample_df['fico_range']='X'\n"
     ]
    }
   ],
   "source": [
    "sample_df['fico_range']='X' \n",
    "\n",
    "for i in range(len(sample_df['fico'])): \n",
    "    if sample_df.loc[i, 'fico']=='X':\n",
    "        sample_df.loc[i,  'fico_range'] = 'X'\n",
    "    elif  sample_df.loc[i, 'fico'] >299.999  and sample_df.loc[i, 'fico']<=  580.0:\n",
    "        sample_df.loc[i,  'fico_range'] ='(299.999, 580.0]'     \n",
    "    elif  sample_df.loc[i, 'fico'] >580.0 and sample_df.loc[i, 'fico'] <=610.0:\n",
    "        sample_df.loc[i,  'fico_range'] = '(580.0, 610.0]'  \n",
    "    elif  sample_df.loc[i, 'fico'] >610.0 and sample_df.loc[i, 'fico'] <=673.0:\n",
    "        sample_df.loc[i,  'fico_range'] = '(610.0, 673.0]'          \n",
    "    elif sample_df.loc[i, 'fico'] >673.0 and sample_df.loc[i, 'fico']<=749.0:\n",
    "        sample_df.loc[i,  'fico_range'] = '(673.0, 749.0]'\n",
    "    elif sample_df.loc[i, 'fico'] >749.0 and sample_df.loc[i,  'fico']<=779.0:\n",
    "        sample_df.loc[i,  'fico_range'] = '(749.0, 779.0]'\n",
    "    elif sample_df.loc[i, 'fico'] >779.0 and sample_df.loc[i, 'fico']<= 850.0:\n",
    "        sample_df.loc[i,  'fico_range'] = '(779.0, 850.0]'  \n",
    " "
   ]
  },
  {
   "cell_type": "code",
   "execution_count": 17,
   "metadata": {},
   "outputs": [
    {
     "name": "stdout",
     "output_type": "stream",
     "text": [
      "fico_range\n",
      "(299.999, 580.0]    0.076453\n",
      "(580.0, 610.0]      0.087294\n",
      "(610.0, 673.0]      0.034988\n",
      "(673.0, 749.0]      0.012034\n",
      "(749.0, 779.0]      0.004402\n",
      "(779.0, 850.0]      0.001538\n",
      "X                   0.083333\n",
      "Name: ever_d90, dtype: float64\n",
      "(673.0, 749.0]      19943\n",
      "(749.0, 779.0]       9768\n",
      "(779.0, 850.0]       9751\n",
      "(610.0, 673.0]       8660\n",
      "(580.0, 610.0]       1031\n",
      "(299.999, 580.0]      327\n",
      "X                      24\n",
      "Name: fico_range, dtype: int64\n"
     ]
    }
   ],
   "source": [
    "print(sample_df.groupby(sample_df['fico_range'])['ever_d90'].mean())\n",
    "print(sample_df['fico_range'].value_counts())"
   ]
  },
  {
   "cell_type": "code",
   "execution_count": 18,
   "metadata": {},
   "outputs": [
    {
     "name": "stderr",
     "output_type": "stream",
     "text": [
      "<ipython-input-18-e2ab6396a653>:1: SettingWithCopyWarning: \n",
      "A value is trying to be set on a copy of a slice from a DataFrame.\n",
      "Try using .loc[row_indexer,col_indexer] = value instead\n",
      "\n",
      "See the caveats in the documentation: https://pandas.pydata.org/pandas-docs/stable/user_guide/indexing.html#returning-a-view-versus-a-copy\n",
      "  sample_df['cltv_range']='X'\n"
     ]
    }
   ],
   "source": [
    "sample_df['cltv_range']='X' \n",
    "\n",
    "for i in range(len(sample_df['cltv'])): \n",
    "    if sample_df.loc[i, 'cltv']=='X':\n",
    "        sample_df.loc[i,  'cltv_range'] = 'X'\n",
    "    elif  sample_df.loc[i, 'cltv'] >5.999 and sample_df.loc[i, 'cltv']<=  67.0:\n",
    "        sample_df.loc[i,  'cltv_range'] ='(5.999, 67.0]'     \n",
    "    elif  sample_df.loc[i, 'cltv'] >67.0 and sample_df.loc[i, 'cltv'] <=80.0:\n",
    "        sample_df.loc[i,  'cltv_range'] = '(67.0, 80.0]'  \n",
    "    elif  sample_df.loc[i, 'cltv'] >80.0 and sample_df.loc[i, 'cltv'] <=100.0:\n",
    "        sample_df.loc[i,  'cltv_range'] = '(80.0, 100.0]'          \n",
    "    elif sample_df.loc[i, 'cltv'] >100.0 and sample_df.loc[i, 'cltv']<=153.0:\n",
    "        sample_df.loc[i,  'cltv_range'] = '(100.0, 153.0]' "
   ]
  },
  {
   "cell_type": "code",
   "execution_count": 19,
   "metadata": {},
   "outputs": [
    {
     "name": "stdout",
     "output_type": "stream",
     "text": [
      "cltv_range\n",
      "(100.0, 153.0]    0.033333\n",
      "(5.999, 67.0]     0.007920\n",
      "(67.0, 80.0]      0.013968\n",
      "(80.0, 100.0]     0.025142\n",
      "X                 0.000000\n",
      "Name: ever_d90, dtype: float64\n",
      "(67.0, 80.0]      21263\n",
      "(5.999, 67.0]     16793\n",
      "(80.0, 100.0]     11415\n",
      "(100.0, 153.0]       30\n",
      "X                     3\n",
      "Name: cltv_range, dtype: int64\n"
     ]
    }
   ],
   "source": [
    "print(sample_df.groupby(sample_df['cltv_range'])['ever_d90'].mean())\n",
    "print(sample_df['cltv_range'].value_counts())"
   ]
  },
  {
   "cell_type": "code",
   "execution_count": 20,
   "metadata": {},
   "outputs": [
    {
     "name": "stderr",
     "output_type": "stream",
     "text": [
      "<ipython-input-20-d735ad9e1d55>:1: SettingWithCopyWarning: \n",
      "A value is trying to be set on a copy of a slice from a DataFrame.\n",
      "Try using .loc[row_indexer,col_indexer] = value instead\n",
      "\n",
      "See the caveats in the documentation: https://pandas.pydata.org/pandas-docs/stable/user_guide/indexing.html#returning-a-view-versus-a-copy\n",
      "  sample_df['term_type']='X'\n"
     ]
    }
   ],
   "source": [
    "sample_df['term_type']='X' \n",
    "\n",
    "for i in range(len(sample_df['orig_loan_term'])): \n",
    "    if sample_df.loc[i, 'orig_loan_term']==180:\n",
    "        sample_df.loc[i,  'term_type'] = '180'\n",
    "    elif  sample_df.loc[i, 'orig_loan_term']==240:\n",
    "        sample_df.loc[i,  'term_type'] ='240'     \n",
    "    elif  sample_df.loc[i, 'orig_loan_term']==360:\n",
    "        sample_df.loc[i,  'term_type'] ='360'   \n",
    "    else:\n",
    "        sample_df.loc[i,  'term_type'] ='Others' "
   ]
  },
  {
   "cell_type": "code",
   "execution_count": 21,
   "metadata": {},
   "outputs": [
    {
     "name": "stdout",
     "output_type": "stream",
     "text": [
      "term_type\n",
      "180       0.006250\n",
      "240       0.011098\n",
      "360       0.016631\n",
      "Others    0.005426\n",
      "Name: ever_d90, dtype: float64\n",
      "360       38241\n",
      "180        7360\n",
      "240        2613\n",
      "Others     1290\n",
      "Name: term_type, dtype: int64\n"
     ]
    }
   ],
   "source": [
    "print(sample_df.groupby(sample_df['term_type'])['ever_d90'].mean())\n",
    "print(sample_df['term_type'].value_counts())"
   ]
  },
  {
   "cell_type": "code",
   "execution_count": 22,
   "metadata": {
    "scrolled": true
   },
   "outputs": [
    {
     "data": {
      "text/plain": [
       "Index(['fico', 'flag_fthb', 'mi_pct', 'cnt_units', 'occpy_sts', 'cltv', 'dti',\n",
       "       'orig_upb', 'int_rt', 'channel', 'ppmt_pnlty', 'prop_type',\n",
       "       'loan_purpose', 'orig_loan_term', 'cnt_borr', 'ever_d90',\n",
       "       'int_rt_range', 'dti_range', 'mi_type', 'upb_range', 'fico_range',\n",
       "       'cltv_range', 'term_type', 'flag_fthbN', 'flag_fthbX', 'flag_fthbY',\n",
       "       'occpy_stsI', 'occpy_stsP', 'occpy_stsS', 'channelR', 'channelT',\n",
       "       'ppmt_pnltyN', 'ppmt_pnltyX', 'ppmt_pnltyY', 'prop_typeCO',\n",
       "       'prop_typeCP', 'prop_typeMH', 'prop_typePU', 'prop_typeSF',\n",
       "       'loan_purposeC', 'loan_purposeN', 'loan_purposeP',\n",
       "       'fico(299.999, 580.0]', 'fico(580.0, 610.0]', 'fico(610.0, 673.0]',\n",
       "       'fico(673.0, 749.0]', 'fico(749.0, 779.0]', 'fico(779.0, 850.0]',\n",
       "       'ficoX', 'cltv(100.0, 153.0]', 'cltv(5.999, 67.0]', 'cltv(67.0, 80.0]',\n",
       "       'cltv(80.0, 100.0]', 'cltvX', 'mi_pctWith_MI', 'mi_pctWithout_MI',\n",
       "       'mi_pctX', 'cnt_units1', 'cnt_units2', 'cnt_units3', 'cnt_units4',\n",
       "       'int_rt(4.249, 5.5]', 'int_rt(5.5, 5.75]', 'int_rt(5.75, 6.0]',\n",
       "       'int_rt(6.0, 6.495]', 'int_rt(6.495, 8.375]',\n",
       "       'orig_upb(120000.0, 200000.0]', 'orig_upb(20000.0, 120000.0]',\n",
       "       'orig_upb(200000.0, 330000.0]', 'orig_upb(330000.0, 420000.0]',\n",
       "       'orig_upb(420000.0, 692000.0]', 'orig_upb(9999.999, 20000.0]',\n",
       "       'cnt_borr1', 'cnt_borr2', 'cnt_borrX', 'dti(0.999, 10.0]',\n",
       "       'dti(10.0, 25.0]', 'dti(25.0, 35.0]', 'dti(35.0, 44.0]',\n",
       "       'dti(44.0, 60.0]', 'dti(60.0, 65.0]', 'dtiX', 'loan_term180',\n",
       "       'loan_term240', 'loan_term360', 'loan_termOthers'],\n",
       "      dtype='object')"
      ]
     },
     "execution_count": 22,
     "metadata": {},
     "output_type": "execute_result"
    }
   ],
   "source": [
    "sample_df_clear= prepare_data_for_model(sample_df)\n",
    "sample_df_clear.columns"
   ]
  },
  {
   "cell_type": "code",
   "execution_count": 23,
   "metadata": {},
   "outputs": [],
   "source": [
    "sample_df_clear= sample_df_clear[['ever_d90','flag_fthbX', 'flag_fthbY',\n",
    "       'occpy_stsI', 'occpy_stsS', 'channelR', 'channelT',\n",
    "       'ppmt_pnltyX', 'ppmt_pnltyY', 'prop_typeCO',\n",
    "       'prop_typeCP', 'prop_typeMH', 'prop_typePU', \n",
    "       'loan_purposeC', 'loan_purposeN',  \n",
    "       'fico(299.999, 580.0]', 'fico(580.0, 610.0]', 'fico(610.0, 673.0]',\n",
    "       'fico(673.0, 749.0]', 'fico(749.0, 779.0]', 'ficoX', \n",
    "       'cltv(100.0, 153.0]', 'cltv(5.999, 67.0]', 'cltv(67.0, 80.0]', 'cltvX', \n",
    "       'mi_pctWith_MI', 'mi_pctX', 'cnt_units2', 'cnt_units3', 'cnt_units4',\n",
    "       'int_rt(4.249, 5.5]',  'int_rt(5.75, 6.0]', 'int_rt(6.0, 6.495]', 'int_rt(6.495, 8.375]',\n",
    "       'orig_upb(120000.0, 200000.0]', 'orig_upb(200000.0, 330000.0]', 'orig_upb(330000.0, 420000.0]',\n",
    "       'orig_upb(420000.0, 692000.0]', 'orig_upb(9999.999, 20000.0]',\n",
    "       'cnt_borr2', 'cnt_borrX', 'dti(0.999, 10.0]',\n",
    "       'dti(10.0, 25.0]', 'dti(35.0, 44.0]', 'dti(44.0, 60.0]', 'dti(60.0, 65.0]', 'dtiX', \n",
    "       'loan_term180', 'loan_term240',   'loan_termOthers']]"
   ]
  },
  {
   "cell_type": "code",
   "execution_count": 24,
   "metadata": {},
   "outputs": [
    {
     "data": {
      "text/plain": [
       "<AxesSubplot:>"
      ]
     },
     "execution_count": 24,
     "metadata": {},
     "output_type": "execute_result"
    },
    {
     "data": {
      "image/png": "[encoded data removed]",
      "text/plain": [
       "<Figure size 432x288 with 2 Axes>"
      ]
     },
     "metadata": {
      "needs_background": "light"
     },
     "output_type": "display_data"
    }
   ],
   "source": [
    "# plot the correlation plot to explore the correlation among the numeric variables, \n",
    "# reduce the interdependency among variables to aviod the issue of multicollinearity, especially when building the logistic regression model\n",
    "#calculate the correlation and plot the correlation graph \n",
    "corr_matrix = sample_df_clear.drop(columns='ever_d90').corr()\n",
    "sns.heatmap(corr_matrix)"
   ]
  },
  {
   "cell_type": "code",
   "execution_count": 25,
   "metadata": {},
   "outputs": [],
   "source": [
    "X= sample_df_clear.drop(columns='ever_d90')\n",
    "\n",
    "y= sample_df_clear['ever_d90']"
   ]
  },
  {
   "cell_type": "code",
   "execution_count": 26,
   "metadata": {},
   "outputs": [],
   "source": [
    "from sklearn.preprocessing import StandardScaler \n",
    "from sklearn.impute import SimpleImputer\n",
    "\n",
    "scaler= StandardScaler()\n",
    "scaler.fit(X)\n",
    "trans_df= scaler.transform(X)\n",
    "retrans_df= scaler.inverse_transform(trans_df)  \n",
    "trans_df= pd.DataFrame(trans_df)"
   ]
  },
  {
   "cell_type": "code",
   "execution_count": 27,
   "metadata": {},
   "outputs": [],
   "source": [
    "from sklearn.preprocessing import StandardScaler \n",
    "from sklearn.impute import SimpleImputer\n",
    "\n",
    "# split 30% into the test set\n",
    "\n",
    "from sklearn.model_selection import train_test_split, GridSearchCV \n",
    "X_train, X_test, y_train, y_test = train_test_split(X, y, test_size=0.3, random_state= 42)\n",
    "model_list = {} #to store the models"
   ]
  },
  {
   "cell_type": "code",
   "execution_count": 28,
   "metadata": {},
   "outputs": [
    {
     "name": "stdout",
     "output_type": "stream",
     "text": [
      "{'C': 1}\n"
     ]
    },
    {
     "data": {
      "text/plain": [
       "0.9874091031510908"
      ]
     },
     "execution_count": 28,
     "metadata": {},
     "output_type": "execute_result"
    }
   ],
   "source": [
    "# use the GridSearch to select the best parameters based on 5 times cross-validation\n",
    "# build the Logistic Regression Model using the optimal parameters\n",
    "# the prediction accuracy is about 98.7%\n",
    "\n",
    "from sklearn.linear_model import LogisticRegression\n",
    "param_grid = {'C': [0.001, 0.01,0.05,0.1,1]}\n",
    "grid = GridSearchCV(LogisticRegression(solver = 'liblinear'), param_grid, cv = 5, scoring = \"roc_auc\")\n",
    "grid.fit(X_train, y_train)\n",
    "print(grid.best_params_)\n",
    "logit_model1 = LogisticRegression(**grid.best_params_,penalty='l2',multi_class='auto')\n",
    "logit_model1.fit(X_train, y_train)\n",
    "model_list['logit_model'] = logit_model1\n",
    "logit_model1.score(X_test, y_test)"
   ]
  },
  {
   "cell_type": "code",
   "execution_count": 29,
   "metadata": {},
   "outputs": [],
   "source": [
    "def prob(a):\n",
    "    prob = 1 / (1 + math.exp(-a))\n",
    "    return prob \n",
    "predict = pd.DataFrame( X*logit_model1.coef_)\n",
    "\n",
    "predict['log_prob'] = pd.DataFrame(logit_model1.predict_proba(retrans_df))[1] \n",
    "\n",
    "predict['self_cal'] = predict.apply(sum, axis = 1)\n",
    "predict['self_cal'] = predict['self_cal']+float(logit_model1.intercept_)\n",
    "predict['self_cal'] = predict['self_cal'].apply(prob)\n",
    " \n",
    "val_log = pd.concat([sample_df,predict.iloc[:,-2:]],axis = 1)   "
   ]
  },
  {
   "cell_type": "code",
   "execution_count": 30,
   "metadata": {},
   "outputs": [
    {
     "data": {
      "text/html": [
       "<div>\n",
       "<style scoped>\n",
       "    .dataframe tbody tr th:only-of-type {\n",
       "        vertical-align: middle;\n",
       "    }\n",
       "\n",
       "    .dataframe tbody tr th {\n",
       "        vertical-align: top;\n",
       "    }\n",
       "\n",
       "    .dataframe thead th {\n",
       "        text-align: right;\n",
       "    }\n",
       "</style>\n",
       "<table border=\"1\" class=\"dataframe\">\n",
       "  <thead>\n",
       "    <tr style=\"text-align: right;\">\n",
       "      <th></th>\n",
       "      <th>fico</th>\n",
       "      <th>flag_fthb</th>\n",
       "      <th>mi_pct</th>\n",
       "      <th>cnt_units</th>\n",
       "      <th>occpy_sts</th>\n",
       "      <th>cltv</th>\n",
       "      <th>dti</th>\n",
       "      <th>orig_upb</th>\n",
       "      <th>int_rt</th>\n",
       "      <th>channel</th>\n",
       "      <th>...</th>\n",
       "      <th>ever_d90</th>\n",
       "      <th>int_rt_range</th>\n",
       "      <th>dti_range</th>\n",
       "      <th>mi_type</th>\n",
       "      <th>upb_range</th>\n",
       "      <th>fico_range</th>\n",
       "      <th>cltv_range</th>\n",
       "      <th>term_type</th>\n",
       "      <th>log_prob</th>\n",
       "      <th>self_cal</th>\n",
       "    </tr>\n",
       "  </thead>\n",
       "  <tbody>\n",
       "    <tr>\n",
       "      <th>0</th>\n",
       "      <td>577</td>\n",
       "      <td>X</td>\n",
       "      <td>0</td>\n",
       "      <td>1</td>\n",
       "      <td>P</td>\n",
       "      <td>62</td>\n",
       "      <td>41</td>\n",
       "      <td>270000</td>\n",
       "      <td>5.125</td>\n",
       "      <td>R</td>\n",
       "      <td>...</td>\n",
       "      <td>0</td>\n",
       "      <td>(4.249, 5.5]</td>\n",
       "      <td>(35.0, 44.0]</td>\n",
       "      <td>Without_MI</td>\n",
       "      <td>(200000.0, 330000.0]</td>\n",
       "      <td>(299.999, 580.0]</td>\n",
       "      <td>(5.999, 67.0]</td>\n",
       "      <td>180</td>\n",
       "      <td>0.012568</td>\n",
       "      <td>0.012725</td>\n",
       "    </tr>\n",
       "    <tr>\n",
       "      <th>1</th>\n",
       "      <td>800</td>\n",
       "      <td>N</td>\n",
       "      <td>0</td>\n",
       "      <td>1</td>\n",
       "      <td>P</td>\n",
       "      <td>30</td>\n",
       "      <td>33</td>\n",
       "      <td>250000</td>\n",
       "      <td>5.125</td>\n",
       "      <td>T</td>\n",
       "      <td>...</td>\n",
       "      <td>0</td>\n",
       "      <td>(4.249, 5.5]</td>\n",
       "      <td>(25.0, 35.0]</td>\n",
       "      <td>Without_MI</td>\n",
       "      <td>(200000.0, 330000.0]</td>\n",
       "      <td>(779.0, 850.0]</td>\n",
       "      <td>(5.999, 67.0]</td>\n",
       "      <td>180</td>\n",
       "      <td>0.000816</td>\n",
       "      <td>0.000817</td>\n",
       "    </tr>\n",
       "    <tr>\n",
       "      <th>2</th>\n",
       "      <td>608</td>\n",
       "      <td>N</td>\n",
       "      <td>0</td>\n",
       "      <td>1</td>\n",
       "      <td>P</td>\n",
       "      <td>62</td>\n",
       "      <td>24</td>\n",
       "      <td>126000</td>\n",
       "      <td>5.375</td>\n",
       "      <td>T</td>\n",
       "      <td>...</td>\n",
       "      <td>0</td>\n",
       "      <td>(4.249, 5.5]</td>\n",
       "      <td>(10.0, 25.0]</td>\n",
       "      <td>Without_MI</td>\n",
       "      <td>(120000.0, 200000.0]</td>\n",
       "      <td>(580.0, 610.0]</td>\n",
       "      <td>(5.999, 67.0]</td>\n",
       "      <td>240</td>\n",
       "      <td>0.021191</td>\n",
       "      <td>0.021636</td>\n",
       "    </tr>\n",
       "    <tr>\n",
       "      <th>3</th>\n",
       "      <td>794</td>\n",
       "      <td>N</td>\n",
       "      <td>0</td>\n",
       "      <td>1</td>\n",
       "      <td>P</td>\n",
       "      <td>67</td>\n",
       "      <td>32</td>\n",
       "      <td>230000</td>\n",
       "      <td>5.250</td>\n",
       "      <td>T</td>\n",
       "      <td>...</td>\n",
       "      <td>0</td>\n",
       "      <td>(4.249, 5.5]</td>\n",
       "      <td>(25.0, 35.0]</td>\n",
       "      <td>Without_MI</td>\n",
       "      <td>(200000.0, 330000.0]</td>\n",
       "      <td>(779.0, 850.0]</td>\n",
       "      <td>(5.999, 67.0]</td>\n",
       "      <td>180</td>\n",
       "      <td>0.002248</td>\n",
       "      <td>0.002253</td>\n",
       "    </tr>\n",
       "    <tr>\n",
       "      <th>4</th>\n",
       "      <td>710</td>\n",
       "      <td>N</td>\n",
       "      <td>0</td>\n",
       "      <td>1</td>\n",
       "      <td>P</td>\n",
       "      <td>80</td>\n",
       "      <td>20</td>\n",
       "      <td>95000</td>\n",
       "      <td>5.250</td>\n",
       "      <td>R</td>\n",
       "      <td>...</td>\n",
       "      <td>0</td>\n",
       "      <td>(4.249, 5.5]</td>\n",
       "      <td>(10.0, 25.0]</td>\n",
       "      <td>Without_MI</td>\n",
       "      <td>(20000.0, 120000.0]</td>\n",
       "      <td>(673.0, 749.0]</td>\n",
       "      <td>(67.0, 80.0]</td>\n",
       "      <td>180</td>\n",
       "      <td>0.001718</td>\n",
       "      <td>0.001721</td>\n",
       "    </tr>\n",
       "  </tbody>\n",
       "</table>\n",
       "<p>5 rows × 25 columns</p>\n",
       "</div>"
      ],
      "text/plain": [
       "  fico flag_fthb mi_pct cnt_units occpy_sts cltv dti  orig_upb  int_rt  \\\n",
       "0  577         X      0         1         P   62  41    270000   5.125   \n",
       "1  800         N      0         1         P   30  33    250000   5.125   \n",
       "2  608         N      0         1         P   62  24    126000   5.375   \n",
       "3  794         N      0         1         P   67  32    230000   5.250   \n",
       "4  710         N      0         1         P   80  20     95000   5.250   \n",
       "\n",
       "  channel  ... ever_d90  int_rt_range     dti_range     mi_type  \\\n",
       "0       R  ...        0  (4.249, 5.5]  (35.0, 44.0]  Without_MI   \n",
       "1       T  ...        0  (4.249, 5.5]  (25.0, 35.0]  Without_MI   \n",
       "2       T  ...        0  (4.249, 5.5]  (10.0, 25.0]  Without_MI   \n",
       "3       T  ...        0  (4.249, 5.5]  (25.0, 35.0]  Without_MI   \n",
       "4       R  ...        0  (4.249, 5.5]  (10.0, 25.0]  Without_MI   \n",
       "\n",
       "              upb_range        fico_range     cltv_range term_type  log_prob  \\\n",
       "0  (200000.0, 330000.0]  (299.999, 580.0]  (5.999, 67.0]       180  0.012568   \n",
       "1  (200000.0, 330000.0]    (779.0, 850.0]  (5.999, 67.0]       180  0.000816   \n",
       "2  (120000.0, 200000.0]    (580.0, 610.0]  (5.999, 67.0]       240  0.021191   \n",
       "3  (200000.0, 330000.0]    (779.0, 850.0]  (5.999, 67.0]       180  0.002248   \n",
       "4   (20000.0, 120000.0]    (673.0, 749.0]   (67.0, 80.0]       180  0.001718   \n",
       "\n",
       "   self_cal  \n",
       "0  0.012725  \n",
       "1  0.000817  \n",
       "2  0.021636  \n",
       "3  0.002253  \n",
       "4  0.001721  \n",
       "\n",
       "[5 rows x 25 columns]"
      ]
     },
     "execution_count": 30,
     "metadata": {},
     "output_type": "execute_result"
    }
   ],
   "source": [
    "val_log.head(5)"
   ]
  },
  {
   "cell_type": "code",
   "execution_count": 31,
   "metadata": {},
   "outputs": [],
   "source": [
    "def fillNAN_orig2(df):  \n",
    "    df.loc[df['flag_fthb']=='9','flag_fthb']='X'\n",
    "    df.loc[df['cnt_borr']==99,'cnt_borr']=0\n",
    "    df.loc[df['cnt_units']==99,'cnt_units']=0\n",
    "    df.loc[df['fico']==9999, 'fico']=0\n",
    "    df.loc[df['cltv']==999, 'cltv']=0\n",
    "    df.loc[df['dti']==999, 'dti']=0\n",
    "    df.loc[df['mi_pct']==999,'mi_pct']=0\n",
    "    df.loc[df['occpy_sts']==9,'occpy_sts']='X'\n",
    "    df.loc[df['channel'] ==9, 'channel']='X'\n",
    "    df['ppmt_pnlty'] = df['ppmt_pnlty'].fillna('X')\n",
    "    df.loc[df['prop_type'] ==99,  'prop_type']='X'\n",
    "    df.loc[df['loan_purpose'] ==9, 'loan_purpose']='X' \n",
    "    return df\n",
    "    return df"
   ]
  },
  {
   "cell_type": "code",
   "execution_count": 32,
   "metadata": {},
   "outputs": [],
   "source": [
    "def prepare_data_for_model2(df):\n",
    "    dummies1 = pd.get_dummies(df['flag_fthb'] ).rename(columns=lambda x: 'flag_fthb' + str(x))\n",
    "    train_df = pd.concat([df, dummies1], axis=1)\n",
    "    \n",
    "    dummies2 = pd.get_dummies(df['occpy_sts'] ).rename(columns=lambda x: 'occpy_sts' + str(x)) \n",
    "    train_df = pd.concat([train_df, dummies2], axis=1)\n",
    "    \n",
    "    dummies3 = pd.get_dummies(df['channel'] ).rename(columns=lambda x: 'channel' + str(x)) \n",
    "    train_df = pd.concat([train_df, dummies3], axis=1)\n",
    "    \n",
    "    dummies4 = pd.get_dummies(df['ppmt_pnlty'] ).rename(columns=lambda x: 'ppmt_pnlty' + str(x)) \n",
    "    train_df = pd.concat([train_df, dummies4], axis=1)\n",
    "    \n",
    "    dummies5 = pd.get_dummies(df['prop_type'] ).rename(columns=lambda x: 'prop_type' + str(x)) \n",
    "    train_df = pd.concat([train_df, dummies5], axis=1) \n",
    "    \n",
    "    dummies6 = pd.get_dummies(df['loan_purpose'] ).rename(columns=lambda x: 'loan_purpose' + str(x)) \n",
    "    train_df = pd.concat([train_df, dummies6], axis=1)\n",
    "     \n",
    "    return train_df"
   ]
  },
  {
   "cell_type": "code",
   "execution_count": 33,
   "metadata": {},
   "outputs": [],
   "source": [
    "sample_df3= pd.read_csv('D:\\Franddie Mea\\d90_perfor - Copy.csv', sep=\",\") \n",
    "sample_df3= fillNAN_orig2(sample_df3)\n",
    "imp_fill=SimpleImputer(missing_values=0, strategy='most_frequent') \n",
    "sample_fill=sample_df3.loc[:, ['fico','dti','cltv', 'cnt_borr', 'mi_pct', 'cnt_units']] \n",
    "imp_mode= imp_fill.fit_transform(sample_fill)\n",
    "sample_df3.loc[:,['fico','dti','cltv', 'cnt_borr', 'mi_pct', 'cnt_units']]=imp_mode\n",
    "sample_df3=prepare_data_for_model2(sample_df3)\n",
    "sample_df3.drop(columns=['id_loan','cd_msa','zipcode', 'dt_first_pi','dt_matr','ltv','seller_name', \n",
    "                         'servicer_name', 'prod_type', 'st','flag_sc','id_loan_preharp', 'ind_afdl',\n",
    "                         'ind_harp', 'cd_ppty_val_type', 'schedule_pay', 'zero_code', 'ltv_range', 'upb_range',\n",
    "                         'fico_range','mi_type', 'cltv_range', 'dti_range', 'int_rt_range'],inplace=True) "
   ]
  },
  {
   "cell_type": "code",
   "execution_count": 34,
   "metadata": {},
   "outputs": [
    {
     "data": {
      "text/plain": [
       "Index(['fico', 'flag_fthb', 'mi_pct', 'cnt_units', 'occpy_sts', 'cltv', 'dti',\n",
       "       'orig_upb', 'int_rt', 'channel', 'ppmt_pnlty', 'prop_type',\n",
       "       'loan_purpose', 'orig_loan_term', 'cnt_borr', 'ever_d90', 'flag_fthbN',\n",
       "       'flag_fthbX', 'flag_fthbY', 'occpy_stsI', 'occpy_stsP', 'occpy_stsS',\n",
       "       'channelR', 'channelT', 'ppmt_pnltyN', 'ppmt_pnltyX', 'ppmt_pnltyY',\n",
       "       'prop_typeCO', 'prop_typeCP', 'prop_typeMH', 'prop_typePU',\n",
       "       'prop_typeSF', 'loan_purposeC', 'loan_purposeN', 'loan_purposeP'],\n",
       "      dtype='object')"
      ]
     },
     "execution_count": 34,
     "metadata": {},
     "output_type": "execute_result"
    }
   ],
   "source": [
    "sample_df3.columns"
   ]
  },
  {
   "cell_type": "code",
   "execution_count": 35,
   "metadata": {},
   "outputs": [
    {
     "data": {
      "text/plain": [
       "<AxesSubplot:>"
      ]
     },
     "execution_count": 35,
     "metadata": {},
     "output_type": "execute_result"
    },
    {
     "data": {
      "image/png": "[encoded data removed]",
      "text/plain": [
       "<Figure size 432x288 with 2 Axes>"
      ]
     },
     "metadata": {
      "needs_background": "light"
     },
     "output_type": "display_data"
    }
   ],
   "source": [
    "# plot the correlation plot to explore the correlation among the numeric variables, \n",
    "# reduce the interdependency among variables to aviod the issue of multicollinearity, especially when building the logistic regression model\n",
    " \n",
    "import seaborn as sns\n",
    "import matplotlib.pyplot as plt  \n",
    "\n",
    "#calculate the correlation and plot the correlation graph\n",
    "corr_matrix = sample_df3.drop(columns=['ever_d90']).corr()\n",
    "sns.heatmap(corr_matrix)"
   ]
  },
  {
   "cell_type": "code",
   "execution_count": 36,
   "metadata": {},
   "outputs": [],
   "source": [
    "sample_df3_clear= sample_df3[['fico', 'cnt_units','mi_pct', 'orig_loan_term' ,'cltv', 'dti','orig_upb', 'int_rt', 'cnt_borr',  \n",
    "                              'flag_fthbX', 'flag_fthbY', 'occpy_stsI', 'occpy_stsS',\n",
    "                              'channelR', 'channelT', 'ppmt_pnltyX', 'ppmt_pnltyY',  'prop_typeCO',\n",
    "                              'prop_typeCP', 'prop_typeMH', 'prop_typePU', 'loan_purposeC',\n",
    "                              'loan_purposeN', 'ever_d90' ]]  \n",
    "X2=sample_df3_clear.drop(columns='ever_d90')\n",
    "y2=sample_df3_clear['ever_d90']  "
   ]
  },
  {
   "cell_type": "code",
   "execution_count": 37,
   "metadata": {},
   "outputs": [],
   "source": [
    "from sklearn.preprocessing import StandardScaler \n",
    "from sklearn.impute import SimpleImputer\n",
    "\n",
    "scaler= StandardScaler()\n",
    "scaler.fit(X2)\n",
    "trans_df= scaler.transform(X2)\n",
    "retrans_df= scaler.inverse_transform(trans_df)  \n",
    "trans_df= pd.DataFrame(trans_df)"
   ]
  },
  {
   "cell_type": "code",
   "execution_count": 38,
   "metadata": {},
   "outputs": [],
   "source": [
    "X_train2= X2.loc[X_train.index]\n",
    "X_test2 = X2.loc[X_test.index]\n",
    "y_train2 = y2.loc[y_train.index]\n",
    "y_test2 = y2.loc[y_test.index] "
   ]
  },
  {
   "cell_type": "code",
   "execution_count": 39,
   "metadata": {},
   "outputs": [
    {
     "name": "stdout",
     "output_type": "stream",
     "text": [
      "{'max_depth': 8, 'n_estimators': 300}\n"
     ]
    }
   ],
   "source": [
    "from sklearn.model_selection import train_test_split, GridSearchCV \n",
    "# use the GridSearch to select the best parameters based on 5 times cross-validation\n",
    "# build the Random Forest Model using the optimal parameters\n",
    "# the prediction accuracy is about 98.7%\n",
    "\n",
    "from sklearn.ensemble import RandomForestClassifier\n",
    "param_grid = {'max_depth': [2,4,6,8], \"n_estimators\": [100,200,300,500]}\n",
    "grid = GridSearchCV(RandomForestClassifier(), param_grid, cv = 5, scoring = \"roc_auc\")\n",
    "grid.fit(X_train2, y_train2)\n",
    "print(grid.best_params_)"
   ]
  },
  {
   "cell_type": "code",
   "execution_count": 40,
   "metadata": {},
   "outputs": [],
   "source": [
    "rf_model = RandomForestClassifier(**grid.best_params_)\n",
    "rf_model.fit(X_train2, y_train2)\n",
    "model_list['rf_model'] = rf_model "
   ]
  },
  {
   "cell_type": "code",
   "execution_count": 41,
   "metadata": {},
   "outputs": [
    {
     "data": {
      "text/plain": [
       "0.9874091031510908"
      ]
     },
     "execution_count": 41,
     "metadata": {},
     "output_type": "execute_result"
    }
   ],
   "source": [
    "val_rf = pd.concat([sample_df3_clear,pd.DataFrame(rf_model.predict_proba(retrans_df))[[1]]],axis = 1)\n",
    "val_rf.rename(columns = {1:'rf_prob'}, inplace = True)\n",
    "val_rf['rf_pre']= pd.DataFrame([1 if x >= 0.015 else 0 for x in val_rf['rf_prob']]) \n",
    "rf_model.score(X_test2, y_test2)"
   ]
  },
  {
   "cell_type": "code",
   "execution_count": 42,
   "metadata": {},
   "outputs": [
    {
     "data": {
      "text/html": [
       "<div>\n",
       "<style scoped>\n",
       "    .dataframe tbody tr th:only-of-type {\n",
       "        vertical-align: middle;\n",
       "    }\n",
       "\n",
       "    .dataframe tbody tr th {\n",
       "        vertical-align: top;\n",
       "    }\n",
       "\n",
       "    .dataframe thead th {\n",
       "        text-align: right;\n",
       "    }\n",
       "</style>\n",
       "<table border=\"1\" class=\"dataframe\">\n",
       "  <thead>\n",
       "    <tr style=\"text-align: right;\">\n",
       "      <th></th>\n",
       "      <th>fico</th>\n",
       "      <th>cnt_units</th>\n",
       "      <th>mi_pct</th>\n",
       "      <th>orig_loan_term</th>\n",
       "      <th>cltv</th>\n",
       "      <th>dti</th>\n",
       "      <th>orig_upb</th>\n",
       "      <th>int_rt</th>\n",
       "      <th>cnt_borr</th>\n",
       "      <th>flag_fthbX</th>\n",
       "      <th>...</th>\n",
       "      <th>ppmt_pnltyY</th>\n",
       "      <th>prop_typeCO</th>\n",
       "      <th>prop_typeCP</th>\n",
       "      <th>prop_typeMH</th>\n",
       "      <th>prop_typePU</th>\n",
       "      <th>loan_purposeC</th>\n",
       "      <th>loan_purposeN</th>\n",
       "      <th>ever_d90</th>\n",
       "      <th>rf_prob</th>\n",
       "      <th>rf_pre</th>\n",
       "    </tr>\n",
       "  </thead>\n",
       "  <tbody>\n",
       "    <tr>\n",
       "      <th>0</th>\n",
       "      <td>577</td>\n",
       "      <td>1</td>\n",
       "      <td>25</td>\n",
       "      <td>180</td>\n",
       "      <td>62</td>\n",
       "      <td>41</td>\n",
       "      <td>270000</td>\n",
       "      <td>5.125</td>\n",
       "      <td>2</td>\n",
       "      <td>1</td>\n",
       "      <td>...</td>\n",
       "      <td>0</td>\n",
       "      <td>0</td>\n",
       "      <td>0</td>\n",
       "      <td>0</td>\n",
       "      <td>0</td>\n",
       "      <td>0</td>\n",
       "      <td>1</td>\n",
       "      <td>0</td>\n",
       "      <td>0.060562</td>\n",
       "      <td>1</td>\n",
       "    </tr>\n",
       "    <tr>\n",
       "      <th>1</th>\n",
       "      <td>800</td>\n",
       "      <td>1</td>\n",
       "      <td>25</td>\n",
       "      <td>180</td>\n",
       "      <td>30</td>\n",
       "      <td>33</td>\n",
       "      <td>250000</td>\n",
       "      <td>5.125</td>\n",
       "      <td>2</td>\n",
       "      <td>0</td>\n",
       "      <td>...</td>\n",
       "      <td>0</td>\n",
       "      <td>0</td>\n",
       "      <td>0</td>\n",
       "      <td>0</td>\n",
       "      <td>0</td>\n",
       "      <td>0</td>\n",
       "      <td>0</td>\n",
       "      <td>0</td>\n",
       "      <td>0.002051</td>\n",
       "      <td>0</td>\n",
       "    </tr>\n",
       "    <tr>\n",
       "      <th>2</th>\n",
       "      <td>608</td>\n",
       "      <td>1</td>\n",
       "      <td>25</td>\n",
       "      <td>240</td>\n",
       "      <td>62</td>\n",
       "      <td>24</td>\n",
       "      <td>126000</td>\n",
       "      <td>5.375</td>\n",
       "      <td>2</td>\n",
       "      <td>0</td>\n",
       "      <td>...</td>\n",
       "      <td>0</td>\n",
       "      <td>0</td>\n",
       "      <td>0</td>\n",
       "      <td>0</td>\n",
       "      <td>0</td>\n",
       "      <td>1</td>\n",
       "      <td>0</td>\n",
       "      <td>0</td>\n",
       "      <td>0.044981</td>\n",
       "      <td>1</td>\n",
       "    </tr>\n",
       "    <tr>\n",
       "      <th>3</th>\n",
       "      <td>794</td>\n",
       "      <td>1</td>\n",
       "      <td>25</td>\n",
       "      <td>180</td>\n",
       "      <td>67</td>\n",
       "      <td>32</td>\n",
       "      <td>230000</td>\n",
       "      <td>5.250</td>\n",
       "      <td>1</td>\n",
       "      <td>0</td>\n",
       "      <td>...</td>\n",
       "      <td>0</td>\n",
       "      <td>0</td>\n",
       "      <td>0</td>\n",
       "      <td>0</td>\n",
       "      <td>1</td>\n",
       "      <td>0</td>\n",
       "      <td>1</td>\n",
       "      <td>0</td>\n",
       "      <td>0.004228</td>\n",
       "      <td>0</td>\n",
       "    </tr>\n",
       "    <tr>\n",
       "      <th>4</th>\n",
       "      <td>710</td>\n",
       "      <td>1</td>\n",
       "      <td>25</td>\n",
       "      <td>180</td>\n",
       "      <td>80</td>\n",
       "      <td>20</td>\n",
       "      <td>95000</td>\n",
       "      <td>5.250</td>\n",
       "      <td>2</td>\n",
       "      <td>0</td>\n",
       "      <td>...</td>\n",
       "      <td>0</td>\n",
       "      <td>0</td>\n",
       "      <td>0</td>\n",
       "      <td>1</td>\n",
       "      <td>0</td>\n",
       "      <td>0</td>\n",
       "      <td>0</td>\n",
       "      <td>0</td>\n",
       "      <td>0.003929</td>\n",
       "      <td>0</td>\n",
       "    </tr>\n",
       "  </tbody>\n",
       "</table>\n",
       "<p>5 rows × 26 columns</p>\n",
       "</div>"
      ],
      "text/plain": [
       "   fico  cnt_units  mi_pct  orig_loan_term  cltv  dti  orig_upb  int_rt  \\\n",
       "0   577          1      25             180    62   41    270000   5.125   \n",
       "1   800          1      25             180    30   33    250000   5.125   \n",
       "2   608          1      25             240    62   24    126000   5.375   \n",
       "3   794          1      25             180    67   32    230000   5.250   \n",
       "4   710          1      25             180    80   20     95000   5.250   \n",
       "\n",
       "   cnt_borr  flag_fthbX  ...  ppmt_pnltyY  prop_typeCO  prop_typeCP  \\\n",
       "0         2           1  ...            0            0            0   \n",
       "1         2           0  ...            0            0            0   \n",
       "2         2           0  ...            0            0            0   \n",
       "3         1           0  ...            0            0            0   \n",
       "4         2           0  ...            0            0            0   \n",
       "\n",
       "   prop_typeMH  prop_typePU  loan_purposeC  loan_purposeN  ever_d90   rf_prob  \\\n",
       "0            0            0              0              1         0  0.060562   \n",
       "1            0            0              0              0         0  0.002051   \n",
       "2            0            0              1              0         0  0.044981   \n",
       "3            0            1              0              1         0  0.004228   \n",
       "4            1            0              0              0         0  0.003929   \n",
       "\n",
       "   rf_pre  \n",
       "0       1  \n",
       "1       0  \n",
       "2       1  \n",
       "3       0  \n",
       "4       0  \n",
       "\n",
       "[5 rows x 26 columns]"
      ]
     },
     "execution_count": 42,
     "metadata": {},
     "output_type": "execute_result"
    }
   ],
   "source": [
    "val_rf.head(5)"
   ]
  },
  {
   "cell_type": "code",
   "execution_count": 43,
   "metadata": {
    "scrolled": true
   },
   "outputs": [
    {
     "name": "stderr",
     "output_type": "stream",
     "text": [
      "D:\\Program Files (x86)\\Anaconda\\lib\\site-packages\\xgboost\\sklearn.py:888: UserWarning: The use of label encoder in XGBClassifier is deprecated and will be removed in a future release. To remove this warning, do the following: 1) Pass option use_label_encoder=False when constructing XGBClassifier object; and 2) Encode your labels (y) as integers starting with 0, i.e. 0, 1, 2, ..., [num_class - 1].\n",
      "  warnings.warn(label_encoder_deprecation_msg, UserWarning)\n"
     ]
    },
    {
     "name": "stdout",
     "output_type": "stream",
     "text": [
      "[00:34:31] WARNING: C:/Users/Administrator/workspace/xgboost-win64_release_1.3.0/src/learner.cc:1061: Starting in XGBoost 1.3.0, the default evaluation metric used with the objective 'binary:logistic' was changed from 'error' to 'logloss'. Explicitly set eval_metric if you'd like to restore the old behavior.\n"
     ]
    },
    {
     "name": "stderr",
     "output_type": "stream",
     "text": [
      "D:\\Program Files (x86)\\Anaconda\\lib\\site-packages\\xgboost\\sklearn.py:888: UserWarning: The use of label encoder in XGBClassifier is deprecated and will be removed in a future release. To remove this warning, do the following: 1) Pass option use_label_encoder=False when constructing XGBClassifier object; and 2) Encode your labels (y) as integers starting with 0, i.e. 0, 1, 2, ..., [num_class - 1].\n",
      "  warnings.warn(label_encoder_deprecation_msg, UserWarning)\n"
     ]
    },
    {
     "name": "stdout",
     "output_type": "stream",
     "text": [
      "[00:34:33] WARNING: C:/Users/Administrator/workspace/xgboost-win64_release_1.3.0/src/learner.cc:1061: Starting in XGBoost 1.3.0, the default evaluation metric used with the objective 'binary:logistic' was changed from 'error' to 'logloss'. Explicitly set eval_metric if you'd like to restore the old behavior.\n"
     ]
    },
    {
     "name": "stderr",
     "output_type": "stream",
     "text": [
      "D:\\Program Files (x86)\\Anaconda\\lib\\site-packages\\xgboost\\sklearn.py:888: UserWarning: The use of label encoder in XGBClassifier is deprecated and will be removed in a future release. To remove this warning, do the following: 1) Pass option use_label_encoder=False when constructing XGBClassifier object; and 2) Encode your labels (y) as integers starting with 0, i.e. 0, 1, 2, ..., [num_class - 1].\n",
      "  warnings.warn(label_encoder_deprecation_msg, UserWarning)\n"
     ]
    },
    {
     "name": "stdout",
     "output_type": "stream",
     "text": [
      "[00:34:35] WARNING: C:/Users/Administrator/workspace/xgboost-win64_release_1.3.0/src/learner.cc:1061: Starting in XGBoost 1.3.0, the default evaluation metric used with the objective 'binary:logistic' was changed from 'error' to 'logloss'. Explicitly set eval_metric if you'd like to restore the old behavior.\n"
     ]
    },
    {
     "name": "stderr",
     "output_type": "stream",
     "text": [
      "D:\\Program Files (x86)\\Anaconda\\lib\\site-packages\\xgboost\\sklearn.py:888: UserWarning: The use of label encoder in XGBClassifier is deprecated and will be removed in a future release. To remove this warning, do the following: 1) Pass option use_label_encoder=False when constructing XGBClassifier object; and 2) Encode your labels (y) as integers starting with 0, i.e. 0, 1, 2, ..., [num_class - 1].\n",
      "  warnings.warn(label_encoder_deprecation_msg, UserWarning)\n"
     ]
    },
    {
     "name": "stdout",
     "output_type": "stream",
     "text": [
      "[00:34:37] WARNING: C:/Users/Administrator/workspace/xgboost-win64_release_1.3.0/src/learner.cc:1061: Starting in XGBoost 1.3.0, the default evaluation metric used with the objective 'binary:logistic' was changed from 'error' to 'logloss'. Explicitly set eval_metric if you'd like to restore the old behavior.\n"
     ]
    },
    {
     "name": "stderr",
     "output_type": "stream",
     "text": [
      "D:\\Program Files (x86)\\Anaconda\\lib\\site-packages\\xgboost\\sklearn.py:888: UserWarning: The use of label encoder in XGBClassifier is deprecated and will be removed in a future release. To remove this warning, do the following: 1) Pass option use_label_encoder=False when constructing XGBClassifier object; and 2) Encode your labels (y) as integers starting with 0, i.e. 0, 1, 2, ..., [num_class - 1].\n",
      "  warnings.warn(label_encoder_deprecation_msg, UserWarning)\n"
     ]
    },
    {
     "name": "stdout",
     "output_type": "stream",
     "text": [
      "[00:34:39] WARNING: C:/Users/Administrator/workspace/xgboost-win64_release_1.3.0/src/learner.cc:1061: Starting in XGBoost 1.3.0, the default evaluation metric used with the objective 'binary:logistic' was changed from 'error' to 'logloss'. Explicitly set eval_metric if you'd like to restore the old behavior.\n"
     ]
    },
    {
     "name": "stderr",
     "output_type": "stream",
     "text": [
      "D:\\Program Files (x86)\\Anaconda\\lib\\site-packages\\xgboost\\sklearn.py:888: UserWarning: The use of label encoder in XGBClassifier is deprecated and will be removed in a future release. To remove this warning, do the following: 1) Pass option use_label_encoder=False when constructing XGBClassifier object; and 2) Encode your labels (y) as integers starting with 0, i.e. 0, 1, 2, ..., [num_class - 1].\n",
      "  warnings.warn(label_encoder_deprecation_msg, UserWarning)\n"
     ]
    },
    {
     "name": "stdout",
     "output_type": "stream",
     "text": [
      "[00:34:41] WARNING: C:/Users/Administrator/workspace/xgboost-win64_release_1.3.0/src/learner.cc:1061: Starting in XGBoost 1.3.0, the default evaluation metric used with the objective 'binary:logistic' was changed from 'error' to 'logloss'. Explicitly set eval_metric if you'd like to restore the old behavior.\n"
     ]
    },
    {
     "name": "stderr",
     "output_type": "stream",
     "text": [
      "D:\\Program Files (x86)\\Anaconda\\lib\\site-packages\\xgboost\\sklearn.py:888: UserWarning: The use of label encoder in XGBClassifier is deprecated and will be removed in a future release. To remove this warning, do the following: 1) Pass option use_label_encoder=False when constructing XGBClassifier object; and 2) Encode your labels (y) as integers starting with 0, i.e. 0, 1, 2, ..., [num_class - 1].\n",
      "  warnings.warn(label_encoder_deprecation_msg, UserWarning)\n"
     ]
    },
    {
     "name": "stdout",
     "output_type": "stream",
     "text": [
      "[00:34:46] WARNING: C:/Users/Administrator/workspace/xgboost-win64_release_1.3.0/src/learner.cc:1061: Starting in XGBoost 1.3.0, the default evaluation metric used with the objective 'binary:logistic' was changed from 'error' to 'logloss'. Explicitly set eval_metric if you'd like to restore the old behavior.\n"
     ]
    },
    {
     "name": "stderr",
     "output_type": "stream",
     "text": [
      "D:\\Program Files (x86)\\Anaconda\\lib\\site-packages\\xgboost\\sklearn.py:888: UserWarning: The use of label encoder in XGBClassifier is deprecated and will be removed in a future release. To remove this warning, do the following: 1) Pass option use_label_encoder=False when constructing XGBClassifier object; and 2) Encode your labels (y) as integers starting with 0, i.e. 0, 1, 2, ..., [num_class - 1].\n",
      "  warnings.warn(label_encoder_deprecation_msg, UserWarning)\n"
     ]
    },
    {
     "name": "stdout",
     "output_type": "stream",
     "text": [
      "[00:34:52] WARNING: C:/Users/Administrator/workspace/xgboost-win64_release_1.3.0/src/learner.cc:1061: Starting in XGBoost 1.3.0, the default evaluation metric used with the objective 'binary:logistic' was changed from 'error' to 'logloss'. Explicitly set eval_metric if you'd like to restore the old behavior.\n"
     ]
    },
    {
     "name": "stderr",
     "output_type": "stream",
     "text": [
      "D:\\Program Files (x86)\\Anaconda\\lib\\site-packages\\xgboost\\sklearn.py:888: UserWarning: The use of label encoder in XGBClassifier is deprecated and will be removed in a future release. To remove this warning, do the following: 1) Pass option use_label_encoder=False when constructing XGBClassifier object; and 2) Encode your labels (y) as integers starting with 0, i.e. 0, 1, 2, ..., [num_class - 1].\n",
      "  warnings.warn(label_encoder_deprecation_msg, UserWarning)\n"
     ]
    },
    {
     "name": "stdout",
     "output_type": "stream",
     "text": [
      "[00:34:57] WARNING: C:/Users/Administrator/workspace/xgboost-win64_release_1.3.0/src/learner.cc:1061: Starting in XGBoost 1.3.0, the default evaluation metric used with the objective 'binary:logistic' was changed from 'error' to 'logloss'. Explicitly set eval_metric if you'd like to restore the old behavior.\n"
     ]
    },
    {
     "name": "stderr",
     "output_type": "stream",
     "text": [
      "D:\\Program Files (x86)\\Anaconda\\lib\\site-packages\\xgboost\\sklearn.py:888: UserWarning: The use of label encoder in XGBClassifier is deprecated and will be removed in a future release. To remove this warning, do the following: 1) Pass option use_label_encoder=False when constructing XGBClassifier object; and 2) Encode your labels (y) as integers starting with 0, i.e. 0, 1, 2, ..., [num_class - 1].\n",
      "  warnings.warn(label_encoder_deprecation_msg, UserWarning)\n"
     ]
    },
    {
     "name": "stdout",
     "output_type": "stream",
     "text": [
      "[00:35:02] WARNING: C:/Users/Administrator/workspace/xgboost-win64_release_1.3.0/src/learner.cc:1061: Starting in XGBoost 1.3.0, the default evaluation metric used with the objective 'binary:logistic' was changed from 'error' to 'logloss'. Explicitly set eval_metric if you'd like to restore the old behavior.\n"
     ]
    },
    {
     "name": "stderr",
     "output_type": "stream",
     "text": [
      "D:\\Program Files (x86)\\Anaconda\\lib\\site-packages\\xgboost\\sklearn.py:888: UserWarning: The use of label encoder in XGBClassifier is deprecated and will be removed in a future release. To remove this warning, do the following: 1) Pass option use_label_encoder=False when constructing XGBClassifier object; and 2) Encode your labels (y) as integers starting with 0, i.e. 0, 1, 2, ..., [num_class - 1].\n",
      "  warnings.warn(label_encoder_deprecation_msg, UserWarning)\n"
     ]
    },
    {
     "name": "stdout",
     "output_type": "stream",
     "text": [
      "[00:35:07] WARNING: C:/Users/Administrator/workspace/xgboost-win64_release_1.3.0/src/learner.cc:1061: Starting in XGBoost 1.3.0, the default evaluation metric used with the objective 'binary:logistic' was changed from 'error' to 'logloss'. Explicitly set eval_metric if you'd like to restore the old behavior.\n"
     ]
    },
    {
     "name": "stderr",
     "output_type": "stream",
     "text": [
      "D:\\Program Files (x86)\\Anaconda\\lib\\site-packages\\xgboost\\sklearn.py:888: UserWarning: The use of label encoder in XGBClassifier is deprecated and will be removed in a future release. To remove this warning, do the following: 1) Pass option use_label_encoder=False when constructing XGBClassifier object; and 2) Encode your labels (y) as integers starting with 0, i.e. 0, 1, 2, ..., [num_class - 1].\n",
      "  warnings.warn(label_encoder_deprecation_msg, UserWarning)\n"
     ]
    },
    {
     "name": "stdout",
     "output_type": "stream",
     "text": [
      "[00:35:16] WARNING: C:/Users/Administrator/workspace/xgboost-win64_release_1.3.0/src/learner.cc:1061: Starting in XGBoost 1.3.0, the default evaluation metric used with the objective 'binary:logistic' was changed from 'error' to 'logloss'. Explicitly set eval_metric if you'd like to restore the old behavior.\n"
     ]
    },
    {
     "name": "stderr",
     "output_type": "stream",
     "text": [
      "D:\\Program Files (x86)\\Anaconda\\lib\\site-packages\\xgboost\\sklearn.py:888: UserWarning: The use of label encoder in XGBClassifier is deprecated and will be removed in a future release. To remove this warning, do the following: 1) Pass option use_label_encoder=False when constructing XGBClassifier object; and 2) Encode your labels (y) as integers starting with 0, i.e. 0, 1, 2, ..., [num_class - 1].\n",
      "  warnings.warn(label_encoder_deprecation_msg, UserWarning)\n"
     ]
    },
    {
     "name": "stdout",
     "output_type": "stream",
     "text": [
      "[00:35:24] WARNING: C:/Users/Administrator/workspace/xgboost-win64_release_1.3.0/src/learner.cc:1061: Starting in XGBoost 1.3.0, the default evaluation metric used with the objective 'binary:logistic' was changed from 'error' to 'logloss'. Explicitly set eval_metric if you'd like to restore the old behavior.\n"
     ]
    },
    {
     "name": "stderr",
     "output_type": "stream",
     "text": [
      "D:\\Program Files (x86)\\Anaconda\\lib\\site-packages\\xgboost\\sklearn.py:888: UserWarning: The use of label encoder in XGBClassifier is deprecated and will be removed in a future release. To remove this warning, do the following: 1) Pass option use_label_encoder=False when constructing XGBClassifier object; and 2) Encode your labels (y) as integers starting with 0, i.e. 0, 1, 2, ..., [num_class - 1].\n",
      "  warnings.warn(label_encoder_deprecation_msg, UserWarning)\n"
     ]
    },
    {
     "name": "stdout",
     "output_type": "stream",
     "text": [
      "[00:35:32] WARNING: C:/Users/Administrator/workspace/xgboost-win64_release_1.3.0/src/learner.cc:1061: Starting in XGBoost 1.3.0, the default evaluation metric used with the objective 'binary:logistic' was changed from 'error' to 'logloss'. Explicitly set eval_metric if you'd like to restore the old behavior.\n"
     ]
    },
    {
     "name": "stderr",
     "output_type": "stream",
     "text": [
      "D:\\Program Files (x86)\\Anaconda\\lib\\site-packages\\xgboost\\sklearn.py:888: UserWarning: The use of label encoder in XGBClassifier is deprecated and will be removed in a future release. To remove this warning, do the following: 1) Pass option use_label_encoder=False when constructing XGBClassifier object; and 2) Encode your labels (y) as integers starting with 0, i.e. 0, 1, 2, ..., [num_class - 1].\n",
      "  warnings.warn(label_encoder_deprecation_msg, UserWarning)\n"
     ]
    },
    {
     "name": "stdout",
     "output_type": "stream",
     "text": [
      "[00:35:40] WARNING: C:/Users/Administrator/workspace/xgboost-win64_release_1.3.0/src/learner.cc:1061: Starting in XGBoost 1.3.0, the default evaluation metric used with the objective 'binary:logistic' was changed from 'error' to 'logloss'. Explicitly set eval_metric if you'd like to restore the old behavior.\n"
     ]
    },
    {
     "name": "stderr",
     "output_type": "stream",
     "text": [
      "D:\\Program Files (x86)\\Anaconda\\lib\\site-packages\\xgboost\\sklearn.py:888: UserWarning: The use of label encoder in XGBClassifier is deprecated and will be removed in a future release. To remove this warning, do the following: 1) Pass option use_label_encoder=False when constructing XGBClassifier object; and 2) Encode your labels (y) as integers starting with 0, i.e. 0, 1, 2, ..., [num_class - 1].\n",
      "  warnings.warn(label_encoder_deprecation_msg, UserWarning)\n"
     ]
    },
    {
     "name": "stdout",
     "output_type": "stream",
     "text": [
      "[00:35:50] WARNING: C:/Users/Administrator/workspace/xgboost-win64_release_1.3.0/src/learner.cc:1061: Starting in XGBoost 1.3.0, the default evaluation metric used with the objective 'binary:logistic' was changed from 'error' to 'logloss'. Explicitly set eval_metric if you'd like to restore the old behavior.\n"
     ]
    },
    {
     "name": "stderr",
     "output_type": "stream",
     "text": [
      "D:\\Program Files (x86)\\Anaconda\\lib\\site-packages\\xgboost\\sklearn.py:888: UserWarning: The use of label encoder in XGBClassifier is deprecated and will be removed in a future release. To remove this warning, do the following: 1) Pass option use_label_encoder=False when constructing XGBClassifier object; and 2) Encode your labels (y) as integers starting with 0, i.e. 0, 1, 2, ..., [num_class - 1].\n",
      "  warnings.warn(label_encoder_deprecation_msg, UserWarning)\n"
     ]
    },
    {
     "name": "stdout",
     "output_type": "stream",
     "text": [
      "[00:35:54] WARNING: C:/Users/Administrator/workspace/xgboost-win64_release_1.3.0/src/learner.cc:1061: Starting in XGBoost 1.3.0, the default evaluation metric used with the objective 'binary:logistic' was changed from 'error' to 'logloss'. Explicitly set eval_metric if you'd like to restore the old behavior.\n"
     ]
    },
    {
     "name": "stderr",
     "output_type": "stream",
     "text": [
      "D:\\Program Files (x86)\\Anaconda\\lib\\site-packages\\xgboost\\sklearn.py:888: UserWarning: The use of label encoder in XGBClassifier is deprecated and will be removed in a future release. To remove this warning, do the following: 1) Pass option use_label_encoder=False when constructing XGBClassifier object; and 2) Encode your labels (y) as integers starting with 0, i.e. 0, 1, 2, ..., [num_class - 1].\n",
      "  warnings.warn(label_encoder_deprecation_msg, UserWarning)\n"
     ]
    },
    {
     "name": "stdout",
     "output_type": "stream",
     "text": [
      "[00:35:56] WARNING: C:/Users/Administrator/workspace/xgboost-win64_release_1.3.0/src/learner.cc:1061: Starting in XGBoost 1.3.0, the default evaluation metric used with the objective 'binary:logistic' was changed from 'error' to 'logloss'. Explicitly set eval_metric if you'd like to restore the old behavior.\n"
     ]
    },
    {
     "name": "stderr",
     "output_type": "stream",
     "text": [
      "D:\\Program Files (x86)\\Anaconda\\lib\\site-packages\\xgboost\\sklearn.py:888: UserWarning: The use of label encoder in XGBClassifier is deprecated and will be removed in a future release. To remove this warning, do the following: 1) Pass option use_label_encoder=False when constructing XGBClassifier object; and 2) Encode your labels (y) as integers starting with 0, i.e. 0, 1, 2, ..., [num_class - 1].\n",
      "  warnings.warn(label_encoder_deprecation_msg, UserWarning)\n"
     ]
    },
    {
     "name": "stdout",
     "output_type": "stream",
     "text": [
      "[00:35:59] WARNING: C:/Users/Administrator/workspace/xgboost-win64_release_1.3.0/src/learner.cc:1061: Starting in XGBoost 1.3.0, the default evaluation metric used with the objective 'binary:logistic' was changed from 'error' to 'logloss'. Explicitly set eval_metric if you'd like to restore the old behavior.\n"
     ]
    },
    {
     "name": "stderr",
     "output_type": "stream",
     "text": [
      "D:\\Program Files (x86)\\Anaconda\\lib\\site-packages\\xgboost\\sklearn.py:888: UserWarning: The use of label encoder in XGBClassifier is deprecated and will be removed in a future release. To remove this warning, do the following: 1) Pass option use_label_encoder=False when constructing XGBClassifier object; and 2) Encode your labels (y) as integers starting with 0, i.e. 0, 1, 2, ..., [num_class - 1].\n",
      "  warnings.warn(label_encoder_deprecation_msg, UserWarning)\n"
     ]
    },
    {
     "name": "stdout",
     "output_type": "stream",
     "text": [
      "[00:36:01] WARNING: C:/Users/Administrator/workspace/xgboost-win64_release_1.3.0/src/learner.cc:1061: Starting in XGBoost 1.3.0, the default evaluation metric used with the objective 'binary:logistic' was changed from 'error' to 'logloss'. Explicitly set eval_metric if you'd like to restore the old behavior.\n"
     ]
    },
    {
     "name": "stderr",
     "output_type": "stream",
     "text": [
      "D:\\Program Files (x86)\\Anaconda\\lib\\site-packages\\xgboost\\sklearn.py:888: UserWarning: The use of label encoder in XGBClassifier is deprecated and will be removed in a future release. To remove this warning, do the following: 1) Pass option use_label_encoder=False when constructing XGBClassifier object; and 2) Encode your labels (y) as integers starting with 0, i.e. 0, 1, 2, ..., [num_class - 1].\n",
      "  warnings.warn(label_encoder_deprecation_msg, UserWarning)\n"
     ]
    },
    {
     "name": "stdout",
     "output_type": "stream",
     "text": [
      "[00:36:03] WARNING: C:/Users/Administrator/workspace/xgboost-win64_release_1.3.0/src/learner.cc:1061: Starting in XGBoost 1.3.0, the default evaluation metric used with the objective 'binary:logistic' was changed from 'error' to 'logloss'. Explicitly set eval_metric if you'd like to restore the old behavior.\n"
     ]
    },
    {
     "name": "stderr",
     "output_type": "stream",
     "text": [
      "D:\\Program Files (x86)\\Anaconda\\lib\\site-packages\\xgboost\\sklearn.py:888: UserWarning: The use of label encoder in XGBClassifier is deprecated and will be removed in a future release. To remove this warning, do the following: 1) Pass option use_label_encoder=False when constructing XGBClassifier object; and 2) Encode your labels (y) as integers starting with 0, i.e. 0, 1, 2, ..., [num_class - 1].\n",
      "  warnings.warn(label_encoder_deprecation_msg, UserWarning)\n"
     ]
    },
    {
     "name": "stdout",
     "output_type": "stream",
     "text": [
      "[00:36:11] WARNING: C:/Users/Administrator/workspace/xgboost-win64_release_1.3.0/src/learner.cc:1061: Starting in XGBoost 1.3.0, the default evaluation metric used with the objective 'binary:logistic' was changed from 'error' to 'logloss'. Explicitly set eval_metric if you'd like to restore the old behavior.\n"
     ]
    },
    {
     "name": "stderr",
     "output_type": "stream",
     "text": [
      "D:\\Program Files (x86)\\Anaconda\\lib\\site-packages\\xgboost\\sklearn.py:888: UserWarning: The use of label encoder in XGBClassifier is deprecated and will be removed in a future release. To remove this warning, do the following: 1) Pass option use_label_encoder=False when constructing XGBClassifier object; and 2) Encode your labels (y) as integers starting with 0, i.e. 0, 1, 2, ..., [num_class - 1].\n",
      "  warnings.warn(label_encoder_deprecation_msg, UserWarning)\n"
     ]
    },
    {
     "name": "stdout",
     "output_type": "stream",
     "text": [
      "[00:36:18] WARNING: C:/Users/Administrator/workspace/xgboost-win64_release_1.3.0/src/learner.cc:1061: Starting in XGBoost 1.3.0, the default evaluation metric used with the objective 'binary:logistic' was changed from 'error' to 'logloss'. Explicitly set eval_metric if you'd like to restore the old behavior.\n"
     ]
    },
    {
     "name": "stderr",
     "output_type": "stream",
     "text": [
      "D:\\Program Files (x86)\\Anaconda\\lib\\site-packages\\xgboost\\sklearn.py:888: UserWarning: The use of label encoder in XGBClassifier is deprecated and will be removed in a future release. To remove this warning, do the following: 1) Pass option use_label_encoder=False when constructing XGBClassifier object; and 2) Encode your labels (y) as integers starting with 0, i.e. 0, 1, 2, ..., [num_class - 1].\n",
      "  warnings.warn(label_encoder_deprecation_msg, UserWarning)\n"
     ]
    },
    {
     "name": "stdout",
     "output_type": "stream",
     "text": [
      "[00:36:24] WARNING: C:/Users/Administrator/workspace/xgboost-win64_release_1.3.0/src/learner.cc:1061: Starting in XGBoost 1.3.0, the default evaluation metric used with the objective 'binary:logistic' was changed from 'error' to 'logloss'. Explicitly set eval_metric if you'd like to restore the old behavior.\n"
     ]
    },
    {
     "name": "stderr",
     "output_type": "stream",
     "text": [
      "D:\\Program Files (x86)\\Anaconda\\lib\\site-packages\\xgboost\\sklearn.py:888: UserWarning: The use of label encoder in XGBClassifier is deprecated and will be removed in a future release. To remove this warning, do the following: 1) Pass option use_label_encoder=False when constructing XGBClassifier object; and 2) Encode your labels (y) as integers starting with 0, i.e. 0, 1, 2, ..., [num_class - 1].\n",
      "  warnings.warn(label_encoder_deprecation_msg, UserWarning)\n"
     ]
    },
    {
     "name": "stdout",
     "output_type": "stream",
     "text": [
      "[00:36:31] WARNING: C:/Users/Administrator/workspace/xgboost-win64_release_1.3.0/src/learner.cc:1061: Starting in XGBoost 1.3.0, the default evaluation metric used with the objective 'binary:logistic' was changed from 'error' to 'logloss'. Explicitly set eval_metric if you'd like to restore the old behavior.\n"
     ]
    },
    {
     "name": "stderr",
     "output_type": "stream",
     "text": [
      "D:\\Program Files (x86)\\Anaconda\\lib\\site-packages\\xgboost\\sklearn.py:888: UserWarning: The use of label encoder in XGBClassifier is deprecated and will be removed in a future release. To remove this warning, do the following: 1) Pass option use_label_encoder=False when constructing XGBClassifier object; and 2) Encode your labels (y) as integers starting with 0, i.e. 0, 1, 2, ..., [num_class - 1].\n",
      "  warnings.warn(label_encoder_deprecation_msg, UserWarning)\n"
     ]
    },
    {
     "name": "stdout",
     "output_type": "stream",
     "text": [
      "[00:36:38] WARNING: C:/Users/Administrator/workspace/xgboost-win64_release_1.3.0/src/learner.cc:1061: Starting in XGBoost 1.3.0, the default evaluation metric used with the objective 'binary:logistic' was changed from 'error' to 'logloss'. Explicitly set eval_metric if you'd like to restore the old behavior.\n"
     ]
    },
    {
     "name": "stderr",
     "output_type": "stream",
     "text": [
      "D:\\Program Files (x86)\\Anaconda\\lib\\site-packages\\xgboost\\sklearn.py:888: UserWarning: The use of label encoder in XGBClassifier is deprecated and will be removed in a future release. To remove this warning, do the following: 1) Pass option use_label_encoder=False when constructing XGBClassifier object; and 2) Encode your labels (y) as integers starting with 0, i.e. 0, 1, 2, ..., [num_class - 1].\n",
      "  warnings.warn(label_encoder_deprecation_msg, UserWarning)\n"
     ]
    },
    {
     "name": "stdout",
     "output_type": "stream",
     "text": [
      "[00:36:49] WARNING: C:/Users/Administrator/workspace/xgboost-win64_release_1.3.0/src/learner.cc:1061: Starting in XGBoost 1.3.0, the default evaluation metric used with the objective 'binary:logistic' was changed from 'error' to 'logloss'. Explicitly set eval_metric if you'd like to restore the old behavior.\n"
     ]
    },
    {
     "name": "stderr",
     "output_type": "stream",
     "text": [
      "D:\\Program Files (x86)\\Anaconda\\lib\\site-packages\\xgboost\\sklearn.py:888: UserWarning: The use of label encoder in XGBClassifier is deprecated and will be removed in a future release. To remove this warning, do the following: 1) Pass option use_label_encoder=False when constructing XGBClassifier object; and 2) Encode your labels (y) as integers starting with 0, i.e. 0, 1, 2, ..., [num_class - 1].\n",
      "  warnings.warn(label_encoder_deprecation_msg, UserWarning)\n"
     ]
    },
    {
     "name": "stdout",
     "output_type": "stream",
     "text": [
      "[00:37:02] WARNING: C:/Users/Administrator/workspace/xgboost-win64_release_1.3.0/src/learner.cc:1061: Starting in XGBoost 1.3.0, the default evaluation metric used with the objective 'binary:logistic' was changed from 'error' to 'logloss'. Explicitly set eval_metric if you'd like to restore the old behavior.\n"
     ]
    },
    {
     "name": "stderr",
     "output_type": "stream",
     "text": [
      "D:\\Program Files (x86)\\Anaconda\\lib\\site-packages\\xgboost\\sklearn.py:888: UserWarning: The use of label encoder in XGBClassifier is deprecated and will be removed in a future release. To remove this warning, do the following: 1) Pass option use_label_encoder=False when constructing XGBClassifier object; and 2) Encode your labels (y) as integers starting with 0, i.e. 0, 1, 2, ..., [num_class - 1].\n",
      "  warnings.warn(label_encoder_deprecation_msg, UserWarning)\n"
     ]
    },
    {
     "name": "stdout",
     "output_type": "stream",
     "text": [
      "[00:37:13] WARNING: C:/Users/Administrator/workspace/xgboost-win64_release_1.3.0/src/learner.cc:1061: Starting in XGBoost 1.3.0, the default evaluation metric used with the objective 'binary:logistic' was changed from 'error' to 'logloss'. Explicitly set eval_metric if you'd like to restore the old behavior.\n"
     ]
    },
    {
     "name": "stderr",
     "output_type": "stream",
     "text": [
      "D:\\Program Files (x86)\\Anaconda\\lib\\site-packages\\xgboost\\sklearn.py:888: UserWarning: The use of label encoder in XGBClassifier is deprecated and will be removed in a future release. To remove this warning, do the following: 1) Pass option use_label_encoder=False when constructing XGBClassifier object; and 2) Encode your labels (y) as integers starting with 0, i.e. 0, 1, 2, ..., [num_class - 1].\n",
      "  warnings.warn(label_encoder_deprecation_msg, UserWarning)\n"
     ]
    },
    {
     "name": "stdout",
     "output_type": "stream",
     "text": [
      "[00:37:24] WARNING: C:/Users/Administrator/workspace/xgboost-win64_release_1.3.0/src/learner.cc:1061: Starting in XGBoost 1.3.0, the default evaluation metric used with the objective 'binary:logistic' was changed from 'error' to 'logloss'. Explicitly set eval_metric if you'd like to restore the old behavior.\n"
     ]
    },
    {
     "name": "stderr",
     "output_type": "stream",
     "text": [
      "D:\\Program Files (x86)\\Anaconda\\lib\\site-packages\\xgboost\\sklearn.py:888: UserWarning: The use of label encoder in XGBClassifier is deprecated and will be removed in a future release. To remove this warning, do the following: 1) Pass option use_label_encoder=False when constructing XGBClassifier object; and 2) Encode your labels (y) as integers starting with 0, i.e. 0, 1, 2, ..., [num_class - 1].\n",
      "  warnings.warn(label_encoder_deprecation_msg, UserWarning)\n"
     ]
    },
    {
     "name": "stdout",
     "output_type": "stream",
     "text": [
      "[00:37:35] WARNING: C:/Users/Administrator/workspace/xgboost-win64_release_1.3.0/src/learner.cc:1061: Starting in XGBoost 1.3.0, the default evaluation metric used with the objective 'binary:logistic' was changed from 'error' to 'logloss'. Explicitly set eval_metric if you'd like to restore the old behavior.\n"
     ]
    },
    {
     "name": "stderr",
     "output_type": "stream",
     "text": [
      "D:\\Program Files (x86)\\Anaconda\\lib\\site-packages\\xgboost\\sklearn.py:888: UserWarning: The use of label encoder in XGBClassifier is deprecated and will be removed in a future release. To remove this warning, do the following: 1) Pass option use_label_encoder=False when constructing XGBClassifier object; and 2) Encode your labels (y) as integers starting with 0, i.e. 0, 1, 2, ..., [num_class - 1].\n",
      "  warnings.warn(label_encoder_deprecation_msg, UserWarning)\n"
     ]
    },
    {
     "name": "stdout",
     "output_type": "stream",
     "text": [
      "[00:37:38] WARNING: C:/Users/Administrator/workspace/xgboost-win64_release_1.3.0/src/learner.cc:1061: Starting in XGBoost 1.3.0, the default evaluation metric used with the objective 'binary:logistic' was changed from 'error' to 'logloss'. Explicitly set eval_metric if you'd like to restore the old behavior.\n"
     ]
    },
    {
     "name": "stderr",
     "output_type": "stream",
     "text": [
      "D:\\Program Files (x86)\\Anaconda\\lib\\site-packages\\xgboost\\sklearn.py:888: UserWarning: The use of label encoder in XGBClassifier is deprecated and will be removed in a future release. To remove this warning, do the following: 1) Pass option use_label_encoder=False when constructing XGBClassifier object; and 2) Encode your labels (y) as integers starting with 0, i.e. 0, 1, 2, ..., [num_class - 1].\n",
      "  warnings.warn(label_encoder_deprecation_msg, UserWarning)\n"
     ]
    },
    {
     "name": "stdout",
     "output_type": "stream",
     "text": [
      "[00:37:40] WARNING: C:/Users/Administrator/workspace/xgboost-win64_release_1.3.0/src/learner.cc:1061: Starting in XGBoost 1.3.0, the default evaluation metric used with the objective 'binary:logistic' was changed from 'error' to 'logloss'. Explicitly set eval_metric if you'd like to restore the old behavior.\n"
     ]
    },
    {
     "name": "stderr",
     "output_type": "stream",
     "text": [
      "D:\\Program Files (x86)\\Anaconda\\lib\\site-packages\\xgboost\\sklearn.py:888: UserWarning: The use of label encoder in XGBClassifier is deprecated and will be removed in a future release. To remove this warning, do the following: 1) Pass option use_label_encoder=False when constructing XGBClassifier object; and 2) Encode your labels (y) as integers starting with 0, i.e. 0, 1, 2, ..., [num_class - 1].\n",
      "  warnings.warn(label_encoder_deprecation_msg, UserWarning)\n"
     ]
    },
    {
     "name": "stdout",
     "output_type": "stream",
     "text": [
      "[00:37:43] WARNING: C:/Users/Administrator/workspace/xgboost-win64_release_1.3.0/src/learner.cc:1061: Starting in XGBoost 1.3.0, the default evaluation metric used with the objective 'binary:logistic' was changed from 'error' to 'logloss'. Explicitly set eval_metric if you'd like to restore the old behavior.\n"
     ]
    },
    {
     "name": "stderr",
     "output_type": "stream",
     "text": [
      "D:\\Program Files (x86)\\Anaconda\\lib\\site-packages\\xgboost\\sklearn.py:888: UserWarning: The use of label encoder in XGBClassifier is deprecated and will be removed in a future release. To remove this warning, do the following: 1) Pass option use_label_encoder=False when constructing XGBClassifier object; and 2) Encode your labels (y) as integers starting with 0, i.e. 0, 1, 2, ..., [num_class - 1].\n",
      "  warnings.warn(label_encoder_deprecation_msg, UserWarning)\n"
     ]
    },
    {
     "name": "stdout",
     "output_type": "stream",
     "text": [
      "[00:37:45] WARNING: C:/Users/Administrator/workspace/xgboost-win64_release_1.3.0/src/learner.cc:1061: Starting in XGBoost 1.3.0, the default evaluation metric used with the objective 'binary:logistic' was changed from 'error' to 'logloss'. Explicitly set eval_metric if you'd like to restore the old behavior.\n"
     ]
    },
    {
     "name": "stderr",
     "output_type": "stream",
     "text": [
      "D:\\Program Files (x86)\\Anaconda\\lib\\site-packages\\xgboost\\sklearn.py:888: UserWarning: The use of label encoder in XGBClassifier is deprecated and will be removed in a future release. To remove this warning, do the following: 1) Pass option use_label_encoder=False when constructing XGBClassifier object; and 2) Encode your labels (y) as integers starting with 0, i.e. 0, 1, 2, ..., [num_class - 1].\n",
      "  warnings.warn(label_encoder_deprecation_msg, UserWarning)\n"
     ]
    },
    {
     "name": "stdout",
     "output_type": "stream",
     "text": [
      "[00:37:48] WARNING: C:/Users/Administrator/workspace/xgboost-win64_release_1.3.0/src/learner.cc:1061: Starting in XGBoost 1.3.0, the default evaluation metric used with the objective 'binary:logistic' was changed from 'error' to 'logloss'. Explicitly set eval_metric if you'd like to restore the old behavior.\n"
     ]
    },
    {
     "name": "stderr",
     "output_type": "stream",
     "text": [
      "D:\\Program Files (x86)\\Anaconda\\lib\\site-packages\\xgboost\\sklearn.py:888: UserWarning: The use of label encoder in XGBClassifier is deprecated and will be removed in a future release. To remove this warning, do the following: 1) Pass option use_label_encoder=False when constructing XGBClassifier object; and 2) Encode your labels (y) as integers starting with 0, i.e. 0, 1, 2, ..., [num_class - 1].\n",
      "  warnings.warn(label_encoder_deprecation_msg, UserWarning)\n"
     ]
    },
    {
     "name": "stdout",
     "output_type": "stream",
     "text": [
      "[00:37:55] WARNING: C:/Users/Administrator/workspace/xgboost-win64_release_1.3.0/src/learner.cc:1061: Starting in XGBoost 1.3.0, the default evaluation metric used with the objective 'binary:logistic' was changed from 'error' to 'logloss'. Explicitly set eval_metric if you'd like to restore the old behavior.\n"
     ]
    },
    {
     "name": "stderr",
     "output_type": "stream",
     "text": [
      "D:\\Program Files (x86)\\Anaconda\\lib\\site-packages\\xgboost\\sklearn.py:888: UserWarning: The use of label encoder in XGBClassifier is deprecated and will be removed in a future release. To remove this warning, do the following: 1) Pass option use_label_encoder=False when constructing XGBClassifier object; and 2) Encode your labels (y) as integers starting with 0, i.e. 0, 1, 2, ..., [num_class - 1].\n",
      "  warnings.warn(label_encoder_deprecation_msg, UserWarning)\n"
     ]
    },
    {
     "name": "stdout",
     "output_type": "stream",
     "text": [
      "[00:38:04] WARNING: C:/Users/Administrator/workspace/xgboost-win64_release_1.3.0/src/learner.cc:1061: Starting in XGBoost 1.3.0, the default evaluation metric used with the objective 'binary:logistic' was changed from 'error' to 'logloss'. Explicitly set eval_metric if you'd like to restore the old behavior.\n"
     ]
    },
    {
     "name": "stderr",
     "output_type": "stream",
     "text": [
      "D:\\Program Files (x86)\\Anaconda\\lib\\site-packages\\xgboost\\sklearn.py:888: UserWarning: The use of label encoder in XGBClassifier is deprecated and will be removed in a future release. To remove this warning, do the following: 1) Pass option use_label_encoder=False when constructing XGBClassifier object; and 2) Encode your labels (y) as integers starting with 0, i.e. 0, 1, 2, ..., [num_class - 1].\n",
      "  warnings.warn(label_encoder_deprecation_msg, UserWarning)\n"
     ]
    },
    {
     "name": "stdout",
     "output_type": "stream",
     "text": [
      "[00:38:12] WARNING: C:/Users/Administrator/workspace/xgboost-win64_release_1.3.0/src/learner.cc:1061: Starting in XGBoost 1.3.0, the default evaluation metric used with the objective 'binary:logistic' was changed from 'error' to 'logloss'. Explicitly set eval_metric if you'd like to restore the old behavior.\n"
     ]
    },
    {
     "name": "stderr",
     "output_type": "stream",
     "text": [
      "D:\\Program Files (x86)\\Anaconda\\lib\\site-packages\\xgboost\\sklearn.py:888: UserWarning: The use of label encoder in XGBClassifier is deprecated and will be removed in a future release. To remove this warning, do the following: 1) Pass option use_label_encoder=False when constructing XGBClassifier object; and 2) Encode your labels (y) as integers starting with 0, i.e. 0, 1, 2, ..., [num_class - 1].\n",
      "  warnings.warn(label_encoder_deprecation_msg, UserWarning)\n"
     ]
    },
    {
     "name": "stdout",
     "output_type": "stream",
     "text": [
      "[00:38:19] WARNING: C:/Users/Administrator/workspace/xgboost-win64_release_1.3.0/src/learner.cc:1061: Starting in XGBoost 1.3.0, the default evaluation metric used with the objective 'binary:logistic' was changed from 'error' to 'logloss'. Explicitly set eval_metric if you'd like to restore the old behavior.\n"
     ]
    },
    {
     "name": "stderr",
     "output_type": "stream",
     "text": [
      "D:\\Program Files (x86)\\Anaconda\\lib\\site-packages\\xgboost\\sklearn.py:888: UserWarning: The use of label encoder in XGBClassifier is deprecated and will be removed in a future release. To remove this warning, do the following: 1) Pass option use_label_encoder=False when constructing XGBClassifier object; and 2) Encode your labels (y) as integers starting with 0, i.e. 0, 1, 2, ..., [num_class - 1].\n",
      "  warnings.warn(label_encoder_deprecation_msg, UserWarning)\n"
     ]
    },
    {
     "name": "stdout",
     "output_type": "stream",
     "text": [
      "[00:38:27] WARNING: C:/Users/Administrator/workspace/xgboost-win64_release_1.3.0/src/learner.cc:1061: Starting in XGBoost 1.3.0, the default evaluation metric used with the objective 'binary:logistic' was changed from 'error' to 'logloss'. Explicitly set eval_metric if you'd like to restore the old behavior.\n"
     ]
    },
    {
     "name": "stderr",
     "output_type": "stream",
     "text": [
      "D:\\Program Files (x86)\\Anaconda\\lib\\site-packages\\xgboost\\sklearn.py:888: UserWarning: The use of label encoder in XGBClassifier is deprecated and will be removed in a future release. To remove this warning, do the following: 1) Pass option use_label_encoder=False when constructing XGBClassifier object; and 2) Encode your labels (y) as integers starting with 0, i.e. 0, 1, 2, ..., [num_class - 1].\n",
      "  warnings.warn(label_encoder_deprecation_msg, UserWarning)\n"
     ]
    },
    {
     "name": "stdout",
     "output_type": "stream",
     "text": [
      "[00:38:40] WARNING: C:/Users/Administrator/workspace/xgboost-win64_release_1.3.0/src/learner.cc:1061: Starting in XGBoost 1.3.0, the default evaluation metric used with the objective 'binary:logistic' was changed from 'error' to 'logloss'. Explicitly set eval_metric if you'd like to restore the old behavior.\n"
     ]
    },
    {
     "name": "stderr",
     "output_type": "stream",
     "text": [
      "D:\\Program Files (x86)\\Anaconda\\lib\\site-packages\\xgboost\\sklearn.py:888: UserWarning: The use of label encoder in XGBClassifier is deprecated and will be removed in a future release. To remove this warning, do the following: 1) Pass option use_label_encoder=False when constructing XGBClassifier object; and 2) Encode your labels (y) as integers starting with 0, i.e. 0, 1, 2, ..., [num_class - 1].\n",
      "  warnings.warn(label_encoder_deprecation_msg, UserWarning)\n"
     ]
    },
    {
     "name": "stdout",
     "output_type": "stream",
     "text": [
      "[00:38:53] WARNING: C:/Users/Administrator/workspace/xgboost-win64_release_1.3.0/src/learner.cc:1061: Starting in XGBoost 1.3.0, the default evaluation metric used with the objective 'binary:logistic' was changed from 'error' to 'logloss'. Explicitly set eval_metric if you'd like to restore the old behavior.\n"
     ]
    },
    {
     "name": "stderr",
     "output_type": "stream",
     "text": [
      "D:\\Program Files (x86)\\Anaconda\\lib\\site-packages\\xgboost\\sklearn.py:888: UserWarning: The use of label encoder in XGBClassifier is deprecated and will be removed in a future release. To remove this warning, do the following: 1) Pass option use_label_encoder=False when constructing XGBClassifier object; and 2) Encode your labels (y) as integers starting with 0, i.e. 0, 1, 2, ..., [num_class - 1].\n",
      "  warnings.warn(label_encoder_deprecation_msg, UserWarning)\n"
     ]
    },
    {
     "name": "stdout",
     "output_type": "stream",
     "text": [
      "[00:39:06] WARNING: C:/Users/Administrator/workspace/xgboost-win64_release_1.3.0/src/learner.cc:1061: Starting in XGBoost 1.3.0, the default evaluation metric used with the objective 'binary:logistic' was changed from 'error' to 'logloss'. Explicitly set eval_metric if you'd like to restore the old behavior.\n"
     ]
    },
    {
     "name": "stderr",
     "output_type": "stream",
     "text": [
      "D:\\Program Files (x86)\\Anaconda\\lib\\site-packages\\xgboost\\sklearn.py:888: UserWarning: The use of label encoder in XGBClassifier is deprecated and will be removed in a future release. To remove this warning, do the following: 1) Pass option use_label_encoder=False when constructing XGBClassifier object; and 2) Encode your labels (y) as integers starting with 0, i.e. 0, 1, 2, ..., [num_class - 1].\n",
      "  warnings.warn(label_encoder_deprecation_msg, UserWarning)\n"
     ]
    },
    {
     "name": "stdout",
     "output_type": "stream",
     "text": [
      "[00:39:18] WARNING: C:/Users/Administrator/workspace/xgboost-win64_release_1.3.0/src/learner.cc:1061: Starting in XGBoost 1.3.0, the default evaluation metric used with the objective 'binary:logistic' was changed from 'error' to 'logloss'. Explicitly set eval_metric if you'd like to restore the old behavior.\n"
     ]
    },
    {
     "name": "stderr",
     "output_type": "stream",
     "text": [
      "D:\\Program Files (x86)\\Anaconda\\lib\\site-packages\\xgboost\\sklearn.py:888: UserWarning: The use of label encoder in XGBClassifier is deprecated and will be removed in a future release. To remove this warning, do the following: 1) Pass option use_label_encoder=False when constructing XGBClassifier object; and 2) Encode your labels (y) as integers starting with 0, i.e. 0, 1, 2, ..., [num_class - 1].\n",
      "  warnings.warn(label_encoder_deprecation_msg, UserWarning)\n"
     ]
    },
    {
     "name": "stdout",
     "output_type": "stream",
     "text": [
      "[00:39:31] WARNING: C:/Users/Administrator/workspace/xgboost-win64_release_1.3.0/src/learner.cc:1061: Starting in XGBoost 1.3.0, the default evaluation metric used with the objective 'binary:logistic' was changed from 'error' to 'logloss'. Explicitly set eval_metric if you'd like to restore the old behavior.\n"
     ]
    },
    {
     "name": "stderr",
     "output_type": "stream",
     "text": [
      "D:\\Program Files (x86)\\Anaconda\\lib\\site-packages\\xgboost\\sklearn.py:888: UserWarning: The use of label encoder in XGBClassifier is deprecated and will be removed in a future release. To remove this warning, do the following: 1) Pass option use_label_encoder=False when constructing XGBClassifier object; and 2) Encode your labels (y) as integers starting with 0, i.e. 0, 1, 2, ..., [num_class - 1].\n",
      "  warnings.warn(label_encoder_deprecation_msg, UserWarning)\n"
     ]
    },
    {
     "name": "stdout",
     "output_type": "stream",
     "text": [
      "[00:39:33] WARNING: C:/Users/Administrator/workspace/xgboost-win64_release_1.3.0/src/learner.cc:1061: Starting in XGBoost 1.3.0, the default evaluation metric used with the objective 'binary:logistic' was changed from 'error' to 'logloss'. Explicitly set eval_metric if you'd like to restore the old behavior.\n"
     ]
    },
    {
     "name": "stderr",
     "output_type": "stream",
     "text": [
      "D:\\Program Files (x86)\\Anaconda\\lib\\site-packages\\xgboost\\sklearn.py:888: UserWarning: The use of label encoder in XGBClassifier is deprecated and will be removed in a future release. To remove this warning, do the following: 1) Pass option use_label_encoder=False when constructing XGBClassifier object; and 2) Encode your labels (y) as integers starting with 0, i.e. 0, 1, 2, ..., [num_class - 1].\n",
      "  warnings.warn(label_encoder_deprecation_msg, UserWarning)\n"
     ]
    },
    {
     "name": "stdout",
     "output_type": "stream",
     "text": [
      "[00:39:35] WARNING: C:/Users/Administrator/workspace/xgboost-win64_release_1.3.0/src/learner.cc:1061: Starting in XGBoost 1.3.0, the default evaluation metric used with the objective 'binary:logistic' was changed from 'error' to 'logloss'. Explicitly set eval_metric if you'd like to restore the old behavior.\n"
     ]
    },
    {
     "name": "stderr",
     "output_type": "stream",
     "text": [
      "D:\\Program Files (x86)\\Anaconda\\lib\\site-packages\\xgboost\\sklearn.py:888: UserWarning: The use of label encoder in XGBClassifier is deprecated and will be removed in a future release. To remove this warning, do the following: 1) Pass option use_label_encoder=False when constructing XGBClassifier object; and 2) Encode your labels (y) as integers starting with 0, i.e. 0, 1, 2, ..., [num_class - 1].\n",
      "  warnings.warn(label_encoder_deprecation_msg, UserWarning)\n"
     ]
    },
    {
     "name": "stdout",
     "output_type": "stream",
     "text": [
      "[00:39:36] WARNING: C:/Users/Administrator/workspace/xgboost-win64_release_1.3.0/src/learner.cc:1061: Starting in XGBoost 1.3.0, the default evaluation metric used with the objective 'binary:logistic' was changed from 'error' to 'logloss'. Explicitly set eval_metric if you'd like to restore the old behavior.\n"
     ]
    },
    {
     "name": "stderr",
     "output_type": "stream",
     "text": [
      "D:\\Program Files (x86)\\Anaconda\\lib\\site-packages\\xgboost\\sklearn.py:888: UserWarning: The use of label encoder in XGBClassifier is deprecated and will be removed in a future release. To remove this warning, do the following: 1) Pass option use_label_encoder=False when constructing XGBClassifier object; and 2) Encode your labels (y) as integers starting with 0, i.e. 0, 1, 2, ..., [num_class - 1].\n",
      "  warnings.warn(label_encoder_deprecation_msg, UserWarning)\n"
     ]
    },
    {
     "name": "stdout",
     "output_type": "stream",
     "text": [
      "[00:39:38] WARNING: C:/Users/Administrator/workspace/xgboost-win64_release_1.3.0/src/learner.cc:1061: Starting in XGBoost 1.3.0, the default evaluation metric used with the objective 'binary:logistic' was changed from 'error' to 'logloss'. Explicitly set eval_metric if you'd like to restore the old behavior.\n"
     ]
    },
    {
     "name": "stderr",
     "output_type": "stream",
     "text": [
      "D:\\Program Files (x86)\\Anaconda\\lib\\site-packages\\xgboost\\sklearn.py:888: UserWarning: The use of label encoder in XGBClassifier is deprecated and will be removed in a future release. To remove this warning, do the following: 1) Pass option use_label_encoder=False when constructing XGBClassifier object; and 2) Encode your labels (y) as integers starting with 0, i.e. 0, 1, 2, ..., [num_class - 1].\n",
      "  warnings.warn(label_encoder_deprecation_msg, UserWarning)\n"
     ]
    },
    {
     "name": "stdout",
     "output_type": "stream",
     "text": [
      "[00:39:40] WARNING: C:/Users/Administrator/workspace/xgboost-win64_release_1.3.0/src/learner.cc:1061: Starting in XGBoost 1.3.0, the default evaluation metric used with the objective 'binary:logistic' was changed from 'error' to 'logloss'. Explicitly set eval_metric if you'd like to restore the old behavior.\n"
     ]
    },
    {
     "name": "stderr",
     "output_type": "stream",
     "text": [
      "D:\\Program Files (x86)\\Anaconda\\lib\\site-packages\\xgboost\\sklearn.py:888: UserWarning: The use of label encoder in XGBClassifier is deprecated and will be removed in a future release. To remove this warning, do the following: 1) Pass option use_label_encoder=False when constructing XGBClassifier object; and 2) Encode your labels (y) as integers starting with 0, i.e. 0, 1, 2, ..., [num_class - 1].\n",
      "  warnings.warn(label_encoder_deprecation_msg, UserWarning)\n"
     ]
    },
    {
     "name": "stdout",
     "output_type": "stream",
     "text": [
      "[00:39:45] WARNING: C:/Users/Administrator/workspace/xgboost-win64_release_1.3.0/src/learner.cc:1061: Starting in XGBoost 1.3.0, the default evaluation metric used with the objective 'binary:logistic' was changed from 'error' to 'logloss'. Explicitly set eval_metric if you'd like to restore the old behavior.\n"
     ]
    },
    {
     "name": "stderr",
     "output_type": "stream",
     "text": [
      "D:\\Program Files (x86)\\Anaconda\\lib\\site-packages\\xgboost\\sklearn.py:888: UserWarning: The use of label encoder in XGBClassifier is deprecated and will be removed in a future release. To remove this warning, do the following: 1) Pass option use_label_encoder=False when constructing XGBClassifier object; and 2) Encode your labels (y) as integers starting with 0, i.e. 0, 1, 2, ..., [num_class - 1].\n",
      "  warnings.warn(label_encoder_deprecation_msg, UserWarning)\n"
     ]
    },
    {
     "name": "stdout",
     "output_type": "stream",
     "text": [
      "[00:39:50] WARNING: C:/Users/Administrator/workspace/xgboost-win64_release_1.3.0/src/learner.cc:1061: Starting in XGBoost 1.3.0, the default evaluation metric used with the objective 'binary:logistic' was changed from 'error' to 'logloss'. Explicitly set eval_metric if you'd like to restore the old behavior.\n"
     ]
    },
    {
     "name": "stderr",
     "output_type": "stream",
     "text": [
      "D:\\Program Files (x86)\\Anaconda\\lib\\site-packages\\xgboost\\sklearn.py:888: UserWarning: The use of label encoder in XGBClassifier is deprecated and will be removed in a future release. To remove this warning, do the following: 1) Pass option use_label_encoder=False when constructing XGBClassifier object; and 2) Encode your labels (y) as integers starting with 0, i.e. 0, 1, 2, ..., [num_class - 1].\n",
      "  warnings.warn(label_encoder_deprecation_msg, UserWarning)\n"
     ]
    },
    {
     "name": "stdout",
     "output_type": "stream",
     "text": [
      "[00:39:56] WARNING: C:/Users/Administrator/workspace/xgboost-win64_release_1.3.0/src/learner.cc:1061: Starting in XGBoost 1.3.0, the default evaluation metric used with the objective 'binary:logistic' was changed from 'error' to 'logloss'. Explicitly set eval_metric if you'd like to restore the old behavior.\n"
     ]
    },
    {
     "name": "stderr",
     "output_type": "stream",
     "text": [
      "D:\\Program Files (x86)\\Anaconda\\lib\\site-packages\\xgboost\\sklearn.py:888: UserWarning: The use of label encoder in XGBClassifier is deprecated and will be removed in a future release. To remove this warning, do the following: 1) Pass option use_label_encoder=False when constructing XGBClassifier object; and 2) Encode your labels (y) as integers starting with 0, i.e. 0, 1, 2, ..., [num_class - 1].\n",
      "  warnings.warn(label_encoder_deprecation_msg, UserWarning)\n"
     ]
    },
    {
     "name": "stdout",
     "output_type": "stream",
     "text": [
      "[00:40:01] WARNING: C:/Users/Administrator/workspace/xgboost-win64_release_1.3.0/src/learner.cc:1061: Starting in XGBoost 1.3.0, the default evaluation metric used with the objective 'binary:logistic' was changed from 'error' to 'logloss'. Explicitly set eval_metric if you'd like to restore the old behavior.\n"
     ]
    },
    {
     "name": "stderr",
     "output_type": "stream",
     "text": [
      "D:\\Program Files (x86)\\Anaconda\\lib\\site-packages\\xgboost\\sklearn.py:888: UserWarning: The use of label encoder in XGBClassifier is deprecated and will be removed in a future release. To remove this warning, do the following: 1) Pass option use_label_encoder=False when constructing XGBClassifier object; and 2) Encode your labels (y) as integers starting with 0, i.e. 0, 1, 2, ..., [num_class - 1].\n",
      "  warnings.warn(label_encoder_deprecation_msg, UserWarning)\n"
     ]
    },
    {
     "name": "stdout",
     "output_type": "stream",
     "text": [
      "[00:40:06] WARNING: C:/Users/Administrator/workspace/xgboost-win64_release_1.3.0/src/learner.cc:1061: Starting in XGBoost 1.3.0, the default evaluation metric used with the objective 'binary:logistic' was changed from 'error' to 'logloss'. Explicitly set eval_metric if you'd like to restore the old behavior.\n"
     ]
    },
    {
     "name": "stderr",
     "output_type": "stream",
     "text": [
      "D:\\Program Files (x86)\\Anaconda\\lib\\site-packages\\xgboost\\sklearn.py:888: UserWarning: The use of label encoder in XGBClassifier is deprecated and will be removed in a future release. To remove this warning, do the following: 1) Pass option use_label_encoder=False when constructing XGBClassifier object; and 2) Encode your labels (y) as integers starting with 0, i.e. 0, 1, 2, ..., [num_class - 1].\n",
      "  warnings.warn(label_encoder_deprecation_msg, UserWarning)\n"
     ]
    },
    {
     "name": "stdout",
     "output_type": "stream",
     "text": [
      "[00:40:15] WARNING: C:/Users/Administrator/workspace/xgboost-win64_release_1.3.0/src/learner.cc:1061: Starting in XGBoost 1.3.0, the default evaluation metric used with the objective 'binary:logistic' was changed from 'error' to 'logloss'. Explicitly set eval_metric if you'd like to restore the old behavior.\n"
     ]
    },
    {
     "name": "stderr",
     "output_type": "stream",
     "text": [
      "D:\\Program Files (x86)\\Anaconda\\lib\\site-packages\\xgboost\\sklearn.py:888: UserWarning: The use of label encoder in XGBClassifier is deprecated and will be removed in a future release. To remove this warning, do the following: 1) Pass option use_label_encoder=False when constructing XGBClassifier object; and 2) Encode your labels (y) as integers starting with 0, i.e. 0, 1, 2, ..., [num_class - 1].\n",
      "  warnings.warn(label_encoder_deprecation_msg, UserWarning)\n"
     ]
    },
    {
     "name": "stdout",
     "output_type": "stream",
     "text": [
      "[00:40:24] WARNING: C:/Users/Administrator/workspace/xgboost-win64_release_1.3.0/src/learner.cc:1061: Starting in XGBoost 1.3.0, the default evaluation metric used with the objective 'binary:logistic' was changed from 'error' to 'logloss'. Explicitly set eval_metric if you'd like to restore the old behavior.\n"
     ]
    },
    {
     "name": "stderr",
     "output_type": "stream",
     "text": [
      "D:\\Program Files (x86)\\Anaconda\\lib\\site-packages\\xgboost\\sklearn.py:888: UserWarning: The use of label encoder in XGBClassifier is deprecated and will be removed in a future release. To remove this warning, do the following: 1) Pass option use_label_encoder=False when constructing XGBClassifier object; and 2) Encode your labels (y) as integers starting with 0, i.e. 0, 1, 2, ..., [num_class - 1].\n",
      "  warnings.warn(label_encoder_deprecation_msg, UserWarning)\n"
     ]
    },
    {
     "name": "stdout",
     "output_type": "stream",
     "text": [
      "[00:40:32] WARNING: C:/Users/Administrator/workspace/xgboost-win64_release_1.3.0/src/learner.cc:1061: Starting in XGBoost 1.3.0, the default evaluation metric used with the objective 'binary:logistic' was changed from 'error' to 'logloss'. Explicitly set eval_metric if you'd like to restore the old behavior.\n"
     ]
    },
    {
     "name": "stderr",
     "output_type": "stream",
     "text": [
      "D:\\Program Files (x86)\\Anaconda\\lib\\site-packages\\xgboost\\sklearn.py:888: UserWarning: The use of label encoder in XGBClassifier is deprecated and will be removed in a future release. To remove this warning, do the following: 1) Pass option use_label_encoder=False when constructing XGBClassifier object; and 2) Encode your labels (y) as integers starting with 0, i.e. 0, 1, 2, ..., [num_class - 1].\n",
      "  warnings.warn(label_encoder_deprecation_msg, UserWarning)\n"
     ]
    },
    {
     "name": "stdout",
     "output_type": "stream",
     "text": [
      "[00:40:41] WARNING: C:/Users/Administrator/workspace/xgboost-win64_release_1.3.0/src/learner.cc:1061: Starting in XGBoost 1.3.0, the default evaluation metric used with the objective 'binary:logistic' was changed from 'error' to 'logloss'. Explicitly set eval_metric if you'd like to restore the old behavior.\n"
     ]
    },
    {
     "name": "stderr",
     "output_type": "stream",
     "text": [
      "D:\\Program Files (x86)\\Anaconda\\lib\\site-packages\\xgboost\\sklearn.py:888: UserWarning: The use of label encoder in XGBClassifier is deprecated and will be removed in a future release. To remove this warning, do the following: 1) Pass option use_label_encoder=False when constructing XGBClassifier object; and 2) Encode your labels (y) as integers starting with 0, i.e. 0, 1, 2, ..., [num_class - 1].\n",
      "  warnings.warn(label_encoder_deprecation_msg, UserWarning)\n"
     ]
    },
    {
     "name": "stdout",
     "output_type": "stream",
     "text": [
      "[00:40:50] WARNING: C:/Users/Administrator/workspace/xgboost-win64_release_1.3.0/src/learner.cc:1061: Starting in XGBoost 1.3.0, the default evaluation metric used with the objective 'binary:logistic' was changed from 'error' to 'logloss'. Explicitly set eval_metric if you'd like to restore the old behavior.\n"
     ]
    },
    {
     "name": "stderr",
     "output_type": "stream",
     "text": [
      "D:\\Program Files (x86)\\Anaconda\\lib\\site-packages\\xgboost\\sklearn.py:888: UserWarning: The use of label encoder in XGBClassifier is deprecated and will be removed in a future release. To remove this warning, do the following: 1) Pass option use_label_encoder=False when constructing XGBClassifier object; and 2) Encode your labels (y) as integers starting with 0, i.e. 0, 1, 2, ..., [num_class - 1].\n",
      "  warnings.warn(label_encoder_deprecation_msg, UserWarning)\n"
     ]
    },
    {
     "name": "stdout",
     "output_type": "stream",
     "text": [
      "[00:40:52] WARNING: C:/Users/Administrator/workspace/xgboost-win64_release_1.3.0/src/learner.cc:1061: Starting in XGBoost 1.3.0, the default evaluation metric used with the objective 'binary:logistic' was changed from 'error' to 'logloss'. Explicitly set eval_metric if you'd like to restore the old behavior.\n"
     ]
    },
    {
     "name": "stderr",
     "output_type": "stream",
     "text": [
      "D:\\Program Files (x86)\\Anaconda\\lib\\site-packages\\xgboost\\sklearn.py:888: UserWarning: The use of label encoder in XGBClassifier is deprecated and will be removed in a future release. To remove this warning, do the following: 1) Pass option use_label_encoder=False when constructing XGBClassifier object; and 2) Encode your labels (y) as integers starting with 0, i.e. 0, 1, 2, ..., [num_class - 1].\n",
      "  warnings.warn(label_encoder_deprecation_msg, UserWarning)\n"
     ]
    },
    {
     "name": "stdout",
     "output_type": "stream",
     "text": [
      "[00:40:55] WARNING: C:/Users/Administrator/workspace/xgboost-win64_release_1.3.0/src/learner.cc:1061: Starting in XGBoost 1.3.0, the default evaluation metric used with the objective 'binary:logistic' was changed from 'error' to 'logloss'. Explicitly set eval_metric if you'd like to restore the old behavior.\n"
     ]
    },
    {
     "name": "stderr",
     "output_type": "stream",
     "text": [
      "D:\\Program Files (x86)\\Anaconda\\lib\\site-packages\\xgboost\\sklearn.py:888: UserWarning: The use of label encoder in XGBClassifier is deprecated and will be removed in a future release. To remove this warning, do the following: 1) Pass option use_label_encoder=False when constructing XGBClassifier object; and 2) Encode your labels (y) as integers starting with 0, i.e. 0, 1, 2, ..., [num_class - 1].\n",
      "  warnings.warn(label_encoder_deprecation_msg, UserWarning)\n"
     ]
    },
    {
     "name": "stdout",
     "output_type": "stream",
     "text": [
      "[00:40:57] WARNING: C:/Users/Administrator/workspace/xgboost-win64_release_1.3.0/src/learner.cc:1061: Starting in XGBoost 1.3.0, the default evaluation metric used with the objective 'binary:logistic' was changed from 'error' to 'logloss'. Explicitly set eval_metric if you'd like to restore the old behavior.\n"
     ]
    },
    {
     "name": "stderr",
     "output_type": "stream",
     "text": [
      "D:\\Program Files (x86)\\Anaconda\\lib\\site-packages\\xgboost\\sklearn.py:888: UserWarning: The use of label encoder in XGBClassifier is deprecated and will be removed in a future release. To remove this warning, do the following: 1) Pass option use_label_encoder=False when constructing XGBClassifier object; and 2) Encode your labels (y) as integers starting with 0, i.e. 0, 1, 2, ..., [num_class - 1].\n",
      "  warnings.warn(label_encoder_deprecation_msg, UserWarning)\n"
     ]
    },
    {
     "name": "stdout",
     "output_type": "stream",
     "text": [
      "[00:40:59] WARNING: C:/Users/Administrator/workspace/xgboost-win64_release_1.3.0/src/learner.cc:1061: Starting in XGBoost 1.3.0, the default evaluation metric used with the objective 'binary:logistic' was changed from 'error' to 'logloss'. Explicitly set eval_metric if you'd like to restore the old behavior.\n"
     ]
    },
    {
     "name": "stderr",
     "output_type": "stream",
     "text": [
      "D:\\Program Files (x86)\\Anaconda\\lib\\site-packages\\xgboost\\sklearn.py:888: UserWarning: The use of label encoder in XGBClassifier is deprecated and will be removed in a future release. To remove this warning, do the following: 1) Pass option use_label_encoder=False when constructing XGBClassifier object; and 2) Encode your labels (y) as integers starting with 0, i.e. 0, 1, 2, ..., [num_class - 1].\n",
      "  warnings.warn(label_encoder_deprecation_msg, UserWarning)\n"
     ]
    },
    {
     "name": "stdout",
     "output_type": "stream",
     "text": [
      "[00:41:02] WARNING: C:/Users/Administrator/workspace/xgboost-win64_release_1.3.0/src/learner.cc:1061: Starting in XGBoost 1.3.0, the default evaluation metric used with the objective 'binary:logistic' was changed from 'error' to 'logloss'. Explicitly set eval_metric if you'd like to restore the old behavior.\n"
     ]
    },
    {
     "name": "stderr",
     "output_type": "stream",
     "text": [
      "D:\\Program Files (x86)\\Anaconda\\lib\\site-packages\\xgboost\\sklearn.py:888: UserWarning: The use of label encoder in XGBClassifier is deprecated and will be removed in a future release. To remove this warning, do the following: 1) Pass option use_label_encoder=False when constructing XGBClassifier object; and 2) Encode your labels (y) as integers starting with 0, i.e. 0, 1, 2, ..., [num_class - 1].\n",
      "  warnings.warn(label_encoder_deprecation_msg, UserWarning)\n"
     ]
    },
    {
     "name": "stdout",
     "output_type": "stream",
     "text": [
      "[00:41:08] WARNING: C:/Users/Administrator/workspace/xgboost-win64_release_1.3.0/src/learner.cc:1061: Starting in XGBoost 1.3.0, the default evaluation metric used with the objective 'binary:logistic' was changed from 'error' to 'logloss'. Explicitly set eval_metric if you'd like to restore the old behavior.\n"
     ]
    },
    {
     "name": "stderr",
     "output_type": "stream",
     "text": [
      "D:\\Program Files (x86)\\Anaconda\\lib\\site-packages\\xgboost\\sklearn.py:888: UserWarning: The use of label encoder in XGBClassifier is deprecated and will be removed in a future release. To remove this warning, do the following: 1) Pass option use_label_encoder=False when constructing XGBClassifier object; and 2) Encode your labels (y) as integers starting with 0, i.e. 0, 1, 2, ..., [num_class - 1].\n",
      "  warnings.warn(label_encoder_deprecation_msg, UserWarning)\n"
     ]
    },
    {
     "name": "stdout",
     "output_type": "stream",
     "text": [
      "[00:41:15] WARNING: C:/Users/Administrator/workspace/xgboost-win64_release_1.3.0/src/learner.cc:1061: Starting in XGBoost 1.3.0, the default evaluation metric used with the objective 'binary:logistic' was changed from 'error' to 'logloss'. Explicitly set eval_metric if you'd like to restore the old behavior.\n"
     ]
    },
    {
     "name": "stderr",
     "output_type": "stream",
     "text": [
      "D:\\Program Files (x86)\\Anaconda\\lib\\site-packages\\xgboost\\sklearn.py:888: UserWarning: The use of label encoder in XGBClassifier is deprecated and will be removed in a future release. To remove this warning, do the following: 1) Pass option use_label_encoder=False when constructing XGBClassifier object; and 2) Encode your labels (y) as integers starting with 0, i.e. 0, 1, 2, ..., [num_class - 1].\n",
      "  warnings.warn(label_encoder_deprecation_msg, UserWarning)\n"
     ]
    },
    {
     "name": "stdout",
     "output_type": "stream",
     "text": [
      "[00:41:21] WARNING: C:/Users/Administrator/workspace/xgboost-win64_release_1.3.0/src/learner.cc:1061: Starting in XGBoost 1.3.0, the default evaluation metric used with the objective 'binary:logistic' was changed from 'error' to 'logloss'. Explicitly set eval_metric if you'd like to restore the old behavior.\n"
     ]
    },
    {
     "name": "stderr",
     "output_type": "stream",
     "text": [
      "D:\\Program Files (x86)\\Anaconda\\lib\\site-packages\\xgboost\\sklearn.py:888: UserWarning: The use of label encoder in XGBClassifier is deprecated and will be removed in a future release. To remove this warning, do the following: 1) Pass option use_label_encoder=False when constructing XGBClassifier object; and 2) Encode your labels (y) as integers starting with 0, i.e. 0, 1, 2, ..., [num_class - 1].\n",
      "  warnings.warn(label_encoder_deprecation_msg, UserWarning)\n"
     ]
    },
    {
     "name": "stdout",
     "output_type": "stream",
     "text": [
      "[00:41:27] WARNING: C:/Users/Administrator/workspace/xgboost-win64_release_1.3.0/src/learner.cc:1061: Starting in XGBoost 1.3.0, the default evaluation metric used with the objective 'binary:logistic' was changed from 'error' to 'logloss'. Explicitly set eval_metric if you'd like to restore the old behavior.\n"
     ]
    },
    {
     "name": "stderr",
     "output_type": "stream",
     "text": [
      "D:\\Program Files (x86)\\Anaconda\\lib\\site-packages\\xgboost\\sklearn.py:888: UserWarning: The use of label encoder in XGBClassifier is deprecated and will be removed in a future release. To remove this warning, do the following: 1) Pass option use_label_encoder=False when constructing XGBClassifier object; and 2) Encode your labels (y) as integers starting with 0, i.e. 0, 1, 2, ..., [num_class - 1].\n",
      "  warnings.warn(label_encoder_deprecation_msg, UserWarning)\n"
     ]
    },
    {
     "name": "stdout",
     "output_type": "stream",
     "text": [
      "[00:41:34] WARNING: C:/Users/Administrator/workspace/xgboost-win64_release_1.3.0/src/learner.cc:1061: Starting in XGBoost 1.3.0, the default evaluation metric used with the objective 'binary:logistic' was changed from 'error' to 'logloss'. Explicitly set eval_metric if you'd like to restore the old behavior.\n"
     ]
    },
    {
     "name": "stderr",
     "output_type": "stream",
     "text": [
      "D:\\Program Files (x86)\\Anaconda\\lib\\site-packages\\xgboost\\sklearn.py:888: UserWarning: The use of label encoder in XGBClassifier is deprecated and will be removed in a future release. To remove this warning, do the following: 1) Pass option use_label_encoder=False when constructing XGBClassifier object; and 2) Encode your labels (y) as integers starting with 0, i.e. 0, 1, 2, ..., [num_class - 1].\n",
      "  warnings.warn(label_encoder_deprecation_msg, UserWarning)\n"
     ]
    },
    {
     "name": "stdout",
     "output_type": "stream",
     "text": [
      "[00:41:45] WARNING: C:/Users/Administrator/workspace/xgboost-win64_release_1.3.0/src/learner.cc:1061: Starting in XGBoost 1.3.0, the default evaluation metric used with the objective 'binary:logistic' was changed from 'error' to 'logloss'. Explicitly set eval_metric if you'd like to restore the old behavior.\n"
     ]
    },
    {
     "name": "stderr",
     "output_type": "stream",
     "text": [
      "D:\\Program Files (x86)\\Anaconda\\lib\\site-packages\\xgboost\\sklearn.py:888: UserWarning: The use of label encoder in XGBClassifier is deprecated and will be removed in a future release. To remove this warning, do the following: 1) Pass option use_label_encoder=False when constructing XGBClassifier object; and 2) Encode your labels (y) as integers starting with 0, i.e. 0, 1, 2, ..., [num_class - 1].\n",
      "  warnings.warn(label_encoder_deprecation_msg, UserWarning)\n"
     ]
    },
    {
     "name": "stdout",
     "output_type": "stream",
     "text": [
      "[00:41:56] WARNING: C:/Users/Administrator/workspace/xgboost-win64_release_1.3.0/src/learner.cc:1061: Starting in XGBoost 1.3.0, the default evaluation metric used with the objective 'binary:logistic' was changed from 'error' to 'logloss'. Explicitly set eval_metric if you'd like to restore the old behavior.\n"
     ]
    },
    {
     "name": "stderr",
     "output_type": "stream",
     "text": [
      "D:\\Program Files (x86)\\Anaconda\\lib\\site-packages\\xgboost\\sklearn.py:888: UserWarning: The use of label encoder in XGBClassifier is deprecated and will be removed in a future release. To remove this warning, do the following: 1) Pass option use_label_encoder=False when constructing XGBClassifier object; and 2) Encode your labels (y) as integers starting with 0, i.e. 0, 1, 2, ..., [num_class - 1].\n",
      "  warnings.warn(label_encoder_deprecation_msg, UserWarning)\n"
     ]
    },
    {
     "name": "stdout",
     "output_type": "stream",
     "text": [
      "[00:42:07] WARNING: C:/Users/Administrator/workspace/xgboost-win64_release_1.3.0/src/learner.cc:1061: Starting in XGBoost 1.3.0, the default evaluation metric used with the objective 'binary:logistic' was changed from 'error' to 'logloss'. Explicitly set eval_metric if you'd like to restore the old behavior.\n"
     ]
    },
    {
     "name": "stderr",
     "output_type": "stream",
     "text": [
      "D:\\Program Files (x86)\\Anaconda\\lib\\site-packages\\xgboost\\sklearn.py:888: UserWarning: The use of label encoder in XGBClassifier is deprecated and will be removed in a future release. To remove this warning, do the following: 1) Pass option use_label_encoder=False when constructing XGBClassifier object; and 2) Encode your labels (y) as integers starting with 0, i.e. 0, 1, 2, ..., [num_class - 1].\n",
      "  warnings.warn(label_encoder_deprecation_msg, UserWarning)\n"
     ]
    },
    {
     "name": "stdout",
     "output_type": "stream",
     "text": [
      "[00:42:17] WARNING: C:/Users/Administrator/workspace/xgboost-win64_release_1.3.0/src/learner.cc:1061: Starting in XGBoost 1.3.0, the default evaluation metric used with the objective 'binary:logistic' was changed from 'error' to 'logloss'. Explicitly set eval_metric if you'd like to restore the old behavior.\n"
     ]
    },
    {
     "name": "stderr",
     "output_type": "stream",
     "text": [
      "D:\\Program Files (x86)\\Anaconda\\lib\\site-packages\\xgboost\\sklearn.py:888: UserWarning: The use of label encoder in XGBClassifier is deprecated and will be removed in a future release. To remove this warning, do the following: 1) Pass option use_label_encoder=False when constructing XGBClassifier object; and 2) Encode your labels (y) as integers starting with 0, i.e. 0, 1, 2, ..., [num_class - 1].\n",
      "  warnings.warn(label_encoder_deprecation_msg, UserWarning)\n"
     ]
    },
    {
     "name": "stdout",
     "output_type": "stream",
     "text": [
      "[00:42:28] WARNING: C:/Users/Administrator/workspace/xgboost-win64_release_1.3.0/src/learner.cc:1061: Starting in XGBoost 1.3.0, the default evaluation metric used with the objective 'binary:logistic' was changed from 'error' to 'logloss'. Explicitly set eval_metric if you'd like to restore the old behavior.\n"
     ]
    },
    {
     "name": "stderr",
     "output_type": "stream",
     "text": [
      "D:\\Program Files (x86)\\Anaconda\\lib\\site-packages\\xgboost\\sklearn.py:888: UserWarning: The use of label encoder in XGBClassifier is deprecated and will be removed in a future release. To remove this warning, do the following: 1) Pass option use_label_encoder=False when constructing XGBClassifier object; and 2) Encode your labels (y) as integers starting with 0, i.e. 0, 1, 2, ..., [num_class - 1].\n",
      "  warnings.warn(label_encoder_deprecation_msg, UserWarning)\n"
     ]
    },
    {
     "name": "stdout",
     "output_type": "stream",
     "text": [
      "[00:42:31] WARNING: C:/Users/Administrator/workspace/xgboost-win64_release_1.3.0/src/learner.cc:1061: Starting in XGBoost 1.3.0, the default evaluation metric used with the objective 'binary:logistic' was changed from 'error' to 'logloss'. Explicitly set eval_metric if you'd like to restore the old behavior.\n"
     ]
    },
    {
     "name": "stderr",
     "output_type": "stream",
     "text": [
      "D:\\Program Files (x86)\\Anaconda\\lib\\site-packages\\xgboost\\sklearn.py:888: UserWarning: The use of label encoder in XGBClassifier is deprecated and will be removed in a future release. To remove this warning, do the following: 1) Pass option use_label_encoder=False when constructing XGBClassifier object; and 2) Encode your labels (y) as integers starting with 0, i.e. 0, 1, 2, ..., [num_class - 1].\n",
      "  warnings.warn(label_encoder_deprecation_msg, UserWarning)\n"
     ]
    },
    {
     "name": "stdout",
     "output_type": "stream",
     "text": [
      "[00:42:34] WARNING: C:/Users/Administrator/workspace/xgboost-win64_release_1.3.0/src/learner.cc:1061: Starting in XGBoost 1.3.0, the default evaluation metric used with the objective 'binary:logistic' was changed from 'error' to 'logloss'. Explicitly set eval_metric if you'd like to restore the old behavior.\n"
     ]
    },
    {
     "name": "stderr",
     "output_type": "stream",
     "text": [
      "D:\\Program Files (x86)\\Anaconda\\lib\\site-packages\\xgboost\\sklearn.py:888: UserWarning: The use of label encoder in XGBClassifier is deprecated and will be removed in a future release. To remove this warning, do the following: 1) Pass option use_label_encoder=False when constructing XGBClassifier object; and 2) Encode your labels (y) as integers starting with 0, i.e. 0, 1, 2, ..., [num_class - 1].\n",
      "  warnings.warn(label_encoder_deprecation_msg, UserWarning)\n"
     ]
    },
    {
     "name": "stdout",
     "output_type": "stream",
     "text": [
      "[00:42:36] WARNING: C:/Users/Administrator/workspace/xgboost-win64_release_1.3.0/src/learner.cc:1061: Starting in XGBoost 1.3.0, the default evaluation metric used with the objective 'binary:logistic' was changed from 'error' to 'logloss'. Explicitly set eval_metric if you'd like to restore the old behavior.\n"
     ]
    },
    {
     "name": "stderr",
     "output_type": "stream",
     "text": [
      "D:\\Program Files (x86)\\Anaconda\\lib\\site-packages\\xgboost\\sklearn.py:888: UserWarning: The use of label encoder in XGBClassifier is deprecated and will be removed in a future release. To remove this warning, do the following: 1) Pass option use_label_encoder=False when constructing XGBClassifier object; and 2) Encode your labels (y) as integers starting with 0, i.e. 0, 1, 2, ..., [num_class - 1].\n",
      "  warnings.warn(label_encoder_deprecation_msg, UserWarning)\n"
     ]
    },
    {
     "name": "stdout",
     "output_type": "stream",
     "text": [
      "[00:42:39] WARNING: C:/Users/Administrator/workspace/xgboost-win64_release_1.3.0/src/learner.cc:1061: Starting in XGBoost 1.3.0, the default evaluation metric used with the objective 'binary:logistic' was changed from 'error' to 'logloss'. Explicitly set eval_metric if you'd like to restore the old behavior.\n"
     ]
    },
    {
     "name": "stderr",
     "output_type": "stream",
     "text": [
      "D:\\Program Files (x86)\\Anaconda\\lib\\site-packages\\xgboost\\sklearn.py:888: UserWarning: The use of label encoder in XGBClassifier is deprecated and will be removed in a future release. To remove this warning, do the following: 1) Pass option use_label_encoder=False when constructing XGBClassifier object; and 2) Encode your labels (y) as integers starting with 0, i.e. 0, 1, 2, ..., [num_class - 1].\n",
      "  warnings.warn(label_encoder_deprecation_msg, UserWarning)\n"
     ]
    },
    {
     "name": "stdout",
     "output_type": "stream",
     "text": [
      "[00:42:42] WARNING: C:/Users/Administrator/workspace/xgboost-win64_release_1.3.0/src/learner.cc:1061: Starting in XGBoost 1.3.0, the default evaluation metric used with the objective 'binary:logistic' was changed from 'error' to 'logloss'. Explicitly set eval_metric if you'd like to restore the old behavior.\n"
     ]
    },
    {
     "name": "stderr",
     "output_type": "stream",
     "text": [
      "D:\\Program Files (x86)\\Anaconda\\lib\\site-packages\\xgboost\\sklearn.py:888: UserWarning: The use of label encoder in XGBClassifier is deprecated and will be removed in a future release. To remove this warning, do the following: 1) Pass option use_label_encoder=False when constructing XGBClassifier object; and 2) Encode your labels (y) as integers starting with 0, i.e. 0, 1, 2, ..., [num_class - 1].\n",
      "  warnings.warn(label_encoder_deprecation_msg, UserWarning)\n"
     ]
    },
    {
     "name": "stdout",
     "output_type": "stream",
     "text": [
      "[00:42:50] WARNING: C:/Users/Administrator/workspace/xgboost-win64_release_1.3.0/src/learner.cc:1061: Starting in XGBoost 1.3.0, the default evaluation metric used with the objective 'binary:logistic' was changed from 'error' to 'logloss'. Explicitly set eval_metric if you'd like to restore the old behavior.\n"
     ]
    },
    {
     "name": "stderr",
     "output_type": "stream",
     "text": [
      "D:\\Program Files (x86)\\Anaconda\\lib\\site-packages\\xgboost\\sklearn.py:888: UserWarning: The use of label encoder in XGBClassifier is deprecated and will be removed in a future release. To remove this warning, do the following: 1) Pass option use_label_encoder=False when constructing XGBClassifier object; and 2) Encode your labels (y) as integers starting with 0, i.e. 0, 1, 2, ..., [num_class - 1].\n",
      "  warnings.warn(label_encoder_deprecation_msg, UserWarning)\n"
     ]
    },
    {
     "name": "stdout",
     "output_type": "stream",
     "text": [
      "[00:42:57] WARNING: C:/Users/Administrator/workspace/xgboost-win64_release_1.3.0/src/learner.cc:1061: Starting in XGBoost 1.3.0, the default evaluation metric used with the objective 'binary:logistic' was changed from 'error' to 'logloss'. Explicitly set eval_metric if you'd like to restore the old behavior.\n"
     ]
    },
    {
     "name": "stderr",
     "output_type": "stream",
     "text": [
      "D:\\Program Files (x86)\\Anaconda\\lib\\site-packages\\xgboost\\sklearn.py:888: UserWarning: The use of label encoder in XGBClassifier is deprecated and will be removed in a future release. To remove this warning, do the following: 1) Pass option use_label_encoder=False when constructing XGBClassifier object; and 2) Encode your labels (y) as integers starting with 0, i.e. 0, 1, 2, ..., [num_class - 1].\n",
      "  warnings.warn(label_encoder_deprecation_msg, UserWarning)\n"
     ]
    },
    {
     "name": "stdout",
     "output_type": "stream",
     "text": [
      "[00:43:05] WARNING: C:/Users/Administrator/workspace/xgboost-win64_release_1.3.0/src/learner.cc:1061: Starting in XGBoost 1.3.0, the default evaluation metric used with the objective 'binary:logistic' was changed from 'error' to 'logloss'. Explicitly set eval_metric if you'd like to restore the old behavior.\n"
     ]
    },
    {
     "name": "stderr",
     "output_type": "stream",
     "text": [
      "D:\\Program Files (x86)\\Anaconda\\lib\\site-packages\\xgboost\\sklearn.py:888: UserWarning: The use of label encoder in XGBClassifier is deprecated and will be removed in a future release. To remove this warning, do the following: 1) Pass option use_label_encoder=False when constructing XGBClassifier object; and 2) Encode your labels (y) as integers starting with 0, i.e. 0, 1, 2, ..., [num_class - 1].\n",
      "  warnings.warn(label_encoder_deprecation_msg, UserWarning)\n"
     ]
    },
    {
     "name": "stdout",
     "output_type": "stream",
     "text": [
      "[00:43:13] WARNING: C:/Users/Administrator/workspace/xgboost-win64_release_1.3.0/src/learner.cc:1061: Starting in XGBoost 1.3.0, the default evaluation metric used with the objective 'binary:logistic' was changed from 'error' to 'logloss'. Explicitly set eval_metric if you'd like to restore the old behavior.\n"
     ]
    },
    {
     "name": "stderr",
     "output_type": "stream",
     "text": [
      "D:\\Program Files (x86)\\Anaconda\\lib\\site-packages\\xgboost\\sklearn.py:888: UserWarning: The use of label encoder in XGBClassifier is deprecated and will be removed in a future release. To remove this warning, do the following: 1) Pass option use_label_encoder=False when constructing XGBClassifier object; and 2) Encode your labels (y) as integers starting with 0, i.e. 0, 1, 2, ..., [num_class - 1].\n",
      "  warnings.warn(label_encoder_deprecation_msg, UserWarning)\n"
     ]
    },
    {
     "name": "stdout",
     "output_type": "stream",
     "text": [
      "[00:43:22] WARNING: C:/Users/Administrator/workspace/xgboost-win64_release_1.3.0/src/learner.cc:1061: Starting in XGBoost 1.3.0, the default evaluation metric used with the objective 'binary:logistic' was changed from 'error' to 'logloss'. Explicitly set eval_metric if you'd like to restore the old behavior.\n"
     ]
    },
    {
     "name": "stderr",
     "output_type": "stream",
     "text": [
      "D:\\Program Files (x86)\\Anaconda\\lib\\site-packages\\xgboost\\sklearn.py:888: UserWarning: The use of label encoder in XGBClassifier is deprecated and will be removed in a future release. To remove this warning, do the following: 1) Pass option use_label_encoder=False when constructing XGBClassifier object; and 2) Encode your labels (y) as integers starting with 0, i.e. 0, 1, 2, ..., [num_class - 1].\n",
      "  warnings.warn(label_encoder_deprecation_msg, UserWarning)\n"
     ]
    },
    {
     "name": "stdout",
     "output_type": "stream",
     "text": [
      "[00:43:35] WARNING: C:/Users/Administrator/workspace/xgboost-win64_release_1.3.0/src/learner.cc:1061: Starting in XGBoost 1.3.0, the default evaluation metric used with the objective 'binary:logistic' was changed from 'error' to 'logloss'. Explicitly set eval_metric if you'd like to restore the old behavior.\n"
     ]
    },
    {
     "name": "stderr",
     "output_type": "stream",
     "text": [
      "D:\\Program Files (x86)\\Anaconda\\lib\\site-packages\\xgboost\\sklearn.py:888: UserWarning: The use of label encoder in XGBClassifier is deprecated and will be removed in a future release. To remove this warning, do the following: 1) Pass option use_label_encoder=False when constructing XGBClassifier object; and 2) Encode your labels (y) as integers starting with 0, i.e. 0, 1, 2, ..., [num_class - 1].\n",
      "  warnings.warn(label_encoder_deprecation_msg, UserWarning)\n"
     ]
    },
    {
     "name": "stdout",
     "output_type": "stream",
     "text": [
      "[00:43:47] WARNING: C:/Users/Administrator/workspace/xgboost-win64_release_1.3.0/src/learner.cc:1061: Starting in XGBoost 1.3.0, the default evaluation metric used with the objective 'binary:logistic' was changed from 'error' to 'logloss'. Explicitly set eval_metric if you'd like to restore the old behavior.\n"
     ]
    },
    {
     "name": "stderr",
     "output_type": "stream",
     "text": [
      "D:\\Program Files (x86)\\Anaconda\\lib\\site-packages\\xgboost\\sklearn.py:888: UserWarning: The use of label encoder in XGBClassifier is deprecated and will be removed in a future release. To remove this warning, do the following: 1) Pass option use_label_encoder=False when constructing XGBClassifier object; and 2) Encode your labels (y) as integers starting with 0, i.e. 0, 1, 2, ..., [num_class - 1].\n",
      "  warnings.warn(label_encoder_deprecation_msg, UserWarning)\n"
     ]
    },
    {
     "name": "stdout",
     "output_type": "stream",
     "text": [
      "[00:44:00] WARNING: C:/Users/Administrator/workspace/xgboost-win64_release_1.3.0/src/learner.cc:1061: Starting in XGBoost 1.3.0, the default evaluation metric used with the objective 'binary:logistic' was changed from 'error' to 'logloss'. Explicitly set eval_metric if you'd like to restore the old behavior.\n"
     ]
    },
    {
     "name": "stderr",
     "output_type": "stream",
     "text": [
      "D:\\Program Files (x86)\\Anaconda\\lib\\site-packages\\xgboost\\sklearn.py:888: UserWarning: The use of label encoder in XGBClassifier is deprecated and will be removed in a future release. To remove this warning, do the following: 1) Pass option use_label_encoder=False when constructing XGBClassifier object; and 2) Encode your labels (y) as integers starting with 0, i.e. 0, 1, 2, ..., [num_class - 1].\n",
      "  warnings.warn(label_encoder_deprecation_msg, UserWarning)\n"
     ]
    },
    {
     "name": "stdout",
     "output_type": "stream",
     "text": [
      "[00:44:12] WARNING: C:/Users/Administrator/workspace/xgboost-win64_release_1.3.0/src/learner.cc:1061: Starting in XGBoost 1.3.0, the default evaluation metric used with the objective 'binary:logistic' was changed from 'error' to 'logloss'. Explicitly set eval_metric if you'd like to restore the old behavior.\n"
     ]
    },
    {
     "name": "stderr",
     "output_type": "stream",
     "text": [
      "D:\\Program Files (x86)\\Anaconda\\lib\\site-packages\\xgboost\\sklearn.py:888: UserWarning: The use of label encoder in XGBClassifier is deprecated and will be removed in a future release. To remove this warning, do the following: 1) Pass option use_label_encoder=False when constructing XGBClassifier object; and 2) Encode your labels (y) as integers starting with 0, i.e. 0, 1, 2, ..., [num_class - 1].\n",
      "  warnings.warn(label_encoder_deprecation_msg, UserWarning)\n"
     ]
    },
    {
     "name": "stdout",
     "output_type": "stream",
     "text": [
      "[00:44:25] WARNING: C:/Users/Administrator/workspace/xgboost-win64_release_1.3.0/src/learner.cc:1061: Starting in XGBoost 1.3.0, the default evaluation metric used with the objective 'binary:logistic' was changed from 'error' to 'logloss'. Explicitly set eval_metric if you'd like to restore the old behavior.\n"
     ]
    },
    {
     "name": "stderr",
     "output_type": "stream",
     "text": [
      "D:\\Program Files (x86)\\Anaconda\\lib\\site-packages\\xgboost\\sklearn.py:888: UserWarning: The use of label encoder in XGBClassifier is deprecated and will be removed in a future release. To remove this warning, do the following: 1) Pass option use_label_encoder=False when constructing XGBClassifier object; and 2) Encode your labels (y) as integers starting with 0, i.e. 0, 1, 2, ..., [num_class - 1].\n",
      "  warnings.warn(label_encoder_deprecation_msg, UserWarning)\n"
     ]
    },
    {
     "name": "stdout",
     "output_type": "stream",
     "text": [
      "[00:44:27] WARNING: C:/Users/Administrator/workspace/xgboost-win64_release_1.3.0/src/learner.cc:1061: Starting in XGBoost 1.3.0, the default evaluation metric used with the objective 'binary:logistic' was changed from 'error' to 'logloss'. Explicitly set eval_metric if you'd like to restore the old behavior.\n"
     ]
    },
    {
     "name": "stderr",
     "output_type": "stream",
     "text": [
      "D:\\Program Files (x86)\\Anaconda\\lib\\site-packages\\xgboost\\sklearn.py:888: UserWarning: The use of label encoder in XGBClassifier is deprecated and will be removed in a future release. To remove this warning, do the following: 1) Pass option use_label_encoder=False when constructing XGBClassifier object; and 2) Encode your labels (y) as integers starting with 0, i.e. 0, 1, 2, ..., [num_class - 1].\n",
      "  warnings.warn(label_encoder_deprecation_msg, UserWarning)\n"
     ]
    },
    {
     "name": "stdout",
     "output_type": "stream",
     "text": [
      "[00:44:29] WARNING: C:/Users/Administrator/workspace/xgboost-win64_release_1.3.0/src/learner.cc:1061: Starting in XGBoost 1.3.0, the default evaluation metric used with the objective 'binary:logistic' was changed from 'error' to 'logloss'. Explicitly set eval_metric if you'd like to restore the old behavior.\n"
     ]
    },
    {
     "name": "stderr",
     "output_type": "stream",
     "text": [
      "D:\\Program Files (x86)\\Anaconda\\lib\\site-packages\\xgboost\\sklearn.py:888: UserWarning: The use of label encoder in XGBClassifier is deprecated and will be removed in a future release. To remove this warning, do the following: 1) Pass option use_label_encoder=False when constructing XGBClassifier object; and 2) Encode your labels (y) as integers starting with 0, i.e. 0, 1, 2, ..., [num_class - 1].\n",
      "  warnings.warn(label_encoder_deprecation_msg, UserWarning)\n"
     ]
    },
    {
     "name": "stdout",
     "output_type": "stream",
     "text": [
      "[00:44:31] WARNING: C:/Users/Administrator/workspace/xgboost-win64_release_1.3.0/src/learner.cc:1061: Starting in XGBoost 1.3.0, the default evaluation metric used with the objective 'binary:logistic' was changed from 'error' to 'logloss'. Explicitly set eval_metric if you'd like to restore the old behavior.\n"
     ]
    },
    {
     "name": "stderr",
     "output_type": "stream",
     "text": [
      "D:\\Program Files (x86)\\Anaconda\\lib\\site-packages\\xgboost\\sklearn.py:888: UserWarning: The use of label encoder in XGBClassifier is deprecated and will be removed in a future release. To remove this warning, do the following: 1) Pass option use_label_encoder=False when constructing XGBClassifier object; and 2) Encode your labels (y) as integers starting with 0, i.e. 0, 1, 2, ..., [num_class - 1].\n",
      "  warnings.warn(label_encoder_deprecation_msg, UserWarning)\n"
     ]
    },
    {
     "name": "stdout",
     "output_type": "stream",
     "text": [
      "[00:44:33] WARNING: C:/Users/Administrator/workspace/xgboost-win64_release_1.3.0/src/learner.cc:1061: Starting in XGBoost 1.3.0, the default evaluation metric used with the objective 'binary:logistic' was changed from 'error' to 'logloss'. Explicitly set eval_metric if you'd like to restore the old behavior.\n"
     ]
    },
    {
     "name": "stderr",
     "output_type": "stream",
     "text": [
      "D:\\Program Files (x86)\\Anaconda\\lib\\site-packages\\xgboost\\sklearn.py:888: UserWarning: The use of label encoder in XGBClassifier is deprecated and will be removed in a future release. To remove this warning, do the following: 1) Pass option use_label_encoder=False when constructing XGBClassifier object; and 2) Encode your labels (y) as integers starting with 0, i.e. 0, 1, 2, ..., [num_class - 1].\n",
      "  warnings.warn(label_encoder_deprecation_msg, UserWarning)\n"
     ]
    },
    {
     "name": "stdout",
     "output_type": "stream",
     "text": [
      "[00:44:35] WARNING: C:/Users/Administrator/workspace/xgboost-win64_release_1.3.0/src/learner.cc:1061: Starting in XGBoost 1.3.0, the default evaluation metric used with the objective 'binary:logistic' was changed from 'error' to 'logloss'. Explicitly set eval_metric if you'd like to restore the old behavior.\n"
     ]
    },
    {
     "name": "stderr",
     "output_type": "stream",
     "text": [
      "D:\\Program Files (x86)\\Anaconda\\lib\\site-packages\\xgboost\\sklearn.py:888: UserWarning: The use of label encoder in XGBClassifier is deprecated and will be removed in a future release. To remove this warning, do the following: 1) Pass option use_label_encoder=False when constructing XGBClassifier object; and 2) Encode your labels (y) as integers starting with 0, i.e. 0, 1, 2, ..., [num_class - 1].\n",
      "  warnings.warn(label_encoder_deprecation_msg, UserWarning)\n"
     ]
    },
    {
     "name": "stdout",
     "output_type": "stream",
     "text": [
      "[00:44:40] WARNING: C:/Users/Administrator/workspace/xgboost-win64_release_1.3.0/src/learner.cc:1061: Starting in XGBoost 1.3.0, the default evaluation metric used with the objective 'binary:logistic' was changed from 'error' to 'logloss'. Explicitly set eval_metric if you'd like to restore the old behavior.\n"
     ]
    },
    {
     "name": "stderr",
     "output_type": "stream",
     "text": [
      "D:\\Program Files (x86)\\Anaconda\\lib\\site-packages\\xgboost\\sklearn.py:888: UserWarning: The use of label encoder in XGBClassifier is deprecated and will be removed in a future release. To remove this warning, do the following: 1) Pass option use_label_encoder=False when constructing XGBClassifier object; and 2) Encode your labels (y) as integers starting with 0, i.e. 0, 1, 2, ..., [num_class - 1].\n",
      "  warnings.warn(label_encoder_deprecation_msg, UserWarning)\n"
     ]
    },
    {
     "name": "stdout",
     "output_type": "stream",
     "text": [
      "[00:44:45] WARNING: C:/Users/Administrator/workspace/xgboost-win64_release_1.3.0/src/learner.cc:1061: Starting in XGBoost 1.3.0, the default evaluation metric used with the objective 'binary:logistic' was changed from 'error' to 'logloss'. Explicitly set eval_metric if you'd like to restore the old behavior.\n"
     ]
    },
    {
     "name": "stderr",
     "output_type": "stream",
     "text": [
      "D:\\Program Files (x86)\\Anaconda\\lib\\site-packages\\xgboost\\sklearn.py:888: UserWarning: The use of label encoder in XGBClassifier is deprecated and will be removed in a future release. To remove this warning, do the following: 1) Pass option use_label_encoder=False when constructing XGBClassifier object; and 2) Encode your labels (y) as integers starting with 0, i.e. 0, 1, 2, ..., [num_class - 1].\n",
      "  warnings.warn(label_encoder_deprecation_msg, UserWarning)\n"
     ]
    },
    {
     "name": "stdout",
     "output_type": "stream",
     "text": [
      "[00:44:50] WARNING: C:/Users/Administrator/workspace/xgboost-win64_release_1.3.0/src/learner.cc:1061: Starting in XGBoost 1.3.0, the default evaluation metric used with the objective 'binary:logistic' was changed from 'error' to 'logloss'. Explicitly set eval_metric if you'd like to restore the old behavior.\n"
     ]
    },
    {
     "name": "stderr",
     "output_type": "stream",
     "text": [
      "D:\\Program Files (x86)\\Anaconda\\lib\\site-packages\\xgboost\\sklearn.py:888: UserWarning: The use of label encoder in XGBClassifier is deprecated and will be removed in a future release. To remove this warning, do the following: 1) Pass option use_label_encoder=False when constructing XGBClassifier object; and 2) Encode your labels (y) as integers starting with 0, i.e. 0, 1, 2, ..., [num_class - 1].\n",
      "  warnings.warn(label_encoder_deprecation_msg, UserWarning)\n"
     ]
    },
    {
     "name": "stdout",
     "output_type": "stream",
     "text": [
      "[00:44:56] WARNING: C:/Users/Administrator/workspace/xgboost-win64_release_1.3.0/src/learner.cc:1061: Starting in XGBoost 1.3.0, the default evaluation metric used with the objective 'binary:logistic' was changed from 'error' to 'logloss'. Explicitly set eval_metric if you'd like to restore the old behavior.\n"
     ]
    },
    {
     "name": "stderr",
     "output_type": "stream",
     "text": [
      "D:\\Program Files (x86)\\Anaconda\\lib\\site-packages\\xgboost\\sklearn.py:888: UserWarning: The use of label encoder in XGBClassifier is deprecated and will be removed in a future release. To remove this warning, do the following: 1) Pass option use_label_encoder=False when constructing XGBClassifier object; and 2) Encode your labels (y) as integers starting with 0, i.e. 0, 1, 2, ..., [num_class - 1].\n",
      "  warnings.warn(label_encoder_deprecation_msg, UserWarning)\n"
     ]
    },
    {
     "name": "stdout",
     "output_type": "stream",
     "text": [
      "[00:45:01] WARNING: C:/Users/Administrator/workspace/xgboost-win64_release_1.3.0/src/learner.cc:1061: Starting in XGBoost 1.3.0, the default evaluation metric used with the objective 'binary:logistic' was changed from 'error' to 'logloss'. Explicitly set eval_metric if you'd like to restore the old behavior.\n"
     ]
    },
    {
     "name": "stderr",
     "output_type": "stream",
     "text": [
      "D:\\Program Files (x86)\\Anaconda\\lib\\site-packages\\xgboost\\sklearn.py:888: UserWarning: The use of label encoder in XGBClassifier is deprecated and will be removed in a future release. To remove this warning, do the following: 1) Pass option use_label_encoder=False when constructing XGBClassifier object; and 2) Encode your labels (y) as integers starting with 0, i.e. 0, 1, 2, ..., [num_class - 1].\n",
      "  warnings.warn(label_encoder_deprecation_msg, UserWarning)\n"
     ]
    },
    {
     "name": "stdout",
     "output_type": "stream",
     "text": [
      "[00:45:10] WARNING: C:/Users/Administrator/workspace/xgboost-win64_release_1.3.0/src/learner.cc:1061: Starting in XGBoost 1.3.0, the default evaluation metric used with the objective 'binary:logistic' was changed from 'error' to 'logloss'. Explicitly set eval_metric if you'd like to restore the old behavior.\n"
     ]
    },
    {
     "name": "stderr",
     "output_type": "stream",
     "text": [
      "D:\\Program Files (x86)\\Anaconda\\lib\\site-packages\\xgboost\\sklearn.py:888: UserWarning: The use of label encoder in XGBClassifier is deprecated and will be removed in a future release. To remove this warning, do the following: 1) Pass option use_label_encoder=False when constructing XGBClassifier object; and 2) Encode your labels (y) as integers starting with 0, i.e. 0, 1, 2, ..., [num_class - 1].\n",
      "  warnings.warn(label_encoder_deprecation_msg, UserWarning)\n"
     ]
    },
    {
     "name": "stdout",
     "output_type": "stream",
     "text": [
      "[00:45:18] WARNING: C:/Users/Administrator/workspace/xgboost-win64_release_1.3.0/src/learner.cc:1061: Starting in XGBoost 1.3.0, the default evaluation metric used with the objective 'binary:logistic' was changed from 'error' to 'logloss'. Explicitly set eval_metric if you'd like to restore the old behavior.\n"
     ]
    },
    {
     "name": "stderr",
     "output_type": "stream",
     "text": [
      "D:\\Program Files (x86)\\Anaconda\\lib\\site-packages\\xgboost\\sklearn.py:888: UserWarning: The use of label encoder in XGBClassifier is deprecated and will be removed in a future release. To remove this warning, do the following: 1) Pass option use_label_encoder=False when constructing XGBClassifier object; and 2) Encode your labels (y) as integers starting with 0, i.e. 0, 1, 2, ..., [num_class - 1].\n",
      "  warnings.warn(label_encoder_deprecation_msg, UserWarning)\n"
     ]
    },
    {
     "name": "stdout",
     "output_type": "stream",
     "text": [
      "[00:45:27] WARNING: C:/Users/Administrator/workspace/xgboost-win64_release_1.3.0/src/learner.cc:1061: Starting in XGBoost 1.3.0, the default evaluation metric used with the objective 'binary:logistic' was changed from 'error' to 'logloss'. Explicitly set eval_metric if you'd like to restore the old behavior.\n"
     ]
    },
    {
     "name": "stderr",
     "output_type": "stream",
     "text": [
      "D:\\Program Files (x86)\\Anaconda\\lib\\site-packages\\xgboost\\sklearn.py:888: UserWarning: The use of label encoder in XGBClassifier is deprecated and will be removed in a future release. To remove this warning, do the following: 1) Pass option use_label_encoder=False when constructing XGBClassifier object; and 2) Encode your labels (y) as integers starting with 0, i.e. 0, 1, 2, ..., [num_class - 1].\n",
      "  warnings.warn(label_encoder_deprecation_msg, UserWarning)\n"
     ]
    },
    {
     "name": "stdout",
     "output_type": "stream",
     "text": [
      "[00:45:36] WARNING: C:/Users/Administrator/workspace/xgboost-win64_release_1.3.0/src/learner.cc:1061: Starting in XGBoost 1.3.0, the default evaluation metric used with the objective 'binary:logistic' was changed from 'error' to 'logloss'. Explicitly set eval_metric if you'd like to restore the old behavior.\n"
     ]
    },
    {
     "name": "stderr",
     "output_type": "stream",
     "text": [
      "D:\\Program Files (x86)\\Anaconda\\lib\\site-packages\\xgboost\\sklearn.py:888: UserWarning: The use of label encoder in XGBClassifier is deprecated and will be removed in a future release. To remove this warning, do the following: 1) Pass option use_label_encoder=False when constructing XGBClassifier object; and 2) Encode your labels (y) as integers starting with 0, i.e. 0, 1, 2, ..., [num_class - 1].\n",
      "  warnings.warn(label_encoder_deprecation_msg, UserWarning)\n"
     ]
    },
    {
     "name": "stdout",
     "output_type": "stream",
     "text": [
      "[00:45:44] WARNING: C:/Users/Administrator/workspace/xgboost-win64_release_1.3.0/src/learner.cc:1061: Starting in XGBoost 1.3.0, the default evaluation metric used with the objective 'binary:logistic' was changed from 'error' to 'logloss'. Explicitly set eval_metric if you'd like to restore the old behavior.\n"
     ]
    },
    {
     "name": "stderr",
     "output_type": "stream",
     "text": [
      "D:\\Program Files (x86)\\Anaconda\\lib\\site-packages\\xgboost\\sklearn.py:888: UserWarning: The use of label encoder in XGBClassifier is deprecated and will be removed in a future release. To remove this warning, do the following: 1) Pass option use_label_encoder=False when constructing XGBClassifier object; and 2) Encode your labels (y) as integers starting with 0, i.e. 0, 1, 2, ..., [num_class - 1].\n",
      "  warnings.warn(label_encoder_deprecation_msg, UserWarning)\n"
     ]
    },
    {
     "name": "stdout",
     "output_type": "stream",
     "text": [
      "[00:45:46] WARNING: C:/Users/Administrator/workspace/xgboost-win64_release_1.3.0/src/learner.cc:1061: Starting in XGBoost 1.3.0, the default evaluation metric used with the objective 'binary:logistic' was changed from 'error' to 'logloss'. Explicitly set eval_metric if you'd like to restore the old behavior.\n"
     ]
    },
    {
     "name": "stderr",
     "output_type": "stream",
     "text": [
      "D:\\Program Files (x86)\\Anaconda\\lib\\site-packages\\xgboost\\sklearn.py:888: UserWarning: The use of label encoder in XGBClassifier is deprecated and will be removed in a future release. To remove this warning, do the following: 1) Pass option use_label_encoder=False when constructing XGBClassifier object; and 2) Encode your labels (y) as integers starting with 0, i.e. 0, 1, 2, ..., [num_class - 1].\n",
      "  warnings.warn(label_encoder_deprecation_msg, UserWarning)\n"
     ]
    },
    {
     "name": "stdout",
     "output_type": "stream",
     "text": [
      "[00:45:49] WARNING: C:/Users/Administrator/workspace/xgboost-win64_release_1.3.0/src/learner.cc:1061: Starting in XGBoost 1.3.0, the default evaluation metric used with the objective 'binary:logistic' was changed from 'error' to 'logloss'. Explicitly set eval_metric if you'd like to restore the old behavior.\n"
     ]
    },
    {
     "name": "stderr",
     "output_type": "stream",
     "text": [
      "D:\\Program Files (x86)\\Anaconda\\lib\\site-packages\\xgboost\\sklearn.py:888: UserWarning: The use of label encoder in XGBClassifier is deprecated and will be removed in a future release. To remove this warning, do the following: 1) Pass option use_label_encoder=False when constructing XGBClassifier object; and 2) Encode your labels (y) as integers starting with 0, i.e. 0, 1, 2, ..., [num_class - 1].\n",
      "  warnings.warn(label_encoder_deprecation_msg, UserWarning)\n"
     ]
    },
    {
     "name": "stdout",
     "output_type": "stream",
     "text": [
      "[00:45:51] WARNING: C:/Users/Administrator/workspace/xgboost-win64_release_1.3.0/src/learner.cc:1061: Starting in XGBoost 1.3.0, the default evaluation metric used with the objective 'binary:logistic' was changed from 'error' to 'logloss'. Explicitly set eval_metric if you'd like to restore the old behavior.\n"
     ]
    },
    {
     "name": "stderr",
     "output_type": "stream",
     "text": [
      "D:\\Program Files (x86)\\Anaconda\\lib\\site-packages\\xgboost\\sklearn.py:888: UserWarning: The use of label encoder in XGBClassifier is deprecated and will be removed in a future release. To remove this warning, do the following: 1) Pass option use_label_encoder=False when constructing XGBClassifier object; and 2) Encode your labels (y) as integers starting with 0, i.e. 0, 1, 2, ..., [num_class - 1].\n",
      "  warnings.warn(label_encoder_deprecation_msg, UserWarning)\n"
     ]
    },
    {
     "name": "stdout",
     "output_type": "stream",
     "text": [
      "[00:45:53] WARNING: C:/Users/Administrator/workspace/xgboost-win64_release_1.3.0/src/learner.cc:1061: Starting in XGBoost 1.3.0, the default evaluation metric used with the objective 'binary:logistic' was changed from 'error' to 'logloss'. Explicitly set eval_metric if you'd like to restore the old behavior.\n"
     ]
    },
    {
     "name": "stderr",
     "output_type": "stream",
     "text": [
      "D:\\Program Files (x86)\\Anaconda\\lib\\site-packages\\xgboost\\sklearn.py:888: UserWarning: The use of label encoder in XGBClassifier is deprecated and will be removed in a future release. To remove this warning, do the following: 1) Pass option use_label_encoder=False when constructing XGBClassifier object; and 2) Encode your labels (y) as integers starting with 0, i.e. 0, 1, 2, ..., [num_class - 1].\n",
      "  warnings.warn(label_encoder_deprecation_msg, UserWarning)\n"
     ]
    },
    {
     "name": "stdout",
     "output_type": "stream",
     "text": [
      "[00:45:56] WARNING: C:/Users/Administrator/workspace/xgboost-win64_release_1.3.0/src/learner.cc:1061: Starting in XGBoost 1.3.0, the default evaluation metric used with the objective 'binary:logistic' was changed from 'error' to 'logloss'. Explicitly set eval_metric if you'd like to restore the old behavior.\n"
     ]
    },
    {
     "name": "stderr",
     "output_type": "stream",
     "text": [
      "D:\\Program Files (x86)\\Anaconda\\lib\\site-packages\\xgboost\\sklearn.py:888: UserWarning: The use of label encoder in XGBClassifier is deprecated and will be removed in a future release. To remove this warning, do the following: 1) Pass option use_label_encoder=False when constructing XGBClassifier object; and 2) Encode your labels (y) as integers starting with 0, i.e. 0, 1, 2, ..., [num_class - 1].\n",
      "  warnings.warn(label_encoder_deprecation_msg, UserWarning)\n"
     ]
    },
    {
     "name": "stdout",
     "output_type": "stream",
     "text": [
      "[00:46:02] WARNING: C:/Users/Administrator/workspace/xgboost-win64_release_1.3.0/src/learner.cc:1061: Starting in XGBoost 1.3.0, the default evaluation metric used with the objective 'binary:logistic' was changed from 'error' to 'logloss'. Explicitly set eval_metric if you'd like to restore the old behavior.\n"
     ]
    },
    {
     "name": "stderr",
     "output_type": "stream",
     "text": [
      "D:\\Program Files (x86)\\Anaconda\\lib\\site-packages\\xgboost\\sklearn.py:888: UserWarning: The use of label encoder in XGBClassifier is deprecated and will be removed in a future release. To remove this warning, do the following: 1) Pass option use_label_encoder=False when constructing XGBClassifier object; and 2) Encode your labels (y) as integers starting with 0, i.e. 0, 1, 2, ..., [num_class - 1].\n",
      "  warnings.warn(label_encoder_deprecation_msg, UserWarning)\n"
     ]
    },
    {
     "name": "stdout",
     "output_type": "stream",
     "text": [
      "[00:46:08] WARNING: C:/Users/Administrator/workspace/xgboost-win64_release_1.3.0/src/learner.cc:1061: Starting in XGBoost 1.3.0, the default evaluation metric used with the objective 'binary:logistic' was changed from 'error' to 'logloss'. Explicitly set eval_metric if you'd like to restore the old behavior.\n"
     ]
    },
    {
     "name": "stderr",
     "output_type": "stream",
     "text": [
      "D:\\Program Files (x86)\\Anaconda\\lib\\site-packages\\xgboost\\sklearn.py:888: UserWarning: The use of label encoder in XGBClassifier is deprecated and will be removed in a future release. To remove this warning, do the following: 1) Pass option use_label_encoder=False when constructing XGBClassifier object; and 2) Encode your labels (y) as integers starting with 0, i.e. 0, 1, 2, ..., [num_class - 1].\n",
      "  warnings.warn(label_encoder_deprecation_msg, UserWarning)\n"
     ]
    },
    {
     "name": "stdout",
     "output_type": "stream",
     "text": [
      "[00:46:15] WARNING: C:/Users/Administrator/workspace/xgboost-win64_release_1.3.0/src/learner.cc:1061: Starting in XGBoost 1.3.0, the default evaluation metric used with the objective 'binary:logistic' was changed from 'error' to 'logloss'. Explicitly set eval_metric if you'd like to restore the old behavior.\n"
     ]
    },
    {
     "name": "stderr",
     "output_type": "stream",
     "text": [
      "D:\\Program Files (x86)\\Anaconda\\lib\\site-packages\\xgboost\\sklearn.py:888: UserWarning: The use of label encoder in XGBClassifier is deprecated and will be removed in a future release. To remove this warning, do the following: 1) Pass option use_label_encoder=False when constructing XGBClassifier object; and 2) Encode your labels (y) as integers starting with 0, i.e. 0, 1, 2, ..., [num_class - 1].\n",
      "  warnings.warn(label_encoder_deprecation_msg, UserWarning)\n"
     ]
    },
    {
     "name": "stdout",
     "output_type": "stream",
     "text": [
      "[00:46:21] WARNING: C:/Users/Administrator/workspace/xgboost-win64_release_1.3.0/src/learner.cc:1061: Starting in XGBoost 1.3.0, the default evaluation metric used with the objective 'binary:logistic' was changed from 'error' to 'logloss'. Explicitly set eval_metric if you'd like to restore the old behavior.\n"
     ]
    },
    {
     "name": "stderr",
     "output_type": "stream",
     "text": [
      "D:\\Program Files (x86)\\Anaconda\\lib\\site-packages\\xgboost\\sklearn.py:888: UserWarning: The use of label encoder in XGBClassifier is deprecated and will be removed in a future release. To remove this warning, do the following: 1) Pass option use_label_encoder=False when constructing XGBClassifier object; and 2) Encode your labels (y) as integers starting with 0, i.e. 0, 1, 2, ..., [num_class - 1].\n",
      "  warnings.warn(label_encoder_deprecation_msg, UserWarning)\n"
     ]
    },
    {
     "name": "stdout",
     "output_type": "stream",
     "text": [
      "[00:46:28] WARNING: C:/Users/Administrator/workspace/xgboost-win64_release_1.3.0/src/learner.cc:1061: Starting in XGBoost 1.3.0, the default evaluation metric used with the objective 'binary:logistic' was changed from 'error' to 'logloss'. Explicitly set eval_metric if you'd like to restore the old behavior.\n"
     ]
    },
    {
     "name": "stderr",
     "output_type": "stream",
     "text": [
      "D:\\Program Files (x86)\\Anaconda\\lib\\site-packages\\xgboost\\sklearn.py:888: UserWarning: The use of label encoder in XGBClassifier is deprecated and will be removed in a future release. To remove this warning, do the following: 1) Pass option use_label_encoder=False when constructing XGBClassifier object; and 2) Encode your labels (y) as integers starting with 0, i.e. 0, 1, 2, ..., [num_class - 1].\n",
      "  warnings.warn(label_encoder_deprecation_msg, UserWarning)\n"
     ]
    },
    {
     "name": "stdout",
     "output_type": "stream",
     "text": [
      "[00:46:39] WARNING: C:/Users/Administrator/workspace/xgboost-win64_release_1.3.0/src/learner.cc:1061: Starting in XGBoost 1.3.0, the default evaluation metric used with the objective 'binary:logistic' was changed from 'error' to 'logloss'. Explicitly set eval_metric if you'd like to restore the old behavior.\n"
     ]
    },
    {
     "name": "stderr",
     "output_type": "stream",
     "text": [
      "D:\\Program Files (x86)\\Anaconda\\lib\\site-packages\\xgboost\\sklearn.py:888: UserWarning: The use of label encoder in XGBClassifier is deprecated and will be removed in a future release. To remove this warning, do the following: 1) Pass option use_label_encoder=False when constructing XGBClassifier object; and 2) Encode your labels (y) as integers starting with 0, i.e. 0, 1, 2, ..., [num_class - 1].\n",
      "  warnings.warn(label_encoder_deprecation_msg, UserWarning)\n"
     ]
    },
    {
     "name": "stdout",
     "output_type": "stream",
     "text": [
      "[00:46:50] WARNING: C:/Users/Administrator/workspace/xgboost-win64_release_1.3.0/src/learner.cc:1061: Starting in XGBoost 1.3.0, the default evaluation metric used with the objective 'binary:logistic' was changed from 'error' to 'logloss'. Explicitly set eval_metric if you'd like to restore the old behavior.\n"
     ]
    },
    {
     "name": "stderr",
     "output_type": "stream",
     "text": [
      "D:\\Program Files (x86)\\Anaconda\\lib\\site-packages\\xgboost\\sklearn.py:888: UserWarning: The use of label encoder in XGBClassifier is deprecated and will be removed in a future release. To remove this warning, do the following: 1) Pass option use_label_encoder=False when constructing XGBClassifier object; and 2) Encode your labels (y) as integers starting with 0, i.e. 0, 1, 2, ..., [num_class - 1].\n",
      "  warnings.warn(label_encoder_deprecation_msg, UserWarning)\n"
     ]
    },
    {
     "name": "stdout",
     "output_type": "stream",
     "text": [
      "[00:47:02] WARNING: C:/Users/Administrator/workspace/xgboost-win64_release_1.3.0/src/learner.cc:1061: Starting in XGBoost 1.3.0, the default evaluation metric used with the objective 'binary:logistic' was changed from 'error' to 'logloss'. Explicitly set eval_metric if you'd like to restore the old behavior.\n"
     ]
    },
    {
     "name": "stderr",
     "output_type": "stream",
     "text": [
      "D:\\Program Files (x86)\\Anaconda\\lib\\site-packages\\xgboost\\sklearn.py:888: UserWarning: The use of label encoder in XGBClassifier is deprecated and will be removed in a future release. To remove this warning, do the following: 1) Pass option use_label_encoder=False when constructing XGBClassifier object; and 2) Encode your labels (y) as integers starting with 0, i.e. 0, 1, 2, ..., [num_class - 1].\n",
      "  warnings.warn(label_encoder_deprecation_msg, UserWarning)\n"
     ]
    },
    {
     "name": "stdout",
     "output_type": "stream",
     "text": [
      "[00:47:13] WARNING: C:/Users/Administrator/workspace/xgboost-win64_release_1.3.0/src/learner.cc:1061: Starting in XGBoost 1.3.0, the default evaluation metric used with the objective 'binary:logistic' was changed from 'error' to 'logloss'. Explicitly set eval_metric if you'd like to restore the old behavior.\n"
     ]
    },
    {
     "name": "stderr",
     "output_type": "stream",
     "text": [
      "D:\\Program Files (x86)\\Anaconda\\lib\\site-packages\\xgboost\\sklearn.py:888: UserWarning: The use of label encoder in XGBClassifier is deprecated and will be removed in a future release. To remove this warning, do the following: 1) Pass option use_label_encoder=False when constructing XGBClassifier object; and 2) Encode your labels (y) as integers starting with 0, i.e. 0, 1, 2, ..., [num_class - 1].\n",
      "  warnings.warn(label_encoder_deprecation_msg, UserWarning)\n"
     ]
    },
    {
     "name": "stdout",
     "output_type": "stream",
     "text": [
      "[00:47:23] WARNING: C:/Users/Administrator/workspace/xgboost-win64_release_1.3.0/src/learner.cc:1061: Starting in XGBoost 1.3.0, the default evaluation metric used with the objective 'binary:logistic' was changed from 'error' to 'logloss'. Explicitly set eval_metric if you'd like to restore the old behavior.\n"
     ]
    },
    {
     "name": "stderr",
     "output_type": "stream",
     "text": [
      "D:\\Program Files (x86)\\Anaconda\\lib\\site-packages\\xgboost\\sklearn.py:888: UserWarning: The use of label encoder in XGBClassifier is deprecated and will be removed in a future release. To remove this warning, do the following: 1) Pass option use_label_encoder=False when constructing XGBClassifier object; and 2) Encode your labels (y) as integers starting with 0, i.e. 0, 1, 2, ..., [num_class - 1].\n",
      "  warnings.warn(label_encoder_deprecation_msg, UserWarning)\n"
     ]
    },
    {
     "name": "stdout",
     "output_type": "stream",
     "text": [
      "[00:47:26] WARNING: C:/Users/Administrator/workspace/xgboost-win64_release_1.3.0/src/learner.cc:1061: Starting in XGBoost 1.3.0, the default evaluation metric used with the objective 'binary:logistic' was changed from 'error' to 'logloss'. Explicitly set eval_metric if you'd like to restore the old behavior.\n"
     ]
    },
    {
     "name": "stderr",
     "output_type": "stream",
     "text": [
      "D:\\Program Files (x86)\\Anaconda\\lib\\site-packages\\xgboost\\sklearn.py:888: UserWarning: The use of label encoder in XGBClassifier is deprecated and will be removed in a future release. To remove this warning, do the following: 1) Pass option use_label_encoder=False when constructing XGBClassifier object; and 2) Encode your labels (y) as integers starting with 0, i.e. 0, 1, 2, ..., [num_class - 1].\n",
      "  warnings.warn(label_encoder_deprecation_msg, UserWarning)\n"
     ]
    },
    {
     "name": "stdout",
     "output_type": "stream",
     "text": [
      "[00:47:29] WARNING: C:/Users/Administrator/workspace/xgboost-win64_release_1.3.0/src/learner.cc:1061: Starting in XGBoost 1.3.0, the default evaluation metric used with the objective 'binary:logistic' was changed from 'error' to 'logloss'. Explicitly set eval_metric if you'd like to restore the old behavior.\n"
     ]
    },
    {
     "name": "stderr",
     "output_type": "stream",
     "text": [
      "D:\\Program Files (x86)\\Anaconda\\lib\\site-packages\\xgboost\\sklearn.py:888: UserWarning: The use of label encoder in XGBClassifier is deprecated and will be removed in a future release. To remove this warning, do the following: 1) Pass option use_label_encoder=False when constructing XGBClassifier object; and 2) Encode your labels (y) as integers starting with 0, i.e. 0, 1, 2, ..., [num_class - 1].\n",
      "  warnings.warn(label_encoder_deprecation_msg, UserWarning)\n"
     ]
    },
    {
     "name": "stdout",
     "output_type": "stream",
     "text": [
      "[00:47:31] WARNING: C:/Users/Administrator/workspace/xgboost-win64_release_1.3.0/src/learner.cc:1061: Starting in XGBoost 1.3.0, the default evaluation metric used with the objective 'binary:logistic' was changed from 'error' to 'logloss'. Explicitly set eval_metric if you'd like to restore the old behavior.\n"
     ]
    },
    {
     "name": "stderr",
     "output_type": "stream",
     "text": [
      "D:\\Program Files (x86)\\Anaconda\\lib\\site-packages\\xgboost\\sklearn.py:888: UserWarning: The use of label encoder in XGBClassifier is deprecated and will be removed in a future release. To remove this warning, do the following: 1) Pass option use_label_encoder=False when constructing XGBClassifier object; and 2) Encode your labels (y) as integers starting with 0, i.e. 0, 1, 2, ..., [num_class - 1].\n",
      "  warnings.warn(label_encoder_deprecation_msg, UserWarning)\n"
     ]
    },
    {
     "name": "stdout",
     "output_type": "stream",
     "text": [
      "[00:47:34] WARNING: C:/Users/Administrator/workspace/xgboost-win64_release_1.3.0/src/learner.cc:1061: Starting in XGBoost 1.3.0, the default evaluation metric used with the objective 'binary:logistic' was changed from 'error' to 'logloss'. Explicitly set eval_metric if you'd like to restore the old behavior.\n"
     ]
    },
    {
     "name": "stderr",
     "output_type": "stream",
     "text": [
      "D:\\Program Files (x86)\\Anaconda\\lib\\site-packages\\xgboost\\sklearn.py:888: UserWarning: The use of label encoder in XGBClassifier is deprecated and will be removed in a future release. To remove this warning, do the following: 1) Pass option use_label_encoder=False when constructing XGBClassifier object; and 2) Encode your labels (y) as integers starting with 0, i.e. 0, 1, 2, ..., [num_class - 1].\n",
      "  warnings.warn(label_encoder_deprecation_msg, UserWarning)\n"
     ]
    },
    {
     "name": "stdout",
     "output_type": "stream",
     "text": [
      "[00:47:37] WARNING: C:/Users/Administrator/workspace/xgboost-win64_release_1.3.0/src/learner.cc:1061: Starting in XGBoost 1.3.0, the default evaluation metric used with the objective 'binary:logistic' was changed from 'error' to 'logloss'. Explicitly set eval_metric if you'd like to restore the old behavior.\n"
     ]
    },
    {
     "name": "stderr",
     "output_type": "stream",
     "text": [
      "D:\\Program Files (x86)\\Anaconda\\lib\\site-packages\\xgboost\\sklearn.py:888: UserWarning: The use of label encoder in XGBClassifier is deprecated and will be removed in a future release. To remove this warning, do the following: 1) Pass option use_label_encoder=False when constructing XGBClassifier object; and 2) Encode your labels (y) as integers starting with 0, i.e. 0, 1, 2, ..., [num_class - 1].\n",
      "  warnings.warn(label_encoder_deprecation_msg, UserWarning)\n"
     ]
    },
    {
     "name": "stdout",
     "output_type": "stream",
     "text": [
      "[00:47:45] WARNING: C:/Users/Administrator/workspace/xgboost-win64_release_1.3.0/src/learner.cc:1061: Starting in XGBoost 1.3.0, the default evaluation metric used with the objective 'binary:logistic' was changed from 'error' to 'logloss'. Explicitly set eval_metric if you'd like to restore the old behavior.\n"
     ]
    },
    {
     "name": "stderr",
     "output_type": "stream",
     "text": [
      "D:\\Program Files (x86)\\Anaconda\\lib\\site-packages\\xgboost\\sklearn.py:888: UserWarning: The use of label encoder in XGBClassifier is deprecated and will be removed in a future release. To remove this warning, do the following: 1) Pass option use_label_encoder=False when constructing XGBClassifier object; and 2) Encode your labels (y) as integers starting with 0, i.e. 0, 1, 2, ..., [num_class - 1].\n",
      "  warnings.warn(label_encoder_deprecation_msg, UserWarning)\n"
     ]
    },
    {
     "name": "stdout",
     "output_type": "stream",
     "text": [
      "[00:47:53] WARNING: C:/Users/Administrator/workspace/xgboost-win64_release_1.3.0/src/learner.cc:1061: Starting in XGBoost 1.3.0, the default evaluation metric used with the objective 'binary:logistic' was changed from 'error' to 'logloss'. Explicitly set eval_metric if you'd like to restore the old behavior.\n"
     ]
    },
    {
     "name": "stderr",
     "output_type": "stream",
     "text": [
      "D:\\Program Files (x86)\\Anaconda\\lib\\site-packages\\xgboost\\sklearn.py:888: UserWarning: The use of label encoder in XGBClassifier is deprecated and will be removed in a future release. To remove this warning, do the following: 1) Pass option use_label_encoder=False when constructing XGBClassifier object; and 2) Encode your labels (y) as integers starting with 0, i.e. 0, 1, 2, ..., [num_class - 1].\n",
      "  warnings.warn(label_encoder_deprecation_msg, UserWarning)\n"
     ]
    },
    {
     "name": "stdout",
     "output_type": "stream",
     "text": [
      "[00:48:01] WARNING: C:/Users/Administrator/workspace/xgboost-win64_release_1.3.0/src/learner.cc:1061: Starting in XGBoost 1.3.0, the default evaluation metric used with the objective 'binary:logistic' was changed from 'error' to 'logloss'. Explicitly set eval_metric if you'd like to restore the old behavior.\n"
     ]
    },
    {
     "name": "stderr",
     "output_type": "stream",
     "text": [
      "D:\\Program Files (x86)\\Anaconda\\lib\\site-packages\\xgboost\\sklearn.py:888: UserWarning: The use of label encoder in XGBClassifier is deprecated and will be removed in a future release. To remove this warning, do the following: 1) Pass option use_label_encoder=False when constructing XGBClassifier object; and 2) Encode your labels (y) as integers starting with 0, i.e. 0, 1, 2, ..., [num_class - 1].\n",
      "  warnings.warn(label_encoder_deprecation_msg, UserWarning)\n"
     ]
    },
    {
     "name": "stdout",
     "output_type": "stream",
     "text": [
      "[00:48:09] WARNING: C:/Users/Administrator/workspace/xgboost-win64_release_1.3.0/src/learner.cc:1061: Starting in XGBoost 1.3.0, the default evaluation metric used with the objective 'binary:logistic' was changed from 'error' to 'logloss'. Explicitly set eval_metric if you'd like to restore the old behavior.\n"
     ]
    },
    {
     "name": "stderr",
     "output_type": "stream",
     "text": [
      "D:\\Program Files (x86)\\Anaconda\\lib\\site-packages\\xgboost\\sklearn.py:888: UserWarning: The use of label encoder in XGBClassifier is deprecated and will be removed in a future release. To remove this warning, do the following: 1) Pass option use_label_encoder=False when constructing XGBClassifier object; and 2) Encode your labels (y) as integers starting with 0, i.e. 0, 1, 2, ..., [num_class - 1].\n",
      "  warnings.warn(label_encoder_deprecation_msg, UserWarning)\n"
     ]
    },
    {
     "name": "stdout",
     "output_type": "stream",
     "text": [
      "[00:48:16] WARNING: C:/Users/Administrator/workspace/xgboost-win64_release_1.3.0/src/learner.cc:1061: Starting in XGBoost 1.3.0, the default evaluation metric used with the objective 'binary:logistic' was changed from 'error' to 'logloss'. Explicitly set eval_metric if you'd like to restore the old behavior.\n"
     ]
    },
    {
     "name": "stderr",
     "output_type": "stream",
     "text": [
      "D:\\Program Files (x86)\\Anaconda\\lib\\site-packages\\xgboost\\sklearn.py:888: UserWarning: The use of label encoder in XGBClassifier is deprecated and will be removed in a future release. To remove this warning, do the following: 1) Pass option use_label_encoder=False when constructing XGBClassifier object; and 2) Encode your labels (y) as integers starting with 0, i.e. 0, 1, 2, ..., [num_class - 1].\n",
      "  warnings.warn(label_encoder_deprecation_msg, UserWarning)\n"
     ]
    },
    {
     "name": "stdout",
     "output_type": "stream",
     "text": [
      "[00:48:29] WARNING: C:/Users/Administrator/workspace/xgboost-win64_release_1.3.0/src/learner.cc:1061: Starting in XGBoost 1.3.0, the default evaluation metric used with the objective 'binary:logistic' was changed from 'error' to 'logloss'. Explicitly set eval_metric if you'd like to restore the old behavior.\n"
     ]
    },
    {
     "name": "stderr",
     "output_type": "stream",
     "text": [
      "D:\\Program Files (x86)\\Anaconda\\lib\\site-packages\\xgboost\\sklearn.py:888: UserWarning: The use of label encoder in XGBClassifier is deprecated and will be removed in a future release. To remove this warning, do the following: 1) Pass option use_label_encoder=False when constructing XGBClassifier object; and 2) Encode your labels (y) as integers starting with 0, i.e. 0, 1, 2, ..., [num_class - 1].\n",
      "  warnings.warn(label_encoder_deprecation_msg, UserWarning)\n"
     ]
    },
    {
     "name": "stdout",
     "output_type": "stream",
     "text": [
      "[00:48:41] WARNING: C:/Users/Administrator/workspace/xgboost-win64_release_1.3.0/src/learner.cc:1061: Starting in XGBoost 1.3.0, the default evaluation metric used with the objective 'binary:logistic' was changed from 'error' to 'logloss'. Explicitly set eval_metric if you'd like to restore the old behavior.\n"
     ]
    },
    {
     "name": "stderr",
     "output_type": "stream",
     "text": [
      "D:\\Program Files (x86)\\Anaconda\\lib\\site-packages\\xgboost\\sklearn.py:888: UserWarning: The use of label encoder in XGBClassifier is deprecated and will be removed in a future release. To remove this warning, do the following: 1) Pass option use_label_encoder=False when constructing XGBClassifier object; and 2) Encode your labels (y) as integers starting with 0, i.e. 0, 1, 2, ..., [num_class - 1].\n",
      "  warnings.warn(label_encoder_deprecation_msg, UserWarning)\n"
     ]
    },
    {
     "name": "stdout",
     "output_type": "stream",
     "text": [
      "[00:48:55] WARNING: C:/Users/Administrator/workspace/xgboost-win64_release_1.3.0/src/learner.cc:1061: Starting in XGBoost 1.3.0, the default evaluation metric used with the objective 'binary:logistic' was changed from 'error' to 'logloss'. Explicitly set eval_metric if you'd like to restore the old behavior.\n"
     ]
    },
    {
     "name": "stderr",
     "output_type": "stream",
     "text": [
      "D:\\Program Files (x86)\\Anaconda\\lib\\site-packages\\xgboost\\sklearn.py:888: UserWarning: The use of label encoder in XGBClassifier is deprecated and will be removed in a future release. To remove this warning, do the following: 1) Pass option use_label_encoder=False when constructing XGBClassifier object; and 2) Encode your labels (y) as integers starting with 0, i.e. 0, 1, 2, ..., [num_class - 1].\n",
      "  warnings.warn(label_encoder_deprecation_msg, UserWarning)\n"
     ]
    },
    {
     "name": "stdout",
     "output_type": "stream",
     "text": [
      "[00:49:08] WARNING: C:/Users/Administrator/workspace/xgboost-win64_release_1.3.0/src/learner.cc:1061: Starting in XGBoost 1.3.0, the default evaluation metric used with the objective 'binary:logistic' was changed from 'error' to 'logloss'. Explicitly set eval_metric if you'd like to restore the old behavior.\n"
     ]
    },
    {
     "name": "stderr",
     "output_type": "stream",
     "text": [
      "D:\\Program Files (x86)\\Anaconda\\lib\\site-packages\\xgboost\\sklearn.py:888: UserWarning: The use of label encoder in XGBClassifier is deprecated and will be removed in a future release. To remove this warning, do the following: 1) Pass option use_label_encoder=False when constructing XGBClassifier object; and 2) Encode your labels (y) as integers starting with 0, i.e. 0, 1, 2, ..., [num_class - 1].\n",
      "  warnings.warn(label_encoder_deprecation_msg, UserWarning)\n"
     ]
    },
    {
     "name": "stdout",
     "output_type": "stream",
     "text": [
      "[00:49:21] WARNING: C:/Users/Administrator/workspace/xgboost-win64_release_1.3.0/src/learner.cc:1061: Starting in XGBoost 1.3.0, the default evaluation metric used with the objective 'binary:logistic' was changed from 'error' to 'logloss'. Explicitly set eval_metric if you'd like to restore the old behavior.\n",
      "best hyperparameters through grid search:  {'learning_rate': 0.1, 'max_depth': 3, 'n_estimators': 100}\n",
      "[00:49:23] WARNING: C:/Users/Administrator/workspace/xgboost-win64_release_1.3.0/src/learner.cc:1061: Starting in XGBoost 1.3.0, the default evaluation metric used with the objective 'binary:logistic' was changed from 'error' to 'logloss'. Explicitly set eval_metric if you'd like to restore the old behavior.\n"
     ]
    }
   ],
   "source": [
    "# use the GridSearch to select the best parameters based on 5 times cross-validation\n",
    "# build the XGBoost Model using the optimal parameters\n",
    "# the prediction accuracy is about 98.7%\n",
    "\n",
    "from xgboost import XGBClassifier\n",
    "param_grid = {\"learning_rate\": [0.01, 0.1,0.5], \"n_estimators\": [100,300,500], 'max_depth':[3,4,5]}\n",
    "grid = GridSearchCV(XGBClassifier(), param_grid, cv = 5, scoring = \"roc_auc\")\n",
    "grid.fit(X_train2, y_train2)\n",
    "print(\"best hyperparameters through grid search: \", grid.best_params_)\n",
    "xgb_model = XGBClassifier(**grid.best_params_)\n",
    "xgb_model.fit(X_train2, y_train2)\n",
    "model_list['xgb_model'] = xgb_model"
   ]
  },
  {
   "cell_type": "code",
   "execution_count": 44,
   "metadata": {},
   "outputs": [
    {
     "data": {
      "text/plain": [
       "0.9874091031510908"
      ]
     },
     "execution_count": 44,
     "metadata": {},
     "output_type": "execute_result"
    }
   ],
   "source": [
    "val_xgb = pd.concat([sample_df3_clear,pd.DataFrame(xgb_model.predict_proba(retrans_df))[[1]]],axis = 1)\n",
    "val_xgb.rename(columns = {1:'xgb_prob'}, inplace = True)\n",
    "val_xgb['xgb_pre']= pd.DataFrame([1 if x >= 0.015 else 0 for x in val_xgb['xgb_prob']])  \n",
    "xgb_model.score(X_test2, y_test2)"
   ]
  },
  {
   "cell_type": "code",
   "execution_count": 45,
   "metadata": {},
   "outputs": [
    {
     "data": {
      "text/html": [
       "<div>\n",
       "<style scoped>\n",
       "    .dataframe tbody tr th:only-of-type {\n",
       "        vertical-align: middle;\n",
       "    }\n",
       "\n",
       "    .dataframe tbody tr th {\n",
       "        vertical-align: top;\n",
       "    }\n",
       "\n",
       "    .dataframe thead th {\n",
       "        text-align: right;\n",
       "    }\n",
       "</style>\n",
       "<table border=\"1\" class=\"dataframe\">\n",
       "  <thead>\n",
       "    <tr style=\"text-align: right;\">\n",
       "      <th></th>\n",
       "      <th>fico</th>\n",
       "      <th>cnt_units</th>\n",
       "      <th>mi_pct</th>\n",
       "      <th>orig_loan_term</th>\n",
       "      <th>cltv</th>\n",
       "      <th>dti</th>\n",
       "      <th>orig_upb</th>\n",
       "      <th>int_rt</th>\n",
       "      <th>cnt_borr</th>\n",
       "      <th>flag_fthbX</th>\n",
       "      <th>...</th>\n",
       "      <th>ppmt_pnltyY</th>\n",
       "      <th>prop_typeCO</th>\n",
       "      <th>prop_typeCP</th>\n",
       "      <th>prop_typeMH</th>\n",
       "      <th>prop_typePU</th>\n",
       "      <th>loan_purposeC</th>\n",
       "      <th>loan_purposeN</th>\n",
       "      <th>ever_d90</th>\n",
       "      <th>xgb_prob</th>\n",
       "      <th>xgb_pre</th>\n",
       "    </tr>\n",
       "  </thead>\n",
       "  <tbody>\n",
       "    <tr>\n",
       "      <th>0</th>\n",
       "      <td>577</td>\n",
       "      <td>1</td>\n",
       "      <td>25</td>\n",
       "      <td>180</td>\n",
       "      <td>62</td>\n",
       "      <td>41</td>\n",
       "      <td>270000</td>\n",
       "      <td>5.125</td>\n",
       "      <td>2</td>\n",
       "      <td>1</td>\n",
       "      <td>...</td>\n",
       "      <td>0</td>\n",
       "      <td>0</td>\n",
       "      <td>0</td>\n",
       "      <td>0</td>\n",
       "      <td>0</td>\n",
       "      <td>0</td>\n",
       "      <td>1</td>\n",
       "      <td>0</td>\n",
       "      <td>0.038093</td>\n",
       "      <td>1</td>\n",
       "    </tr>\n",
       "    <tr>\n",
       "      <th>1</th>\n",
       "      <td>800</td>\n",
       "      <td>1</td>\n",
       "      <td>25</td>\n",
       "      <td>180</td>\n",
       "      <td>30</td>\n",
       "      <td>33</td>\n",
       "      <td>250000</td>\n",
       "      <td>5.125</td>\n",
       "      <td>2</td>\n",
       "      <td>0</td>\n",
       "      <td>...</td>\n",
       "      <td>0</td>\n",
       "      <td>0</td>\n",
       "      <td>0</td>\n",
       "      <td>0</td>\n",
       "      <td>0</td>\n",
       "      <td>0</td>\n",
       "      <td>0</td>\n",
       "      <td>0</td>\n",
       "      <td>0.000514</td>\n",
       "      <td>0</td>\n",
       "    </tr>\n",
       "    <tr>\n",
       "      <th>2</th>\n",
       "      <td>608</td>\n",
       "      <td>1</td>\n",
       "      <td>25</td>\n",
       "      <td>240</td>\n",
       "      <td>62</td>\n",
       "      <td>24</td>\n",
       "      <td>126000</td>\n",
       "      <td>5.375</td>\n",
       "      <td>2</td>\n",
       "      <td>0</td>\n",
       "      <td>...</td>\n",
       "      <td>0</td>\n",
       "      <td>0</td>\n",
       "      <td>0</td>\n",
       "      <td>0</td>\n",
       "      <td>0</td>\n",
       "      <td>1</td>\n",
       "      <td>0</td>\n",
       "      <td>0</td>\n",
       "      <td>0.026415</td>\n",
       "      <td>1</td>\n",
       "    </tr>\n",
       "    <tr>\n",
       "      <th>3</th>\n",
       "      <td>794</td>\n",
       "      <td>1</td>\n",
       "      <td>25</td>\n",
       "      <td>180</td>\n",
       "      <td>67</td>\n",
       "      <td>32</td>\n",
       "      <td>230000</td>\n",
       "      <td>5.250</td>\n",
       "      <td>1</td>\n",
       "      <td>0</td>\n",
       "      <td>...</td>\n",
       "      <td>0</td>\n",
       "      <td>0</td>\n",
       "      <td>0</td>\n",
       "      <td>0</td>\n",
       "      <td>1</td>\n",
       "      <td>0</td>\n",
       "      <td>1</td>\n",
       "      <td>0</td>\n",
       "      <td>0.001950</td>\n",
       "      <td>0</td>\n",
       "    </tr>\n",
       "    <tr>\n",
       "      <th>4</th>\n",
       "      <td>710</td>\n",
       "      <td>1</td>\n",
       "      <td>25</td>\n",
       "      <td>180</td>\n",
       "      <td>80</td>\n",
       "      <td>20</td>\n",
       "      <td>95000</td>\n",
       "      <td>5.250</td>\n",
       "      <td>2</td>\n",
       "      <td>0</td>\n",
       "      <td>...</td>\n",
       "      <td>0</td>\n",
       "      <td>0</td>\n",
       "      <td>0</td>\n",
       "      <td>1</td>\n",
       "      <td>0</td>\n",
       "      <td>0</td>\n",
       "      <td>0</td>\n",
       "      <td>0</td>\n",
       "      <td>0.002787</td>\n",
       "      <td>0</td>\n",
       "    </tr>\n",
       "  </tbody>\n",
       "</table>\n",
       "<p>5 rows × 26 columns</p>\n",
       "</div>"
      ],
      "text/plain": [
       "   fico  cnt_units  mi_pct  orig_loan_term  cltv  dti  orig_upb  int_rt  \\\n",
       "0   577          1      25             180    62   41    270000   5.125   \n",
       "1   800          1      25             180    30   33    250000   5.125   \n",
       "2   608          1      25             240    62   24    126000   5.375   \n",
       "3   794          1      25             180    67   32    230000   5.250   \n",
       "4   710          1      25             180    80   20     95000   5.250   \n",
       "\n",
       "   cnt_borr  flag_fthbX  ...  ppmt_pnltyY  prop_typeCO  prop_typeCP  \\\n",
       "0         2           1  ...            0            0            0   \n",
       "1         2           0  ...            0            0            0   \n",
       "2         2           0  ...            0            0            0   \n",
       "3         1           0  ...            0            0            0   \n",
       "4         2           0  ...            0            0            0   \n",
       "\n",
       "   prop_typeMH  prop_typePU  loan_purposeC  loan_purposeN  ever_d90  xgb_prob  \\\n",
       "0            0            0              0              1         0  0.038093   \n",
       "1            0            0              0              0         0  0.000514   \n",
       "2            0            0              1              0         0  0.026415   \n",
       "3            0            1              0              1         0  0.001950   \n",
       "4            1            0              0              0         0  0.002787   \n",
       "\n",
       "   xgb_pre  \n",
       "0        1  \n",
       "1        0  \n",
       "2        1  \n",
       "3        0  \n",
       "4        0  \n",
       "\n",
       "[5 rows x 26 columns]"
      ]
     },
     "execution_count": 45,
     "metadata": {},
     "output_type": "execute_result"
    }
   ],
   "source": [
    "val_xgb.head(5)"
   ]
  },
  {
   "cell_type": "code",
   "execution_count": 46,
   "metadata": {},
   "outputs": [
    {
     "data": {
      "text/html": [
       "<div>\n",
       "<style scoped>\n",
       "    .dataframe tbody tr th:only-of-type {\n",
       "        vertical-align: middle;\n",
       "    }\n",
       "\n",
       "    .dataframe tbody tr th {\n",
       "        vertical-align: top;\n",
       "    }\n",
       "\n",
       "    .dataframe thead th {\n",
       "        text-align: right;\n",
       "    }\n",
       "</style>\n",
       "<table border=\"1\" class=\"dataframe\">\n",
       "  <thead>\n",
       "    <tr style=\"text-align: right;\">\n",
       "      <th></th>\n",
       "      <th>fico</th>\n",
       "      <th>cnt_units</th>\n",
       "      <th>mi_pct</th>\n",
       "      <th>orig_loan_term</th>\n",
       "      <th>cltv</th>\n",
       "      <th>dti</th>\n",
       "      <th>orig_upb</th>\n",
       "      <th>int_rt</th>\n",
       "      <th>cnt_borr</th>\n",
       "      <th>flag_fthbX</th>\n",
       "      <th>...</th>\n",
       "      <th>prop_typePU</th>\n",
       "      <th>loan_purposeC</th>\n",
       "      <th>loan_purposeN</th>\n",
       "      <th>ever_d90</th>\n",
       "      <th>rf_prob</th>\n",
       "      <th>rf_pre</th>\n",
       "      <th>xgb_prob</th>\n",
       "      <th>xgb_pre</th>\n",
       "      <th>log_prob</th>\n",
       "      <th>self_cal</th>\n",
       "    </tr>\n",
       "  </thead>\n",
       "  <tbody>\n",
       "    <tr>\n",
       "      <th>3150</th>\n",
       "      <td>761</td>\n",
       "      <td>1</td>\n",
       "      <td>25</td>\n",
       "      <td>360</td>\n",
       "      <td>89</td>\n",
       "      <td>60</td>\n",
       "      <td>137000</td>\n",
       "      <td>5.750</td>\n",
       "      <td>1</td>\n",
       "      <td>1</td>\n",
       "      <td>...</td>\n",
       "      <td>0</td>\n",
       "      <td>0</td>\n",
       "      <td>1</td>\n",
       "      <td>0</td>\n",
       "      <td>0.021972</td>\n",
       "      <td>1</td>\n",
       "      <td>0.013210</td>\n",
       "      <td>0</td>\n",
       "      <td>0.011821</td>\n",
       "      <td>0.011960</td>\n",
       "    </tr>\n",
       "    <tr>\n",
       "      <th>12457</th>\n",
       "      <td>622</td>\n",
       "      <td>1</td>\n",
       "      <td>17</td>\n",
       "      <td>360</td>\n",
       "      <td>90</td>\n",
       "      <td>31</td>\n",
       "      <td>164000</td>\n",
       "      <td>5.625</td>\n",
       "      <td>2</td>\n",
       "      <td>0</td>\n",
       "      <td>...</td>\n",
       "      <td>1</td>\n",
       "      <td>0</td>\n",
       "      <td>0</td>\n",
       "      <td>0</td>\n",
       "      <td>0.028897</td>\n",
       "      <td>1</td>\n",
       "      <td>0.039312</td>\n",
       "      <td>1</td>\n",
       "      <td>0.021494</td>\n",
       "      <td>0.021951</td>\n",
       "    </tr>\n",
       "    <tr>\n",
       "      <th>19647</th>\n",
       "      <td>707</td>\n",
       "      <td>1</td>\n",
       "      <td>12</td>\n",
       "      <td>300</td>\n",
       "      <td>82</td>\n",
       "      <td>35</td>\n",
       "      <td>106000</td>\n",
       "      <td>6.000</td>\n",
       "      <td>1</td>\n",
       "      <td>0</td>\n",
       "      <td>...</td>\n",
       "      <td>0</td>\n",
       "      <td>0</td>\n",
       "      <td>1</td>\n",
       "      <td>0</td>\n",
       "      <td>0.019030</td>\n",
       "      <td>1</td>\n",
       "      <td>0.020703</td>\n",
       "      <td>1</td>\n",
       "      <td>0.035578</td>\n",
       "      <td>0.036819</td>\n",
       "    </tr>\n",
       "    <tr>\n",
       "      <th>12946</th>\n",
       "      <td>797</td>\n",
       "      <td>1</td>\n",
       "      <td>25</td>\n",
       "      <td>360</td>\n",
       "      <td>34</td>\n",
       "      <td>41</td>\n",
       "      <td>356000</td>\n",
       "      <td>5.750</td>\n",
       "      <td>1</td>\n",
       "      <td>0</td>\n",
       "      <td>...</td>\n",
       "      <td>0</td>\n",
       "      <td>0</td>\n",
       "      <td>1</td>\n",
       "      <td>0</td>\n",
       "      <td>0.013166</td>\n",
       "      <td>0</td>\n",
       "      <td>0.001193</td>\n",
       "      <td>0</td>\n",
       "      <td>0.005084</td>\n",
       "      <td>0.005110</td>\n",
       "    </tr>\n",
       "    <tr>\n",
       "      <th>43928</th>\n",
       "      <td>678</td>\n",
       "      <td>1</td>\n",
       "      <td>25</td>\n",
       "      <td>360</td>\n",
       "      <td>80</td>\n",
       "      <td>48</td>\n",
       "      <td>124000</td>\n",
       "      <td>6.125</td>\n",
       "      <td>1</td>\n",
       "      <td>0</td>\n",
       "      <td>...</td>\n",
       "      <td>0</td>\n",
       "      <td>0</td>\n",
       "      <td>0</td>\n",
       "      <td>0</td>\n",
       "      <td>0.023120</td>\n",
       "      <td>1</td>\n",
       "      <td>0.033785</td>\n",
       "      <td>1</td>\n",
       "      <td>0.025169</td>\n",
       "      <td>0.025794</td>\n",
       "    </tr>\n",
       "  </tbody>\n",
       "</table>\n",
       "<p>5 rows × 30 columns</p>\n",
       "</div>"
      ],
      "text/plain": [
       "       fico  cnt_units  mi_pct  orig_loan_term  cltv  dti  orig_upb  int_rt  \\\n",
       "3150    761          1      25             360    89   60    137000   5.750   \n",
       "12457   622          1      17             360    90   31    164000   5.625   \n",
       "19647   707          1      12             300    82   35    106000   6.000   \n",
       "12946   797          1      25             360    34   41    356000   5.750   \n",
       "43928   678          1      25             360    80   48    124000   6.125   \n",
       "\n",
       "       cnt_borr  flag_fthbX  ...  prop_typePU  loan_purposeC  loan_purposeN  \\\n",
       "3150          1           1  ...            0              0              1   \n",
       "12457         2           0  ...            1              0              0   \n",
       "19647         1           0  ...            0              0              1   \n",
       "12946         1           0  ...            0              0              1   \n",
       "43928         1           0  ...            0              0              0   \n",
       "\n",
       "       ever_d90   rf_prob  rf_pre  xgb_prob  xgb_pre  log_prob  self_cal  \n",
       "3150          0  0.021972       1  0.013210        0  0.011821  0.011960  \n",
       "12457         0  0.028897       1  0.039312        1  0.021494  0.021951  \n",
       "19647         0  0.019030       1  0.020703        1  0.035578  0.036819  \n",
       "12946         0  0.013166       0  0.001193        0  0.005084  0.005110  \n",
       "43928         0  0.023120       1  0.033785        1  0.025169  0.025794  \n",
       "\n",
       "[5 rows x 30 columns]"
      ]
     },
     "execution_count": 46,
     "metadata": {},
     "output_type": "execute_result"
    }
   ],
   "source": [
    "all_mod= pd.concat([val_rf, val_xgb.iloc[:,-2:], val_log.iloc[:,-2:]],axis = 1)   \n",
    "all_test= all_mod.iloc[y_test.index]\n",
    "all_test.head()"
   ]
  },
  {
   "cell_type": "code",
   "execution_count": 47,
   "metadata": {
    "scrolled": true
   },
   "outputs": [
    {
     "data": {
      "text/html": [
       "<div>\n",
       "<style scoped>\n",
       "    .dataframe tbody tr th:only-of-type {\n",
       "        vertical-align: middle;\n",
       "    }\n",
       "\n",
       "    .dataframe tbody tr th {\n",
       "        vertical-align: top;\n",
       "    }\n",
       "\n",
       "    .dataframe thead th {\n",
       "        text-align: right;\n",
       "    }\n",
       "</style>\n",
       "<table border=\"1\" class=\"dataframe\">\n",
       "  <thead>\n",
       "    <tr style=\"text-align: right;\">\n",
       "      <th></th>\n",
       "      <th>ever_d90</th>\n",
       "      <th>log_prob</th>\n",
       "    </tr>\n",
       "    <tr>\n",
       "      <th>log_prob</th>\n",
       "      <th></th>\n",
       "      <th></th>\n",
       "    </tr>\n",
       "  </thead>\n",
       "  <tbody>\n",
       "    <tr>\n",
       "      <th>(0.0567, 0.327]</th>\n",
       "      <td>0.063257</td>\n",
       "      <td>0.094009</td>\n",
       "    </tr>\n",
       "    <tr>\n",
       "      <th>(0.0384, 0.0567]</th>\n",
       "      <td>0.032389</td>\n",
       "      <td>0.046718</td>\n",
       "    </tr>\n",
       "    <tr>\n",
       "      <th>(0.0212, 0.0276]</th>\n",
       "      <td>0.030956</td>\n",
       "      <td>0.024068</td>\n",
       "    </tr>\n",
       "    <tr>\n",
       "      <th>(0.0276, 0.0384]</th>\n",
       "      <td>0.028226</td>\n",
       "      <td>0.032350</td>\n",
       "    </tr>\n",
       "    <tr>\n",
       "      <th>(0.012, 0.0145]</th>\n",
       "      <td>0.017520</td>\n",
       "      <td>0.013145</td>\n",
       "    </tr>\n",
       "    <tr>\n",
       "      <th>(0.0145, 0.0173]</th>\n",
       "      <td>0.017497</td>\n",
       "      <td>0.015816</td>\n",
       "    </tr>\n",
       "    <tr>\n",
       "      <th>(0.0173, 0.0212]</th>\n",
       "      <td>0.014825</td>\n",
       "      <td>0.019186</td>\n",
       "    </tr>\n",
       "    <tr>\n",
       "      <th>(0.00708, 0.00827]</th>\n",
       "      <td>0.010767</td>\n",
       "      <td>0.007634</td>\n",
       "    </tr>\n",
       "    <tr>\n",
       "      <th>(0.00827, 0.00991]</th>\n",
       "      <td>0.009434</td>\n",
       "      <td>0.009053</td>\n",
       "    </tr>\n",
       "    <tr>\n",
       "      <th>(0.00991, 0.012]</th>\n",
       "      <td>0.008075</td>\n",
       "      <td>0.010978</td>\n",
       "    </tr>\n",
       "    <tr>\n",
       "      <th>(0.0061, 0.00708]</th>\n",
       "      <td>0.005391</td>\n",
       "      <td>0.006577</td>\n",
       "    </tr>\n",
       "    <tr>\n",
       "      <th>(0.00529, 0.0061]</th>\n",
       "      <td>0.005384</td>\n",
       "      <td>0.005681</td>\n",
       "    </tr>\n",
       "    <tr>\n",
       "      <th>(0.00379, 0.00454]</th>\n",
       "      <td>0.004049</td>\n",
       "      <td>0.004166</td>\n",
       "    </tr>\n",
       "    <tr>\n",
       "      <th>(0.00454, 0.00529]</th>\n",
       "      <td>0.002692</td>\n",
       "      <td>0.004889</td>\n",
       "    </tr>\n",
       "    <tr>\n",
       "      <th>(0.00262, 0.00318]</th>\n",
       "      <td>0.001348</td>\n",
       "      <td>0.002894</td>\n",
       "    </tr>\n",
       "    <tr>\n",
       "      <th>(0.00121, 0.00167]</th>\n",
       "      <td>0.000000</td>\n",
       "      <td>0.001446</td>\n",
       "    </tr>\n",
       "    <tr>\n",
       "      <th>(0.00318, 0.00379]</th>\n",
       "      <td>0.000000</td>\n",
       "      <td>0.003479</td>\n",
       "    </tr>\n",
       "    <tr>\n",
       "      <th>(0.00212, 0.00262]</th>\n",
       "      <td>0.000000</td>\n",
       "      <td>0.002367</td>\n",
       "    </tr>\n",
       "    <tr>\n",
       "      <th>(0.00167, 0.00212]</th>\n",
       "      <td>0.000000</td>\n",
       "      <td>0.001892</td>\n",
       "    </tr>\n",
       "    <tr>\n",
       "      <th>(-0.0005870000000000001, 0.00121]</th>\n",
       "      <td>0.000000</td>\n",
       "      <td>0.000912</td>\n",
       "    </tr>\n",
       "  </tbody>\n",
       "</table>\n",
       "</div>"
      ],
      "text/plain": [
       "                                   ever_d90  log_prob\n",
       "log_prob                                             \n",
       "(0.0567, 0.327]                    0.063257  0.094009\n",
       "(0.0384, 0.0567]                   0.032389  0.046718\n",
       "(0.0212, 0.0276]                   0.030956  0.024068\n",
       "(0.0276, 0.0384]                   0.028226  0.032350\n",
       "(0.012, 0.0145]                    0.017520  0.013145\n",
       "(0.0145, 0.0173]                   0.017497  0.015816\n",
       "(0.0173, 0.0212]                   0.014825  0.019186\n",
       "(0.00708, 0.00827]                 0.010767  0.007634\n",
       "(0.00827, 0.00991]                 0.009434  0.009053\n",
       "(0.00991, 0.012]                   0.008075  0.010978\n",
       "(0.0061, 0.00708]                  0.005391  0.006577\n",
       "(0.00529, 0.0061]                  0.005384  0.005681\n",
       "(0.00379, 0.00454]                 0.004049  0.004166\n",
       "(0.00454, 0.00529]                 0.002692  0.004889\n",
       "(0.00262, 0.00318]                 0.001348  0.002894\n",
       "(0.00121, 0.00167]                 0.000000  0.001446\n",
       "(0.00318, 0.00379]                 0.000000  0.003479\n",
       "(0.00212, 0.00262]                 0.000000  0.002367\n",
       "(0.00167, 0.00212]                 0.000000  0.001892\n",
       "(-0.0005870000000000001, 0.00121]  0.000000  0.000912"
      ]
     },
     "execution_count": 47,
     "metadata": {},
     "output_type": "execute_result"
    }
   ],
   "source": [
    "order_log=all_test.groupby(pd.qcut(all_test['log_prob'].sort_values(ascending=False),20,duplicates = 'drop'))[['ever_d90', 'log_prob']].mean().sort_values(by='ever_d90', ascending=False)\n",
    "order_log"
   ]
  },
  {
   "cell_type": "code",
   "execution_count": 48,
   "metadata": {
    "scrolled": true
   },
   "outputs": [
    {
     "data": {
      "text/html": [
       "<div>\n",
       "<style scoped>\n",
       "    .dataframe tbody tr th:only-of-type {\n",
       "        vertical-align: middle;\n",
       "    }\n",
       "\n",
       "    .dataframe tbody tr th {\n",
       "        vertical-align: top;\n",
       "    }\n",
       "\n",
       "    .dataframe thead th {\n",
       "        text-align: right;\n",
       "    }\n",
       "</style>\n",
       "<table border=\"1\" class=\"dataframe\">\n",
       "  <thead>\n",
       "    <tr style=\"text-align: right;\">\n",
       "      <th></th>\n",
       "      <th>ever_d90</th>\n",
       "      <th>rf_prob</th>\n",
       "    </tr>\n",
       "    <tr>\n",
       "      <th>rf_prob</th>\n",
       "      <th></th>\n",
       "      <th></th>\n",
       "    </tr>\n",
       "  </thead>\n",
       "  <tbody>\n",
       "    <tr>\n",
       "      <th>(0.0698, 0.194]</th>\n",
       "      <td>0.063758</td>\n",
       "      <td>0.088910</td>\n",
       "    </tr>\n",
       "    <tr>\n",
       "      <th>(0.0552, 0.0698]</th>\n",
       "      <td>0.067340</td>\n",
       "      <td>0.062179</td>\n",
       "    </tr>\n",
       "    <tr>\n",
       "      <th>(0.046, 0.0552]</th>\n",
       "      <td>0.050505</td>\n",
       "      <td>0.050320</td>\n",
       "    </tr>\n",
       "    <tr>\n",
       "      <th>(0.0402, 0.046]</th>\n",
       "      <td>0.013468</td>\n",
       "      <td>0.042869</td>\n",
       "    </tr>\n",
       "    <tr>\n",
       "      <th>(0.0357, 0.0402]</th>\n",
       "      <td>0.040404</td>\n",
       "      <td>0.037724</td>\n",
       "    </tr>\n",
       "    <tr>\n",
       "      <th>(0.0319, 0.0357]</th>\n",
       "      <td>0.040404</td>\n",
       "      <td>0.033638</td>\n",
       "    </tr>\n",
       "    <tr>\n",
       "      <th>(0.0288, 0.0319]</th>\n",
       "      <td>0.047138</td>\n",
       "      <td>0.030245</td>\n",
       "    </tr>\n",
       "    <tr>\n",
       "      <th>(0.0262, 0.0288]</th>\n",
       "      <td>0.033670</td>\n",
       "      <td>0.027455</td>\n",
       "    </tr>\n",
       "    <tr>\n",
       "      <th>(0.024, 0.0262]</th>\n",
       "      <td>0.026936</td>\n",
       "      <td>0.025051</td>\n",
       "    </tr>\n",
       "    <tr>\n",
       "      <th>(0.0219, 0.024]</th>\n",
       "      <td>0.006734</td>\n",
       "      <td>0.022921</td>\n",
       "    </tr>\n",
       "    <tr>\n",
       "      <th>(0.0201, 0.0219]</th>\n",
       "      <td>0.013468</td>\n",
       "      <td>0.021020</td>\n",
       "    </tr>\n",
       "    <tr>\n",
       "      <th>(0.0186, 0.0201]</th>\n",
       "      <td>0.023569</td>\n",
       "      <td>0.019296</td>\n",
       "    </tr>\n",
       "    <tr>\n",
       "      <th>(0.0174, 0.0186]</th>\n",
       "      <td>0.016835</td>\n",
       "      <td>0.017993</td>\n",
       "    </tr>\n",
       "    <tr>\n",
       "      <th>(0.0164, 0.0174]</th>\n",
       "      <td>0.013468</td>\n",
       "      <td>0.016876</td>\n",
       "    </tr>\n",
       "    <tr>\n",
       "      <th>(0.0154, 0.0164]</th>\n",
       "      <td>0.010101</td>\n",
       "      <td>0.015879</td>\n",
       "    </tr>\n",
       "    <tr>\n",
       "      <th>(0.0145, 0.0154]</th>\n",
       "      <td>0.026936</td>\n",
       "      <td>0.014949</td>\n",
       "    </tr>\n",
       "    <tr>\n",
       "      <th>(0.0137, 0.0145]</th>\n",
       "      <td>0.010101</td>\n",
       "      <td>0.014050</td>\n",
       "    </tr>\n",
       "    <tr>\n",
       "      <th>(0.013, 0.0137]</th>\n",
       "      <td>0.006734</td>\n",
       "      <td>0.013328</td>\n",
       "    </tr>\n",
       "    <tr>\n",
       "      <th>(0.0124, 0.013]</th>\n",
       "      <td>0.006734</td>\n",
       "      <td>0.012681</td>\n",
       "    </tr>\n",
       "    <tr>\n",
       "      <th>(0.0118, 0.0124]</th>\n",
       "      <td>0.010101</td>\n",
       "      <td>0.012054</td>\n",
       "    </tr>\n",
       "    <tr>\n",
       "      <th>(0.0111, 0.0118]</th>\n",
       "      <td>0.020202</td>\n",
       "      <td>0.011446</td>\n",
       "    </tr>\n",
       "    <tr>\n",
       "      <th>(0.0106, 0.0111]</th>\n",
       "      <td>0.006734</td>\n",
       "      <td>0.010868</td>\n",
       "    </tr>\n",
       "    <tr>\n",
       "      <th>(0.0101, 0.0106]</th>\n",
       "      <td>0.010101</td>\n",
       "      <td>0.010339</td>\n",
       "    </tr>\n",
       "    <tr>\n",
       "      <th>(0.00965, 0.0101]</th>\n",
       "      <td>0.010101</td>\n",
       "      <td>0.009868</td>\n",
       "    </tr>\n",
       "    <tr>\n",
       "      <th>(0.00924, 0.00965]</th>\n",
       "      <td>0.013468</td>\n",
       "      <td>0.009455</td>\n",
       "    </tr>\n",
       "    <tr>\n",
       "      <th>(0.00882, 0.00924]</th>\n",
       "      <td>0.000000</td>\n",
       "      <td>0.009027</td>\n",
       "    </tr>\n",
       "    <tr>\n",
       "      <th>(0.00843, 0.00882]</th>\n",
       "      <td>0.013468</td>\n",
       "      <td>0.008620</td>\n",
       "    </tr>\n",
       "    <tr>\n",
       "      <th>(0.00806, 0.00843]</th>\n",
       "      <td>0.000000</td>\n",
       "      <td>0.008235</td>\n",
       "    </tr>\n",
       "    <tr>\n",
       "      <th>(0.00771, 0.00806]</th>\n",
       "      <td>0.000000</td>\n",
       "      <td>0.007885</td>\n",
       "    </tr>\n",
       "    <tr>\n",
       "      <th>(0.00735, 0.00771]</th>\n",
       "      <td>0.000000</td>\n",
       "      <td>0.007537</td>\n",
       "    </tr>\n",
       "    <tr>\n",
       "      <th>(0.007, 0.00735]</th>\n",
       "      <td>0.000000</td>\n",
       "      <td>0.007169</td>\n",
       "    </tr>\n",
       "    <tr>\n",
       "      <th>(0.00669, 0.007]</th>\n",
       "      <td>0.003367</td>\n",
       "      <td>0.006844</td>\n",
       "    </tr>\n",
       "    <tr>\n",
       "      <th>(0.00639, 0.00669]</th>\n",
       "      <td>0.003367</td>\n",
       "      <td>0.006544</td>\n",
       "    </tr>\n",
       "    <tr>\n",
       "      <th>(0.00609, 0.00639]</th>\n",
       "      <td>0.003367</td>\n",
       "      <td>0.006228</td>\n",
       "    </tr>\n",
       "    <tr>\n",
       "      <th>(0.0058, 0.00609]</th>\n",
       "      <td>0.000000</td>\n",
       "      <td>0.005950</td>\n",
       "    </tr>\n",
       "    <tr>\n",
       "      <th>(0.00552, 0.0058]</th>\n",
       "      <td>0.003367</td>\n",
       "      <td>0.005658</td>\n",
       "    </tr>\n",
       "    <tr>\n",
       "      <th>(0.00523, 0.00552]</th>\n",
       "      <td>0.003367</td>\n",
       "      <td>0.005376</td>\n",
       "    </tr>\n",
       "    <tr>\n",
       "      <th>(0.00495, 0.00523]</th>\n",
       "      <td>0.003367</td>\n",
       "      <td>0.005091</td>\n",
       "    </tr>\n",
       "    <tr>\n",
       "      <th>(0.0047, 0.00495]</th>\n",
       "      <td>0.003367</td>\n",
       "      <td>0.004819</td>\n",
       "    </tr>\n",
       "    <tr>\n",
       "      <th>(0.00445, 0.0047]</th>\n",
       "      <td>0.000000</td>\n",
       "      <td>0.004577</td>\n",
       "    </tr>\n",
       "    <tr>\n",
       "      <th>(0.00421, 0.00445]</th>\n",
       "      <td>0.000000</td>\n",
       "      <td>0.004322</td>\n",
       "    </tr>\n",
       "    <tr>\n",
       "      <th>(0.00397, 0.00421]</th>\n",
       "      <td>0.003367</td>\n",
       "      <td>0.004096</td>\n",
       "    </tr>\n",
       "    <tr>\n",
       "      <th>(0.00369, 0.00397]</th>\n",
       "      <td>0.000000</td>\n",
       "      <td>0.003829</td>\n",
       "    </tr>\n",
       "    <tr>\n",
       "      <th>(0.00346, 0.00369]</th>\n",
       "      <td>0.000000</td>\n",
       "      <td>0.003585</td>\n",
       "    </tr>\n",
       "    <tr>\n",
       "      <th>(0.00322, 0.00346]</th>\n",
       "      <td>0.000000</td>\n",
       "      <td>0.003341</td>\n",
       "    </tr>\n",
       "    <tr>\n",
       "      <th>(0.00295, 0.00322]</th>\n",
       "      <td>0.000000</td>\n",
       "      <td>0.003092</td>\n",
       "    </tr>\n",
       "    <tr>\n",
       "      <th>(0.00269, 0.00295]</th>\n",
       "      <td>0.000000</td>\n",
       "      <td>0.002819</td>\n",
       "    </tr>\n",
       "    <tr>\n",
       "      <th>(0.00239, 0.00269]</th>\n",
       "      <td>0.000000</td>\n",
       "      <td>0.002537</td>\n",
       "    </tr>\n",
       "    <tr>\n",
       "      <th>(0.002, 0.00239]</th>\n",
       "      <td>0.000000</td>\n",
       "      <td>0.002211</td>\n",
       "    </tr>\n",
       "    <tr>\n",
       "      <th>(3.999999999999989e-05, 0.002]</th>\n",
       "      <td>0.000000</td>\n",
       "      <td>0.001676</td>\n",
       "    </tr>\n",
       "  </tbody>\n",
       "</table>\n",
       "</div>"
      ],
      "text/plain": [
       "                                ever_d90   rf_prob\n",
       "rf_prob                                           \n",
       "(0.0698, 0.194]                 0.063758  0.088910\n",
       "(0.0552, 0.0698]                0.067340  0.062179\n",
       "(0.046, 0.0552]                 0.050505  0.050320\n",
       "(0.0402, 0.046]                 0.013468  0.042869\n",
       "(0.0357, 0.0402]                0.040404  0.037724\n",
       "(0.0319, 0.0357]                0.040404  0.033638\n",
       "(0.0288, 0.0319]                0.047138  0.030245\n",
       "(0.0262, 0.0288]                0.033670  0.027455\n",
       "(0.024, 0.0262]                 0.026936  0.025051\n",
       "(0.0219, 0.024]                 0.006734  0.022921\n",
       "(0.0201, 0.0219]                0.013468  0.021020\n",
       "(0.0186, 0.0201]                0.023569  0.019296\n",
       "(0.0174, 0.0186]                0.016835  0.017993\n",
       "(0.0164, 0.0174]                0.013468  0.016876\n",
       "(0.0154, 0.0164]                0.010101  0.015879\n",
       "(0.0145, 0.0154]                0.026936  0.014949\n",
       "(0.0137, 0.0145]                0.010101  0.014050\n",
       "(0.013, 0.0137]                 0.006734  0.013328\n",
       "(0.0124, 0.013]                 0.006734  0.012681\n",
       "(0.0118, 0.0124]                0.010101  0.012054\n",
       "(0.0111, 0.0118]                0.020202  0.011446\n",
       "(0.0106, 0.0111]                0.006734  0.010868\n",
       "(0.0101, 0.0106]                0.010101  0.010339\n",
       "(0.00965, 0.0101]               0.010101  0.009868\n",
       "(0.00924, 0.00965]              0.013468  0.009455\n",
       "(0.00882, 0.00924]              0.000000  0.009027\n",
       "(0.00843, 0.00882]              0.013468  0.008620\n",
       "(0.00806, 0.00843]              0.000000  0.008235\n",
       "(0.00771, 0.00806]              0.000000  0.007885\n",
       "(0.00735, 0.00771]              0.000000  0.007537\n",
       "(0.007, 0.00735]                0.000000  0.007169\n",
       "(0.00669, 0.007]                0.003367  0.006844\n",
       "(0.00639, 0.00669]              0.003367  0.006544\n",
       "(0.00609, 0.00639]              0.003367  0.006228\n",
       "(0.0058, 0.00609]               0.000000  0.005950\n",
       "(0.00552, 0.0058]               0.003367  0.005658\n",
       "(0.00523, 0.00552]              0.003367  0.005376\n",
       "(0.00495, 0.00523]              0.003367  0.005091\n",
       "(0.0047, 0.00495]               0.003367  0.004819\n",
       "(0.00445, 0.0047]               0.000000  0.004577\n",
       "(0.00421, 0.00445]              0.000000  0.004322\n",
       "(0.00397, 0.00421]              0.003367  0.004096\n",
       "(0.00369, 0.00397]              0.000000  0.003829\n",
       "(0.00346, 0.00369]              0.000000  0.003585\n",
       "(0.00322, 0.00346]              0.000000  0.003341\n",
       "(0.00295, 0.00322]              0.000000  0.003092\n",
       "(0.00269, 0.00295]              0.000000  0.002819\n",
       "(0.00239, 0.00269]              0.000000  0.002537\n",
       "(0.002, 0.00239]                0.000000  0.002211\n",
       "(3.999999999999989e-05, 0.002]  0.000000  0.001676"
      ]
     },
     "execution_count": 48,
     "metadata": {},
     "output_type": "execute_result"
    }
   ],
   "source": [
    "order_rf=all_test.groupby(pd.qcut(all_test['rf_prob'].sort_values(ascending=False),50,duplicates = 'drop'))[['ever_d90', 'rf_prob']].mean().sort_index(ascending=False)\n",
    "order_rf "
   ]
  },
  {
   "cell_type": "code",
   "execution_count": 49,
   "metadata": {},
   "outputs": [
    {
     "data": {
      "text/html": [
       "<div>\n",
       "<style scoped>\n",
       "    .dataframe tbody tr th:only-of-type {\n",
       "        vertical-align: middle;\n",
       "    }\n",
       "\n",
       "    .dataframe tbody tr th {\n",
       "        vertical-align: top;\n",
       "    }\n",
       "\n",
       "    .dataframe thead th {\n",
       "        text-align: right;\n",
       "    }\n",
       "</style>\n",
       "<table border=\"1\" class=\"dataframe\">\n",
       "  <thead>\n",
       "    <tr style=\"text-align: right;\">\n",
       "      <th></th>\n",
       "      <th>ever_d90</th>\n",
       "      <th>xgb_prob</th>\n",
       "    </tr>\n",
       "    <tr>\n",
       "      <th>xgb_prob</th>\n",
       "      <th></th>\n",
       "      <th></th>\n",
       "    </tr>\n",
       "  </thead>\n",
       "  <tbody>\n",
       "    <tr>\n",
       "      <th>(0.0411, 0.346]</th>\n",
       "      <td>0.047106</td>\n",
       "      <td>0.070792</td>\n",
       "    </tr>\n",
       "    <tr>\n",
       "      <th>(0.0235, 0.0411]</th>\n",
       "      <td>0.032997</td>\n",
       "      <td>0.031046</td>\n",
       "    </tr>\n",
       "    <tr>\n",
       "      <th>(0.0149, 0.0235]</th>\n",
       "      <td>0.012795</td>\n",
       "      <td>0.018696</td>\n",
       "    </tr>\n",
       "    <tr>\n",
       "      <th>(0.00969, 0.0149]</th>\n",
       "      <td>0.018855</td>\n",
       "      <td>0.012113</td>\n",
       "    </tr>\n",
       "    <tr>\n",
       "      <th>(0.00606, 0.00969]</th>\n",
       "      <td>0.005387</td>\n",
       "      <td>0.007758</td>\n",
       "    </tr>\n",
       "    <tr>\n",
       "      <th>(0.00383, 0.00606]</th>\n",
       "      <td>0.003367</td>\n",
       "      <td>0.004802</td>\n",
       "    </tr>\n",
       "    <tr>\n",
       "      <th>(0.00266, 0.00383]</th>\n",
       "      <td>0.003367</td>\n",
       "      <td>0.003198</td>\n",
       "    </tr>\n",
       "    <tr>\n",
       "      <th>(0.00188, 0.00266]</th>\n",
       "      <td>0.001347</td>\n",
       "      <td>0.002263</td>\n",
       "    </tr>\n",
       "    <tr>\n",
       "      <th>(0.00104, 0.00188]</th>\n",
       "      <td>0.000000</td>\n",
       "      <td>0.001469</td>\n",
       "    </tr>\n",
       "    <tr>\n",
       "      <th>(-0.000678, 0.00104]</th>\n",
       "      <td>0.000673</td>\n",
       "      <td>0.000694</td>\n",
       "    </tr>\n",
       "  </tbody>\n",
       "</table>\n",
       "</div>"
      ],
      "text/plain": [
       "                      ever_d90  xgb_prob\n",
       "xgb_prob                                \n",
       "(0.0411, 0.346]       0.047106  0.070792\n",
       "(0.0235, 0.0411]      0.032997  0.031046\n",
       "(0.0149, 0.0235]      0.012795  0.018696\n",
       "(0.00969, 0.0149]     0.018855  0.012113\n",
       "(0.00606, 0.00969]    0.005387  0.007758\n",
       "(0.00383, 0.00606]    0.003367  0.004802\n",
       "(0.00266, 0.00383]    0.003367  0.003198\n",
       "(0.00188, 0.00266]    0.001347  0.002263\n",
       "(0.00104, 0.00188]    0.000000  0.001469\n",
       "(-0.000678, 0.00104]  0.000673  0.000694"
      ]
     },
     "execution_count": 49,
     "metadata": {},
     "output_type": "execute_result"
    }
   ],
   "source": [
    "order_xgb=all_test.groupby(pd.qcut(all_test['xgb_prob'].sort_values(ascending=False),10,duplicates = 'drop'))[['ever_d90', 'xgb_prob']].mean().sort_index(ascending=False)\n",
    "order_xgb"
   ]
  },
  {
   "cell_type": "code",
   "execution_count": 50,
   "metadata": {},
   "outputs": [
    {
     "data": {
      "image/png": "[encoded data removed]",
      "text/plain": [
       "<Figure size 432x288 with 1 Axes>"
      ]
     },
     "metadata": {
      "needs_background": "light"
     },
     "output_type": "display_data"
    }
   ],
   "source": [
    "\n",
    "#plt.subplot(111)\n",
    "\n",
    "a = all_test.groupby(pd.qcut(all_test['log_prob'].sort_values(ascending=False),20,duplicates = 'drop'))[['ever_d90', 'log_prob']].mean()\n",
    "plt.scatter(a['log_prob'],a['ever_d90'], c= 'orange', label='logit_predict') \n",
    "\n",
    "\n",
    "a = all_test.groupby(pd.qcut(all_test['xgb_prob'].sort_values(ascending=False),20,duplicates = 'drop'))[['ever_d90','xgb_prob']].mean() \n",
    "#d = all_mod.groupby(pd.qcut(all_mod['xgb_prob'].sort_values(by=['xgb_prob']),50,duplicates = 'drop'))[['ever_d90', 'xgb_prob']].mean()\n",
    "plt.scatter(a['xgb_prob'],a['ever_d90'], c= 'g', label='xbg_predict')\n",
    "\n",
    "a = all_test.groupby(pd.qcut(all_test['rf_prob'].sort_values(ascending=False),20,duplicates = 'drop'))[['ever_d90', 'rf_prob']].mean()\n",
    "#e = all_mod.groupby(pd.qcut(all_mod['rf_prob'].sort_values(by=['rf_prob']),50,duplicates = 'drop'))[['ever_d90', 'rf_prob']].mean()\n",
    "plt.scatter(a['rf_prob'],a['ever_d90'], c= 'b', label='rf_predict')\n",
    "\n",
    "#b = sample_df3.groupby(pd.qcut(sample_df3[col],50,duplicates = 'drop'))[[col, 'ever_d90']].mean()\n",
    "plt.scatter(a['ever_d90'],a['ever_d90'], c= 'r', label='actual') \n",
    "plt.title(\"Predicted vs Observed EverD90 Rate Order by Predicted Value\"  )\n",
    "plt.legend()\n",
    "plt.xlabel('predict_value', fontsize =12)\n",
    "plt.ylabel('d90 rate',fontsize =12)    \n",
    "\n",
    "plt.show()"
   ]
  },
  {
   "cell_type": "code",
   "execution_count": 51,
   "metadata": {
    "scrolled": true
   },
   "outputs": [
    {
     "name": "stderr",
     "output_type": "stream",
     "text": [
      "D:\\Program Files (x86)\\Anaconda\\lib\\site-packages\\sklearn\\linear_model\\_logistic.py:762: ConvergenceWarning: lbfgs failed to converge (status=1):\n",
      "STOP: TOTAL NO. of ITERATIONS REACHED LIMIT.\n",
      "\n",
      "Increase the number of iterations (max_iter) or scale the data as shown in:\n",
      "    https://scikit-learn.org/stable/modules/preprocessing.html\n",
      "Please also refer to the documentation for alternative solver options:\n",
      "    https://scikit-learn.org/stable/modules/linear_model.html#logistic-regression\n",
      "  n_iter_i = _check_optimize_result(\n",
      "D:\\Program Files (x86)\\Anaconda\\lib\\site-packages\\sklearn\\linear_model\\_logistic.py:762: ConvergenceWarning: lbfgs failed to converge (status=1):\n",
      "STOP: TOTAL NO. of ITERATIONS REACHED LIMIT.\n",
      "\n",
      "Increase the number of iterations (max_iter) or scale the data as shown in:\n",
      "    https://scikit-learn.org/stable/modules/preprocessing.html\n",
      "Please also refer to the documentation for alternative solver options:\n",
      "    https://scikit-learn.org/stable/modules/linear_model.html#logistic-regression\n",
      "  n_iter_i = _check_optimize_result(\n",
      "D:\\Program Files (x86)\\Anaconda\\lib\\site-packages\\sklearn\\linear_model\\_logistic.py:762: ConvergenceWarning: lbfgs failed to converge (status=1):\n",
      "STOP: TOTAL NO. of ITERATIONS REACHED LIMIT.\n",
      "\n",
      "Increase the number of iterations (max_iter) or scale the data as shown in:\n",
      "    https://scikit-learn.org/stable/modules/preprocessing.html\n",
      "Please also refer to the documentation for alternative solver options:\n",
      "    https://scikit-learn.org/stable/modules/linear_model.html#logistic-regression\n",
      "  n_iter_i = _check_optimize_result(\n",
      "D:\\Program Files (x86)\\Anaconda\\lib\\site-packages\\xgboost\\sklearn.py:888: UserWarning: The use of label encoder in XGBClassifier is deprecated and will be removed in a future release. To remove this warning, do the following: 1) Pass option use_label_encoder=False when constructing XGBClassifier object; and 2) Encode your labels (y) as integers starting with 0, i.e. 0, 1, 2, ..., [num_class - 1].\n",
      "  warnings.warn(label_encoder_deprecation_msg, UserWarning)\n"
     ]
    },
    {
     "name": "stdout",
     "output_type": "stream",
     "text": [
      "[00:51:33] WARNING: C:/Users/Administrator/workspace/xgboost-win64_release_1.3.0/src/learner.cc:1061: Starting in XGBoost 1.3.0, the default evaluation metric used with the objective 'binary:logistic' was changed from 'error' to 'logloss'. Explicitly set eval_metric if you'd like to restore the old behavior.\n"
     ]
    },
    {
     "name": "stderr",
     "output_type": "stream",
     "text": [
      "D:\\Program Files (x86)\\Anaconda\\lib\\site-packages\\xgboost\\sklearn.py:888: UserWarning: The use of label encoder in XGBClassifier is deprecated and will be removed in a future release. To remove this warning, do the following: 1) Pass option use_label_encoder=False when constructing XGBClassifier object; and 2) Encode your labels (y) as integers starting with 0, i.e. 0, 1, 2, ..., [num_class - 1].\n",
      "  warnings.warn(label_encoder_deprecation_msg, UserWarning)\n"
     ]
    },
    {
     "name": "stdout",
     "output_type": "stream",
     "text": [
      "[00:51:36] WARNING: C:/Users/Administrator/workspace/xgboost-win64_release_1.3.0/src/learner.cc:1061: Starting in XGBoost 1.3.0, the default evaluation metric used with the objective 'binary:logistic' was changed from 'error' to 'logloss'. Explicitly set eval_metric if you'd like to restore the old behavior.\n"
     ]
    },
    {
     "name": "stderr",
     "output_type": "stream",
     "text": [
      "D:\\Program Files (x86)\\Anaconda\\lib\\site-packages\\xgboost\\sklearn.py:888: UserWarning: The use of label encoder in XGBClassifier is deprecated and will be removed in a future release. To remove this warning, do the following: 1) Pass option use_label_encoder=False when constructing XGBClassifier object; and 2) Encode your labels (y) as integers starting with 0, i.e. 0, 1, 2, ..., [num_class - 1].\n",
      "  warnings.warn(label_encoder_deprecation_msg, UserWarning)\n"
     ]
    },
    {
     "name": "stdout",
     "output_type": "stream",
     "text": [
      "[00:51:40] WARNING: C:/Users/Administrator/workspace/xgboost-win64_release_1.3.0/src/learner.cc:1061: Starting in XGBoost 1.3.0, the default evaluation metric used with the objective 'binary:logistic' was changed from 'error' to 'logloss'. Explicitly set eval_metric if you'd like to restore the old behavior.\n"
     ]
    },
    {
     "name": "stderr",
     "output_type": "stream",
     "text": [
      "D:\\Program Files (x86)\\Anaconda\\lib\\site-packages\\xgboost\\sklearn.py:888: UserWarning: The use of label encoder in XGBClassifier is deprecated and will be removed in a future release. To remove this warning, do the following: 1) Pass option use_label_encoder=False when constructing XGBClassifier object; and 2) Encode your labels (y) as integers starting with 0, i.e. 0, 1, 2, ..., [num_class - 1].\n",
      "  warnings.warn(label_encoder_deprecation_msg, UserWarning)\n"
     ]
    },
    {
     "name": "stdout",
     "output_type": "stream",
     "text": [
      "[00:51:43] WARNING: C:/Users/Administrator/workspace/xgboost-win64_release_1.3.0/src/learner.cc:1061: Starting in XGBoost 1.3.0, the default evaluation metric used with the objective 'binary:logistic' was changed from 'error' to 'logloss'. Explicitly set eval_metric if you'd like to restore the old behavior.\n"
     ]
    },
    {
     "name": "stderr",
     "output_type": "stream",
     "text": [
      "D:\\Program Files (x86)\\Anaconda\\lib\\site-packages\\xgboost\\sklearn.py:888: UserWarning: The use of label encoder in XGBClassifier is deprecated and will be removed in a future release. To remove this warning, do the following: 1) Pass option use_label_encoder=False when constructing XGBClassifier object; and 2) Encode your labels (y) as integers starting with 0, i.e. 0, 1, 2, ..., [num_class - 1].\n",
      "  warnings.warn(label_encoder_deprecation_msg, UserWarning)\n"
     ]
    },
    {
     "name": "stdout",
     "output_type": "stream",
     "text": [
      "[00:51:46] WARNING: C:/Users/Administrator/workspace/xgboost-win64_release_1.3.0/src/learner.cc:1061: Starting in XGBoost 1.3.0, the default evaluation metric used with the objective 'binary:logistic' was changed from 'error' to 'logloss'. Explicitly set eval_metric if you'd like to restore the old behavior.\n"
     ]
    },
    {
     "name": "stderr",
     "output_type": "stream",
     "text": [
      "D:\\Program Files (x86)\\Anaconda\\lib\\site-packages\\xgboost\\sklearn.py:888: UserWarning: The use of label encoder in XGBClassifier is deprecated and will be removed in a future release. To remove this warning, do the following: 1) Pass option use_label_encoder=False when constructing XGBClassifier object; and 2) Encode your labels (y) as integers starting with 0, i.e. 0, 1, 2, ..., [num_class - 1].\n",
      "  warnings.warn(label_encoder_deprecation_msg, UserWarning)\n"
     ]
    },
    {
     "name": "stdout",
     "output_type": "stream",
     "text": [
      "[00:51:49] WARNING: C:/Users/Administrator/workspace/xgboost-win64_release_1.3.0/src/learner.cc:1061: Starting in XGBoost 1.3.0, the default evaluation metric used with the objective 'binary:logistic' was changed from 'error' to 'logloss'. Explicitly set eval_metric if you'd like to restore the old behavior.\n"
     ]
    },
    {
     "name": "stderr",
     "output_type": "stream",
     "text": [
      "D:\\Program Files (x86)\\Anaconda\\lib\\site-packages\\xgboost\\sklearn.py:888: UserWarning: The use of label encoder in XGBClassifier is deprecated and will be removed in a future release. To remove this warning, do the following: 1) Pass option use_label_encoder=False when constructing XGBClassifier object; and 2) Encode your labels (y) as integers starting with 0, i.e. 0, 1, 2, ..., [num_class - 1].\n",
      "  warnings.warn(label_encoder_deprecation_msg, UserWarning)\n"
     ]
    },
    {
     "name": "stdout",
     "output_type": "stream",
     "text": [
      "[00:51:53] WARNING: C:/Users/Administrator/workspace/xgboost-win64_release_1.3.0/src/learner.cc:1061: Starting in XGBoost 1.3.0, the default evaluation metric used with the objective 'binary:logistic' was changed from 'error' to 'logloss'. Explicitly set eval_metric if you'd like to restore the old behavior.\n"
     ]
    },
    {
     "name": "stderr",
     "output_type": "stream",
     "text": [
      "D:\\Program Files (x86)\\Anaconda\\lib\\site-packages\\xgboost\\sklearn.py:888: UserWarning: The use of label encoder in XGBClassifier is deprecated and will be removed in a future release. To remove this warning, do the following: 1) Pass option use_label_encoder=False when constructing XGBClassifier object; and 2) Encode your labels (y) as integers starting with 0, i.e. 0, 1, 2, ..., [num_class - 1].\n",
      "  warnings.warn(label_encoder_deprecation_msg, UserWarning)\n"
     ]
    },
    {
     "name": "stdout",
     "output_type": "stream",
     "text": [
      "[00:51:56] WARNING: C:/Users/Administrator/workspace/xgboost-win64_release_1.3.0/src/learner.cc:1061: Starting in XGBoost 1.3.0, the default evaluation metric used with the objective 'binary:logistic' was changed from 'error' to 'logloss'. Explicitly set eval_metric if you'd like to restore the old behavior.\n"
     ]
    },
    {
     "name": "stderr",
     "output_type": "stream",
     "text": [
      "D:\\Program Files (x86)\\Anaconda\\lib\\site-packages\\xgboost\\sklearn.py:888: UserWarning: The use of label encoder in XGBClassifier is deprecated and will be removed in a future release. To remove this warning, do the following: 1) Pass option use_label_encoder=False when constructing XGBClassifier object; and 2) Encode your labels (y) as integers starting with 0, i.e. 0, 1, 2, ..., [num_class - 1].\n",
      "  warnings.warn(label_encoder_deprecation_msg, UserWarning)\n"
     ]
    },
    {
     "name": "stdout",
     "output_type": "stream",
     "text": [
      "[00:51:59] WARNING: C:/Users/Administrator/workspace/xgboost-win64_release_1.3.0/src/learner.cc:1061: Starting in XGBoost 1.3.0, the default evaluation metric used with the objective 'binary:logistic' was changed from 'error' to 'logloss'. Explicitly set eval_metric if you'd like to restore the old behavior.\n"
     ]
    },
    {
     "name": "stderr",
     "output_type": "stream",
     "text": [
      "D:\\Program Files (x86)\\Anaconda\\lib\\site-packages\\xgboost\\sklearn.py:888: UserWarning: The use of label encoder in XGBClassifier is deprecated and will be removed in a future release. To remove this warning, do the following: 1) Pass option use_label_encoder=False when constructing XGBClassifier object; and 2) Encode your labels (y) as integers starting with 0, i.e. 0, 1, 2, ..., [num_class - 1].\n",
      "  warnings.warn(label_encoder_deprecation_msg, UserWarning)\n"
     ]
    },
    {
     "name": "stdout",
     "output_type": "stream",
     "text": [
      "[00:52:02] WARNING: C:/Users/Administrator/workspace/xgboost-win64_release_1.3.0/src/learner.cc:1061: Starting in XGBoost 1.3.0, the default evaluation metric used with the objective 'binary:logistic' was changed from 'error' to 'logloss'. Explicitly set eval_metric if you'd like to restore the old behavior.\n"
     ]
    }
   ],
   "source": [
    "from sklearn.model_selection import cross_val_score\n",
    "from sklearn.metrics import classification_report, confusion_matrix\n",
    "\n",
    "logit_cv_score = cross_val_score(logit_model1, X, y, cv=10, scoring='roc_auc')\n",
    "rf_cv_score = cross_val_score(rf_model, X2, y2, cv=10, scoring='roc_auc')\n",
    "xgb_cv_score = cross_val_score(xgb_model, X2, y2, cv=10, scoring='roc_auc')"
   ]
  },
  {
   "cell_type": "code",
   "execution_count": 52,
   "metadata": {},
   "outputs": [
    {
     "name": "stdout",
     "output_type": "stream",
     "text": [
      "=== Confusion Matrix ===\n",
      "[[10494  4171]\n",
      " [   49   138]]\n",
      "\n",
      "\n",
      "=== Classification Report ===\n",
      "              precision    recall  f1-score   support\n",
      "\n",
      "           0       1.00      0.72      0.83     14665\n",
      "           1       0.03      0.74      0.06       187\n",
      "\n",
      "    accuracy                           0.72     14852\n",
      "   macro avg       0.51      0.73      0.45     14852\n",
      "weighted avg       0.98      0.72      0.82     14852\n",
      "\n",
      "\n",
      "\n",
      "=== ROC Curve ===\n"
     ]
    },
    {
     "data": {
      "image/png": "[encoded data removed]",
      "text/plain": [
       "<Figure size 432x288 with 1 Axes>"
      ]
     },
     "metadata": {
      "needs_background": "light"
     },
     "output_type": "display_data"
    }
   ],
   "source": [
    "from sklearn.metrics import roc_auc_score, roc_curve, auc\n",
    "\n",
    "print(\"=== Confusion Matrix ===\")\n",
    "print(confusion_matrix(y_test,pd.DataFrame([1 if x >= 0.015 else 0 for x in all_test['log_prob']]))) \n",
    "print('\\n')\n",
    "print(\"=== Classification Report ===\")\n",
    "print(classification_report(y_test,pd.DataFrame([1 if x >= 0.015 else 0 for x in all_test['log_prob']]))) \n",
    "print('\\n') \n",
    "\n",
    "fpr1 = dict()\n",
    "tpr1 = dict()\n",
    "roc_auc1 = dict()\n",
    "print(\"=== ROC Curve ===\")\n",
    "fpr1[\"micro\"], tpr1[\"micro\"], _ = roc_curve(y_test.ravel(), all_mod['log_prob'].loc[y_test.index].ravel())\n",
    "roc_auc1[\"micro\"] = auc(fpr1[\"micro\"], tpr1[\"micro\"])  \n",
    "plt.figure()\n",
    "lw = 2\n",
    "plt.plot(fpr1[\"micro\"], tpr1[\"micro\"], color='darkorange',\n",
    "         lw=lw, label='ROC curve (area = %0.2f)' % roc_auc1[\"micro\"])\n",
    "plt.plot([0, 1], [0, 1], color='navy', lw=lw, linestyle='--')\n",
    "plt.xlim([0.0, 1.0])\n",
    "plt.ylim([0.0, 1.05])\n",
    "plt.xlabel('False Positive Rate')\n",
    "plt.ylabel('True Positive Rate')\n",
    "plt.title('Receiver operating characteristic example')\n",
    "plt.legend(loc=\"lower right\")\n",
    "plt.show()"
   ]
  },
  {
   "cell_type": "code",
   "execution_count": 53,
   "metadata": {},
   "outputs": [
    {
     "name": "stdout",
     "output_type": "stream",
     "text": [
      "=== All AUC Scores ===\n",
      "[0.86511495 0.79553244 0.81771082 0.86905474 0.83395784 0.80750933\n",
      " 0.85211949 0.76227592 0.77670579 0.78903723]\n",
      "\n",
      "\n",
      "=== Mean AUC Score ===\n",
      "Mean AUC Score - Random Forest:  0.8169018549671663\n",
      "\n",
      "\n"
     ]
    }
   ],
   "source": [
    "print(\"=== All AUC Scores ===\")\n",
    "print(logit_cv_score)\n",
    "print('\\n')\n",
    "print(\"=== Mean AUC Score ===\")\n",
    "print(\"Mean AUC Score - Random Forest: \", logit_cv_score.mean())\n",
    "print('\\n')"
   ]
  },
  {
   "cell_type": "code",
   "execution_count": 54,
   "metadata": {},
   "outputs": [
    {
     "name": "stdout",
     "output_type": "stream",
     "text": [
      "=== Confusion Matrix ===\n",
      "[[10219  4446]\n",
      " [   45   142]]\n",
      "\n",
      "\n",
      "=== Classification Report ===\n",
      "              precision    recall  f1-score   support\n",
      "\n",
      "           0       1.00      0.70      0.82     14665\n",
      "           1       0.03      0.76      0.06       187\n",
      "\n",
      "    accuracy                           0.70     14852\n",
      "   macro avg       0.51      0.73      0.44     14852\n",
      "weighted avg       0.98      0.70      0.81     14852\n",
      "\n",
      "\n",
      "\n",
      "=== ROC Curve ===\n"
     ]
    },
    {
     "data": {
      "image/png": "[encoded data removed]",
      "text/plain": [
       "<Figure size 432x288 with 1 Axes>"
      ]
     },
     "metadata": {
      "needs_background": "light"
     },
     "output_type": "display_data"
    }
   ],
   "source": [
    "print(\"=== Confusion Matrix ===\")\n",
    "print(confusion_matrix(y_test2,pd.DataFrame([1 if x >= 0.015 else 0 for x in all_test['rf_prob']])))\n",
    "print('\\n')\n",
    "print(\"=== Classification Report ===\")\n",
    "print(classification_report(y_test2,pd.DataFrame([1 if x >= 0.015 else 0 for x in all_test['rf_prob']])))\n",
    "print('\\n')\n",
    "\n",
    "\n",
    "print(\"=== ROC Curve ===\")\n",
    " \n",
    "fpr2 = dict()\n",
    "tpr2 = dict()\n",
    "roc_auc2 = dict() \n",
    "fpr2[\"micro\"], tpr2[\"micro\"], _ = roc_curve(y_test2.ravel(), all_test['rf_pre'].ravel())\n",
    "roc_auc2[\"micro\"] = auc(fpr2[\"micro\"], tpr2[\"micro\"])  \n",
    "plt.figure()\n",
    "lw = 2\n",
    "plt.plot(fpr2[\"micro\"], tpr2[\"micro\"], color='darkorange',\n",
    "         lw=lw, label='ROC curve (area = %0.2f)' % roc_auc2[\"micro\"])\n",
    "plt.plot([0, 1], [0, 1], color='navy', lw=lw, linestyle='--')\n",
    "plt.xlim([0.0, 1.0])\n",
    "plt.ylim([0.0, 1.05])\n",
    "plt.xlabel('False Positive Rate')\n",
    "plt.ylabel('True Positive Rate')\n",
    "plt.title('Receiver operating characteristic example')\n",
    "plt.legend(loc=\"lower right\")\n",
    "plt.show()"
   ]
  },
  {
   "cell_type": "code",
   "execution_count": 55,
   "metadata": {},
   "outputs": [
    {
     "name": "stdout",
     "output_type": "stream",
     "text": [
      "=== All AUC Scores ===\n",
      "[0.87425133 0.80212817 0.81814921 0.85344788 0.82364777 0.79767269\n",
      " 0.84820168 0.75528734 0.79961904 0.80462166]\n",
      "\n",
      "\n",
      "=== Mean AUC Score ===\n",
      "Mean AUC Score - Random Forest:  0.8177026767423815\n",
      "\n",
      "\n"
     ]
    }
   ],
   "source": [
    "print(\"=== All AUC Scores ===\")\n",
    "print(rf_cv_score)\n",
    "print('\\n')\n",
    "print(\"=== Mean AUC Score ===\")\n",
    "print(\"Mean AUC Score - Random Forest: \", rf_cv_score.mean())\n",
    "print('\\n')"
   ]
  },
  {
   "cell_type": "code",
   "execution_count": 56,
   "metadata": {
    "scrolled": false
   },
   "outputs": [
    {
     "name": "stdout",
     "output_type": "stream",
     "text": [
      "=== Confusion Matrix ===\n",
      "[[10363  4302]\n",
      " [   49   138]]\n",
      "\n",
      "\n",
      "=== Classification Report ===\n",
      "              precision    recall  f1-score   support\n",
      "\n",
      "           0       1.00      0.71      0.83     14665\n",
      "           1       0.03      0.74      0.06       187\n",
      "\n",
      "    accuracy                           0.71     14852\n",
      "   macro avg       0.51      0.72      0.44     14852\n",
      "weighted avg       0.98      0.71      0.82     14852\n",
      "\n",
      "\n",
      "\n",
      "=== ROC Curve ===\n"
     ]
    },
    {
     "data": {
      "image/png": "[encoded data removed]",
      "text/plain": [
       "<Figure size 432x288 with 1 Axes>"
      ]
     },
     "metadata": {
      "needs_background": "light"
     },
     "output_type": "display_data"
    }
   ],
   "source": [
    "print(\"=== Confusion Matrix ===\")\n",
    "print(confusion_matrix(y_test2,pd.DataFrame([1 if x >= 0.015 else 0 for x in all_test['xgb_prob']]) ))\n",
    "print('\\n')\n",
    "print(\"=== Classification Report ===\")\n",
    "print(classification_report(y_test2,pd.DataFrame([1 if x >= 0.015 else 0 for x in all_test['xgb_prob']]) ))\n",
    "print('\\n')\n",
    "\n",
    "print(\"=== ROC Curve ===\")\n",
    "\n",
    "# Compute ROC curve and ROC area for each class\n",
    "fpr3 = dict()\n",
    "tpr3 = dict()\n",
    "roc_auc3 = dict()\n",
    "fpr3[\"micro\"], tpr3[\"micro\"], _ = roc_curve(y_test2.ravel(), all_test['xgb_prob'].ravel())\n",
    "roc_auc3[\"micro\"] = auc(fpr3[\"micro\"], tpr3[\"micro\"])  \n",
    "plt.figure()\n",
    "lw = 2\n",
    "plt.plot(fpr3[\"micro\"], tpr3[\"micro\"], color='darkorange',\n",
    "         lw=lw, label='ROC curve (area = %0.2f)' % roc_auc3[\"micro\"])\n",
    "plt.plot([0, 1], [0, 1], color='navy', lw=lw, linestyle='--')\n",
    "plt.xlim([0.0, 1.0])\n",
    "plt.ylim([0.0, 1.05])\n",
    "plt.xlabel('False Positive Rate')\n",
    "plt.ylabel('True Positive Rate')\n",
    "plt.title('Receiver operating characteristic example')\n",
    "plt.legend(loc=\"lower right\")\n",
    "plt.show()"
   ]
  },
  {
   "cell_type": "code",
   "execution_count": 57,
   "metadata": {},
   "outputs": [
    {
     "name": "stdout",
     "output_type": "stream",
     "text": [
      "=== All AUC Scores ===\n",
      "[0.87226151 0.81355754 0.81358743 0.86494273 0.84116319 0.8144058\n",
      " 0.85040402 0.76092063 0.79139048 0.80824763]\n",
      "\n",
      "\n",
      "=== Mean AUC Score ===\n",
      "Mean AUC Score - Random Forest:  0.8230880959344337\n",
      "\n",
      "\n"
     ]
    }
   ],
   "source": [
    "print(\"=== All AUC Scores ===\")\n",
    "print(xgb_cv_score)\n",
    "print('\\n')\n",
    "print(\"=== Mean AUC Score ===\")\n",
    "print(\"Mean AUC Score - Random Forest: \", xgb_cv_score.mean()) \n",
    "print('\\n')\n"
   ]
  },
  {
   "cell_type": "code",
   "execution_count": 58,
   "metadata": {},
   "outputs": [
    {
     "data": {
      "image/png": "[encoded data removed]",
      "text/plain": [
       "<Figure size 432x288 with 1 Axes>"
      ]
     },
     "metadata": {
      "needs_background": "light"
     },
     "output_type": "display_data"
    }
   ],
   "source": [
    "\n",
    "  \n",
    "plt.figure()\n",
    "lw = 2\n",
    "plt.plot(fpr3[\"micro\"], tpr3[\"micro\"], color='g',\n",
    "         lw=lw, label='xgb_predict (area = %0.2f)' % roc_auc3[\"micro\"])\n",
    "\n",
    "plt.plot(fpr2[\"micro\"], tpr2[\"micro\"], color='b',\n",
    "         lw=lw, label='rf_predict (area = %0.2f)' % roc_auc2[\"micro\"])\n",
    "\n",
    "plt.plot(fpr1[\"micro\"], tpr1[\"micro\"], color='orange',\n",
    "         lw=lw, label='logit_predict (area = %0.2f)' % roc_auc1[\"micro\"])\n",
    "\n",
    "plt.plot([0, 1], [0, 1], color='r', lw=lw, linestyle='--')\n",
    "plt.xlim([0.0, 1.0])\n",
    "plt.ylim([0.0, 1.05])\n",
    "plt.xlabel('False Positive Rate')\n",
    "plt.ylabel('True Positive Rate')\n",
    "plt.title('Receiver operating characteristic example')\n",
    "plt.legend(loc=\"lower right\")\n",
    "plt.show()"
   ]
  },
  {
   "cell_type": "code",
   "execution_count": 59,
   "metadata": {},
   "outputs": [
    {
     "data": {
      "image/png": "[encoded data removed]",
      "text/plain": [
       "<Figure size 432x288 with 1 Axes>"
      ]
     },
     "metadata": {
      "needs_background": "light"
     },
     "output_type": "display_data"
    },
    {
     "data": {
      "image/png": "[encoded data removed]",
      "text/plain": [
       "<Figure size 432x288 with 1 Axes>"
      ]
     },
     "metadata": {
      "needs_background": "light"
     },
     "output_type": "display_data"
    },
    {
     "data": {
      "image/png": "[encoded data removed]",
      "text/plain": [
       "<Figure size 432x288 with 1 Axes>"
      ]
     },
     "metadata": {
      "needs_background": "light"
     },
     "output_type": "display_data"
    },
    {
     "data": {
      "image/png": "[encoded data removed]",
      "text/plain": [
       "<Figure size 432x288 with 1 Axes>"
      ]
     },
     "metadata": {
      "needs_background": "light"
     },
     "output_type": "display_data"
    },
    {
     "data": {
      "image/png": "[encoded data removed]",
      "text/plain": [
       "<Figure size 432x288 with 1 Axes>"
      ]
     },
     "metadata": {
      "needs_background": "light"
     },
     "output_type": "display_data"
    }
   ],
   "source": [
    " \n",
    "\n",
    "continius = ['int_rt', 'orig_upb', 'cltv', 'dti', 'fico']\n",
    "for col in continius:\n",
    "    plt.subplot(111)\n",
    "    a = all_test.groupby(pd.qcut(all_test[col].sort_values(),50,duplicates = 'drop'))[[col, 'log_prob']].mean()\n",
    "    plt.plot(a[col],a['log_prob'], c= 'orange', label='logit_predict') \n",
    "    \n",
    "    d = all_test.groupby(pd.qcut(all_test[col].sort_values(),50,duplicates = 'drop'))[[col, 'rf_prob']].mean()\n",
    "    plt.plot(d[col],d['rf_prob'], c= 'b', label='xbg_predict')\n",
    "    \n",
    "    e = all_test.groupby(pd.qcut(all_test[col].sort_values(),50,duplicates = 'drop'))[[col, 'xgb_prob']].mean()\n",
    "    plt.plot(e[col],e['xgb_prob'], c= 'g', label='rf_predict')\n",
    "    \n",
    "    #f = val_svm.groupby(pd.qcut(val_svm[col],20,duplicates = 'drop'))[[col, 'prob']].mean()\n",
    "    #plt.plot(f[col],f['prob'], c= 'purple', label='svm_predict') \n",
    "\n",
    "    b = all_test.groupby(pd.qcut(all_test[col].sort_values(),50,duplicates = 'drop'))[[col, 'ever_d90']].mean()\n",
    "    plt.scatter(b[col],b['ever_d90'], c= 'r', label = 'ever_d90')\n",
    "    plt.title(\"Predicted vs Observed D90+ Rate by \" + col)\n",
    "    plt.legend()\n",
    "    plt.xlabel(col, fontsize =12)\n",
    "    plt.ylabel('d90 rate',fontsize =12)    \n",
    "\n",
    "    plt.show()"
   ]
  },
  {
   "cell_type": "code",
   "execution_count": 60,
   "metadata": {},
   "outputs": [],
   "source": [
    "predict_actual= all_mod[['int_rt', 'orig_upb', 'cltv', 'dti', 'fico','ever_d90', 'rf_prob','xgb_prob','log_prob']]\n",
    "predict_actual= predict_actual.iloc[y_test.index]"
   ]
  },
  {
   "cell_type": "code",
   "execution_count": 61,
   "metadata": {},
   "outputs": [],
   "source": [
    "from scipy.stats import norm\n",
    "\n",
    "def logit_pvalue(model, x): \n",
    "    p = model.predict_proba(x)\n",
    "    n = len(p)\n",
    "    m = len(model.coef_[0]) + 1\n",
    "    coefs = np.concatenate([model.intercept_, model.coef_[0]])\n",
    "    x_full = np.matrix(np.insert(np.array(x), 0, 1, axis = 1))\n",
    "    ans = np.zeros((m, m))\n",
    "    for i in range(n):\n",
    "        ans = ans + np.dot(np.transpose(x_full[i, :]), x_full[i, :]) * p[i,1] * p[i, 0]\n",
    "    vcov = np.linalg.inv(np.matrix(ans))\n",
    "    se = np.sqrt(np.diag(vcov))\n",
    "    t =  coefs/se\n",
    "    p = (1 - norm.cdf(abs(t))) * 2\n",
    "    return coefs, p"
   ]
  },
  {
   "cell_type": "code",
   "execution_count": 62,
   "metadata": {},
   "outputs": [
    {
     "name": "stderr",
     "output_type": "stream",
     "text": [
      "<ipython-input-61-4b3650fc63f1>:13: RuntimeWarning: invalid value encountered in sqrt\n",
      "  se = np.sqrt(np.diag(vcov))\n"
     ]
    },
    {
     "data": {
      "text/html": [
       "<div>\n",
       "<style scoped>\n",
       "    .dataframe tbody tr th:only-of-type {\n",
       "        vertical-align: middle;\n",
       "    }\n",
       "\n",
       "    .dataframe tbody tr th {\n",
       "        vertical-align: top;\n",
       "    }\n",
       "\n",
       "    .dataframe thead th {\n",
       "        text-align: right;\n",
       "    }\n",
       "</style>\n",
       "<table border=\"1\" class=\"dataframe\">\n",
       "  <thead>\n",
       "    <tr style=\"text-align: right;\">\n",
       "      <th></th>\n",
       "      <th>feature</th>\n",
       "      <th>coeffienct</th>\n",
       "      <th>P_value</th>\n",
       "    </tr>\n",
       "  </thead>\n",
       "  <tbody>\n",
       "    <tr>\n",
       "      <th>39</th>\n",
       "      <td>cnt_borr2</td>\n",
       "      <td>-0.888213</td>\n",
       "      <td>0.000000</td>\n",
       "    </tr>\n",
       "    <tr>\n",
       "      <th>15</th>\n",
       "      <td>fico(299.999, 580.0]</td>\n",
       "      <td>2.787134</td>\n",
       "      <td>0.000000</td>\n",
       "    </tr>\n",
       "    <tr>\n",
       "      <th>16</th>\n",
       "      <td>fico(580.0, 610.0]</td>\n",
       "      <td>3.152150</td>\n",
       "      <td>0.000000</td>\n",
       "    </tr>\n",
       "    <tr>\n",
       "      <th>17</th>\n",
       "      <td>fico(610.0, 673.0]</td>\n",
       "      <td>2.134713</td>\n",
       "      <td>0.000000</td>\n",
       "    </tr>\n",
       "    <tr>\n",
       "      <th>18</th>\n",
       "      <td>fico(673.0, 749.0]</td>\n",
       "      <td>1.121235</td>\n",
       "      <td>0.000001</td>\n",
       "    </tr>\n",
       "    <tr>\n",
       "      <th>33</th>\n",
       "      <td>int_rt(6.495, 8.375]</td>\n",
       "      <td>0.500645</td>\n",
       "      <td>0.002779</td>\n",
       "    </tr>\n",
       "    <tr>\n",
       "      <th>22</th>\n",
       "      <td>cltv(5.999, 67.0]</td>\n",
       "      <td>-0.548852</td>\n",
       "      <td>0.004354</td>\n",
       "    </tr>\n",
       "    <tr>\n",
       "      <th>32</th>\n",
       "      <td>int_rt(6.0, 6.495]</td>\n",
       "      <td>0.361376</td>\n",
       "      <td>0.009524</td>\n",
       "    </tr>\n",
       "    <tr>\n",
       "      <th>25</th>\n",
       "      <td>mi_pctWith_MI</td>\n",
       "      <td>0.414969</td>\n",
       "      <td>0.016569</td>\n",
       "    </tr>\n",
       "    <tr>\n",
       "      <th>9</th>\n",
       "      <td>prop_typeCO</td>\n",
       "      <td>-0.449873</td>\n",
       "      <td>0.036496</td>\n",
       "    </tr>\n",
       "    <tr>\n",
       "      <th>14</th>\n",
       "      <td>loan_purposeN</td>\n",
       "      <td>0.270693</td>\n",
       "      <td>0.037672</td>\n",
       "    </tr>\n",
       "    <tr>\n",
       "      <th>27</th>\n",
       "      <td>cnt_units2</td>\n",
       "      <td>0.575905</td>\n",
       "      <td>0.045012</td>\n",
       "    </tr>\n",
       "    <tr>\n",
       "      <th>44</th>\n",
       "      <td>dti(44.0, 60.0]</td>\n",
       "      <td>0.236562</td>\n",
       "      <td>0.063138</td>\n",
       "    </tr>\n",
       "    <tr>\n",
       "      <th>46</th>\n",
       "      <td>dtiX</td>\n",
       "      <td>0.437790</td>\n",
       "      <td>0.069267</td>\n",
       "    </tr>\n",
       "    <tr>\n",
       "      <th>23</th>\n",
       "      <td>cltv(67.0, 80.0]</td>\n",
       "      <td>-0.307954</td>\n",
       "      <td>0.074876</td>\n",
       "    </tr>\n",
       "    <tr>\n",
       "      <th>47</th>\n",
       "      <td>loan_term180</td>\n",
       "      <td>-0.325131</td>\n",
       "      <td>0.086784</td>\n",
       "    </tr>\n",
       "    <tr>\n",
       "      <th>31</th>\n",
       "      <td>int_rt(5.75, 6.0]</td>\n",
       "      <td>0.186665</td>\n",
       "      <td>0.151571</td>\n",
       "    </tr>\n",
       "    <tr>\n",
       "      <th>30</th>\n",
       "      <td>int_rt(4.249, 5.5]</td>\n",
       "      <td>-0.238260</td>\n",
       "      <td>0.155220</td>\n",
       "    </tr>\n",
       "    <tr>\n",
       "      <th>43</th>\n",
       "      <td>dti(35.0, 44.0]</td>\n",
       "      <td>0.163323</td>\n",
       "      <td>0.185974</td>\n",
       "    </tr>\n",
       "    <tr>\n",
       "      <th>49</th>\n",
       "      <td>loan_termOthers</td>\n",
       "      <td>-0.516269</td>\n",
       "      <td>0.201710</td>\n",
       "    </tr>\n",
       "    <tr>\n",
       "      <th>35</th>\n",
       "      <td>orig_upb(200000.0, 330000.0]</td>\n",
       "      <td>-0.162386</td>\n",
       "      <td>0.210609</td>\n",
       "    </tr>\n",
       "    <tr>\n",
       "      <th>1</th>\n",
       "      <td>flag_fthbX</td>\n",
       "      <td>-0.207377</td>\n",
       "      <td>0.222539</td>\n",
       "    </tr>\n",
       "    <tr>\n",
       "      <th>48</th>\n",
       "      <td>loan_term240</td>\n",
       "      <td>-0.247465</td>\n",
       "      <td>0.259918</td>\n",
       "    </tr>\n",
       "    <tr>\n",
       "      <th>34</th>\n",
       "      <td>orig_upb(120000.0, 200000.0]</td>\n",
       "      <td>-0.120552</td>\n",
       "      <td>0.267424</td>\n",
       "    </tr>\n",
       "    <tr>\n",
       "      <th>20</th>\n",
       "      <td>ficoX</td>\n",
       "      <td>1.588816</td>\n",
       "      <td>0.323187</td>\n",
       "    </tr>\n",
       "    <tr>\n",
       "      <th>11</th>\n",
       "      <td>prop_typeMH</td>\n",
       "      <td>-0.401319</td>\n",
       "      <td>0.333337</td>\n",
       "    </tr>\n",
       "    <tr>\n",
       "      <th>2</th>\n",
       "      <td>flag_fthbY</td>\n",
       "      <td>-0.168568</td>\n",
       "      <td>0.340941</td>\n",
       "    </tr>\n",
       "    <tr>\n",
       "      <th>12</th>\n",
       "      <td>prop_typePU</td>\n",
       "      <td>-0.144277</td>\n",
       "      <td>0.348973</td>\n",
       "    </tr>\n",
       "    <tr>\n",
       "      <th>13</th>\n",
       "      <td>loan_purposeC</td>\n",
       "      <td>0.116218</td>\n",
       "      <td>0.359335</td>\n",
       "    </tr>\n",
       "    <tr>\n",
       "      <th>29</th>\n",
       "      <td>cnt_units4</td>\n",
       "      <td>0.861676</td>\n",
       "      <td>0.384348</td>\n",
       "    </tr>\n",
       "    <tr>\n",
       "      <th>3</th>\n",
       "      <td>occpy_stsI</td>\n",
       "      <td>-0.210799</td>\n",
       "      <td>0.488987</td>\n",
       "    </tr>\n",
       "    <tr>\n",
       "      <th>42</th>\n",
       "      <td>dti(10.0, 25.0]</td>\n",
       "      <td>-0.110437</td>\n",
       "      <td>0.491894</td>\n",
       "    </tr>\n",
       "    <tr>\n",
       "      <th>19</th>\n",
       "      <td>fico(749.0, 779.0]</td>\n",
       "      <td>0.194630</td>\n",
       "      <td>0.494677</td>\n",
       "    </tr>\n",
       "    <tr>\n",
       "      <th>45</th>\n",
       "      <td>dti(60.0, 65.0]</td>\n",
       "      <td>0.187214</td>\n",
       "      <td>0.537781</td>\n",
       "    </tr>\n",
       "    <tr>\n",
       "      <th>28</th>\n",
       "      <td>cnt_units3</td>\n",
       "      <td>0.471039</td>\n",
       "      <td>0.575886</td>\n",
       "    </tr>\n",
       "    <tr>\n",
       "      <th>37</th>\n",
       "      <td>orig_upb(420000.0, 692000.0]</td>\n",
       "      <td>-0.628067</td>\n",
       "      <td>0.633050</td>\n",
       "    </tr>\n",
       "    <tr>\n",
       "      <th>38</th>\n",
       "      <td>orig_upb(9999.999, 20000.0]</td>\n",
       "      <td>0.688359</td>\n",
       "      <td>0.704684</td>\n",
       "    </tr>\n",
       "    <tr>\n",
       "      <th>4</th>\n",
       "      <td>occpy_stsS</td>\n",
       "      <td>0.094012</td>\n",
       "      <td>0.710633</td>\n",
       "    </tr>\n",
       "    <tr>\n",
       "      <th>7</th>\n",
       "      <td>ppmt_pnltyX</td>\n",
       "      <td>0.483222</td>\n",
       "      <td>0.740908</td>\n",
       "    </tr>\n",
       "    <tr>\n",
       "      <th>21</th>\n",
       "      <td>cltv(100.0, 153.0]</td>\n",
       "      <td>0.386072</td>\n",
       "      <td>0.776785</td>\n",
       "    </tr>\n",
       "    <tr>\n",
       "      <th>10</th>\n",
       "      <td>prop_typeCP</td>\n",
       "      <td>-0.240416</td>\n",
       "      <td>0.793167</td>\n",
       "    </tr>\n",
       "    <tr>\n",
       "      <th>36</th>\n",
       "      <td>orig_upb(330000.0, 420000.0]</td>\n",
       "      <td>0.053261</td>\n",
       "      <td>0.809411</td>\n",
       "    </tr>\n",
       "    <tr>\n",
       "      <th>26</th>\n",
       "      <td>mi_pctX</td>\n",
       "      <td>0.232485</td>\n",
       "      <td>0.845181</td>\n",
       "    </tr>\n",
       "    <tr>\n",
       "      <th>41</th>\n",
       "      <td>dti(0.999, 10.0]</td>\n",
       "      <td>0.088026</td>\n",
       "      <td>0.853327</td>\n",
       "    </tr>\n",
       "    <tr>\n",
       "      <th>8</th>\n",
       "      <td>ppmt_pnltyY</td>\n",
       "      <td>-0.143837</td>\n",
       "      <td>0.957914</td>\n",
       "    </tr>\n",
       "    <tr>\n",
       "      <th>40</th>\n",
       "      <td>cnt_borrX</td>\n",
       "      <td>-0.124784</td>\n",
       "      <td>0.965350</td>\n",
       "    </tr>\n",
       "    <tr>\n",
       "      <th>24</th>\n",
       "      <td>cltvX</td>\n",
       "      <td>-0.022618</td>\n",
       "      <td>0.997323</td>\n",
       "    </tr>\n",
       "    <tr>\n",
       "      <th>0</th>\n",
       "      <td>Intercept</td>\n",
       "      <td>-5.081240</td>\n",
       "      <td>NaN</td>\n",
       "    </tr>\n",
       "    <tr>\n",
       "      <th>5</th>\n",
       "      <td>channelR</td>\n",
       "      <td>-0.133648</td>\n",
       "      <td>NaN</td>\n",
       "    </tr>\n",
       "    <tr>\n",
       "      <th>6</th>\n",
       "      <td>channelT</td>\n",
       "      <td>0.133915</td>\n",
       "      <td>NaN</td>\n",
       "    </tr>\n",
       "  </tbody>\n",
       "</table>\n",
       "</div>"
      ],
      "text/plain": [
       "                         feature  coeffienct   P_value\n",
       "39                     cnt_borr2   -0.888213  0.000000\n",
       "15          fico(299.999, 580.0]    2.787134  0.000000\n",
       "16            fico(580.0, 610.0]    3.152150  0.000000\n",
       "17            fico(610.0, 673.0]    2.134713  0.000000\n",
       "18            fico(673.0, 749.0]    1.121235  0.000001\n",
       "33          int_rt(6.495, 8.375]    0.500645  0.002779\n",
       "22             cltv(5.999, 67.0]   -0.548852  0.004354\n",
       "32            int_rt(6.0, 6.495]    0.361376  0.009524\n",
       "25                 mi_pctWith_MI    0.414969  0.016569\n",
       "9                    prop_typeCO   -0.449873  0.036496\n",
       "14                 loan_purposeN    0.270693  0.037672\n",
       "27                    cnt_units2    0.575905  0.045012\n",
       "44               dti(44.0, 60.0]    0.236562  0.063138\n",
       "46                          dtiX    0.437790  0.069267\n",
       "23              cltv(67.0, 80.0]   -0.307954  0.074876\n",
       "47                  loan_term180   -0.325131  0.086784\n",
       "31             int_rt(5.75, 6.0]    0.186665  0.151571\n",
       "30            int_rt(4.249, 5.5]   -0.238260  0.155220\n",
       "43               dti(35.0, 44.0]    0.163323  0.185974\n",
       "49               loan_termOthers   -0.516269  0.201710\n",
       "35  orig_upb(200000.0, 330000.0]   -0.162386  0.210609\n",
       "1                     flag_fthbX   -0.207377  0.222539\n",
       "48                  loan_term240   -0.247465  0.259918\n",
       "34  orig_upb(120000.0, 200000.0]   -0.120552  0.267424\n",
       "20                         ficoX    1.588816  0.323187\n",
       "11                   prop_typeMH   -0.401319  0.333337\n",
       "2                     flag_fthbY   -0.168568  0.340941\n",
       "12                   prop_typePU   -0.144277  0.348973\n",
       "13                 loan_purposeC    0.116218  0.359335\n",
       "29                    cnt_units4    0.861676  0.384348\n",
       "3                     occpy_stsI   -0.210799  0.488987\n",
       "42               dti(10.0, 25.0]   -0.110437  0.491894\n",
       "19            fico(749.0, 779.0]    0.194630  0.494677\n",
       "45               dti(60.0, 65.0]    0.187214  0.537781\n",
       "28                    cnt_units3    0.471039  0.575886\n",
       "37  orig_upb(420000.0, 692000.0]   -0.628067  0.633050\n",
       "38   orig_upb(9999.999, 20000.0]    0.688359  0.704684\n",
       "4                     occpy_stsS    0.094012  0.710633\n",
       "7                    ppmt_pnltyX    0.483222  0.740908\n",
       "21            cltv(100.0, 153.0]    0.386072  0.776785\n",
       "10                   prop_typeCP   -0.240416  0.793167\n",
       "36  orig_upb(330000.0, 420000.0]    0.053261  0.809411\n",
       "26                       mi_pctX    0.232485  0.845181\n",
       "41              dti(0.999, 10.0]    0.088026  0.853327\n",
       "8                    ppmt_pnltyY   -0.143837  0.957914\n",
       "40                     cnt_borrX   -0.124784  0.965350\n",
       "24                         cltvX   -0.022618  0.997323\n",
       "0                      Intercept   -5.081240       NaN\n",
       "5                       channelR   -0.133648       NaN\n",
       "6                       channelT    0.133915       NaN"
      ]
     },
     "execution_count": 62,
     "metadata": {},
     "output_type": "execute_result"
    }
   ],
   "source": [
    "\n",
    "#X= pd.DataFrame(X)\n",
    "X.columns=sample_df_clear.drop(columns='ever_d90').columns.tolist()\n",
    "coefs, p = logit_pvalue(logit_model1, X_train)\n",
    "X_cols_inc = X.columns.tolist()\n",
    "X_cols_inc.insert(0,'Intercept')\n",
    "p_value = pd.DataFrame({'feature':X_cols_inc, 'coeffienct':coefs, 'P_value':p.round(6)})\n",
    "p_value.sort_values(by=['P_value'])"
   ]
  },
  {
   "cell_type": "code",
   "execution_count": null,
   "metadata": {},
   "outputs": [],
   "source": []
  }
 ],
 "metadata": {
  "kernelspec": {
   "display_name": "Python 3",
   "language": "python",
   "name": "python3"
  },
  "language_info": {
   "codemirror_mode": {
    "name": "ipython",
    "version": 3
   },
   "file_extension": ".py",
   "mimetype": "text/x-python",
   "name": "python",
   "nbconvert_exporter": "python",
   "pygments_lexer": "ipython3",
   "version": "3.8.5"
  }
 },
 "nbformat": 4,
 "nbformat_minor": 4
}
